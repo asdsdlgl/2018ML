{
 "cells": [
  {
   "cell_type": "markdown",
   "metadata": {},
   "source": [
    "# HW3\n",
    "\n",
    "### Random Data Generator\n",
    "\n",
    "- univariate gaussian data\n",
    "\n",
    "- polynomial basis linear model\n",
    "\n",
    "### Sqeuential estimate the mean and variance\n",
    "\n",
    "### Baysian Linear regression"
   ]
  },
  {
   "cell_type": "code",
   "execution_count": 1,
   "metadata": {},
   "outputs": [],
   "source": [
    "import math\n",
    "import random\n",
    "import matplotlib.pyplot as plt\n",
    "from IPython.display import Latex, Markdown, Pretty\n",
    "import pandas as pd\n",
    "import numpy as np"
   ]
  },
  {
   "cell_type": "code",
   "execution_count": 2,
   "metadata": {},
   "outputs": [],
   "source": [
    "def Mean(x):\n",
    "    return sum(x) / len(x)\n",
    "\n",
    "def Variance(x):\n",
    "    u = Mean(x)\n",
    "    return sum([(i - u)**2 for i in x]) / len(x)\n",
    "    \n",
    "def Covariance(x, y):\n",
    "    ux = Mean(x)\n",
    "    uy = Mean(y)\n",
    "    return sum([(x[i] - ux)*(y[i] - uy) for i in range(len(x))]) / len(x)\n",
    "\n",
    "class mylogging():\n",
    "    def __init__(self, output=False, nolog=False):\n",
    "        self.logs = \"\"\n",
    "        self.output = output\n",
    "        self.nolog = nolog\n",
    "    \n",
    "    def info(self, s):\n",
    "        if self.output:\n",
    "            print(s)\n",
    "        if not self.nolog:\n",
    "            self.logs += s + \"\\n\""
   ]
  },
  {
   "cell_type": "markdown",
   "metadata": {},
   "source": [
    "### Random Data Generator\n",
    "\n",
    "#### univariate gaussian data\n",
    "\n",
    "- INPUT : expectation value $u$, variance $\\sigma^2$\n",
    "- OUTPUT : one outcome\n",
    "\n",
    "all outcome will distribute like $N(u,\\sigma^2)$\n",
    "\n",
    "##### Marsaglia polar method\n",
    "\n",
    "$$ \\\\\n",
    "-1 \\underline{<} U , V \\underline{<} 1, S = U^2+V^2 \\\\\n",
    "X = U\\sqrt{\\frac{-2\\ln S}{S}}, Y = V\\sqrt{\\frac{-2\\ln S}{S}}, when \\space S < 1\n",
    "$$"
   ]
  },
  {
   "cell_type": "code",
   "execution_count": 3,
   "metadata": {},
   "outputs": [],
   "source": [
    "def Marsaglia():\n",
    "    while True:\n",
    "        U = random.random()*2-1\n",
    "        V = random.random()*2-1\n",
    "        if (U**2)+(V**2) < 1:\n",
    "            break\n",
    "    \n",
    "    S = (U**2)+(V**2)\n",
    "    S = math.sqrt((-2*math.log(S))/S)\n",
    "    return (U*S, V*S)\n",
    "\n",
    "def GaussianDataGenerator(u, v):\n",
    "    sigma = math.sqrt(v)\n",
    "    while True:\n",
    "        D1, D2 = Marsaglia()\n",
    "        yield u + sigma*D1\n",
    "        yield u + sigma*D2"
   ]
  },
  {
   "cell_type": "code",
   "execution_count": 4,
   "metadata": {},
   "outputs": [
    {
     "data": {
      "image/png": "[encoded data removed]",
      "text/plain": [
       "<Figure size 432x288 with 1 Axes>"
      ]
     },
     "metadata": {},
     "output_type": "display_data"
    },
    {
     "data": {
      "text/plain": [
       "[4.994873342829168, 0.6028041993300499]"
      ]
     },
     "execution_count": 4,
     "metadata": {},
     "output_type": "execute_result"
    }
   ],
   "source": [
    "GDG = GaussianDataGenerator(5, 0.6)\n",
    "\n",
    "Gdatas = [next(GDG) for _ in range(10000)]\n",
    "\n",
    "plt.hist(Gdatas, 100)\n",
    "plt.show()\n",
    "[Mean(Gdatas), Variance(Gdatas)]"
   ]
  },
  {
   "cell_type": "markdown",
   "metadata": {},
   "source": [
    "#### polynomial basis linear model\n",
    "\n",
    "$$ y=w^TPhi(x)+e;e \\sim N(0,\\sigma^2) \\\\\n",
    "w^TPhi(x) = \\sum_{i}^{n} w_ix^i\n",
    "$$\n",
    "\n",
    "- INPUT : error variance $\\sigma^2$, weight $w$,basis number $n$ for $Phi(x)$\n",
    "- OUTPUT : one data point $(x,y)$\n",
    "- NOTE : $ -10.0 < x < 10.0 $"
   ]
  },
  {
   "cell_type": "code",
   "execution_count": 5,
   "metadata": {},
   "outputs": [],
   "source": [
    "def Gaussian(u, v):\n",
    "    return lambda x : (math.exp(-1*(((x - u)**2) / (2*v) ) ) / math.sqrt(2*math.pi*v))\n",
    "\n",
    "def Polynomial(w):\n",
    "    return lambda x : sum([w[i]*(x**i) for i in range(len(w))])\n",
    "\n",
    "def PolynomialDataGenerator(n, v, w, x_constrain=(-10,10)):\n",
    "    if len(w) != n:\n",
    "        raise TypeError(\"length of w need equal n, {}!={}\".format(len(w), n))\n",
    "    e = GaussianDataGenerator(u=0,v=v)\n",
    "    phi = Polynomial(w)\n",
    "    x_range = abs(x_constrain[0] - x_constrain[1])\n",
    "    while True:\n",
    "        x = random.random()*x_range - (x_range/2)\n",
    "        y = phi(x) + next(e)\n",
    "        yield (x, y)"
   ]
  },
  {
   "cell_type": "code",
   "execution_count": 6,
   "metadata": {},
   "outputs": [
    {
     "data": {
      "image/png": "[encoded data removed]",
      "text/plain": [
       "<Figure size 432x288 with 1 Axes>"
      ]
     },
     "metadata": {},
     "output_type": "display_data"
    }
   ],
   "source": [
    "dg = PolynomialDataGenerator(3, 25, [5, 4, 3])\n",
    "tmp = [next(dg) for _ in range(10000)]\n",
    "x = [item[0] for item in tmp]\n",
    "y = [item[1] for item in tmp]\n",
    "\n",
    "plt.scatter(x, y)\n",
    "plt.show()"
   ]
  },
  {
   "cell_type": "code",
   "execution_count": 7,
   "metadata": {},
   "outputs": [
    {
     "data": {
      "image/png": "[encoded data removed]",
      "text/plain": [
       "<Figure size 432x288 with 1 Axes>"
      ]
     },
     "metadata": {},
     "output_type": "display_data"
    },
    {
     "name": "stdout",
     "output_type": "stream",
     "text": [
      "CPU times: user 28.9 s, sys: 21.9 s, total: 50.8 s\n",
      "Wall time: 17.2 s\n"
     ]
    }
   ],
   "source": [
    "%%time\n",
    "from IPython.display import clear_output\n",
    "import time \n",
    "dg = PolynomialDataGenerator(n=3,v=10000,w=[0,1,0.01])\n",
    "point_count = 1000\n",
    "show_per_count = 10\n",
    "data_x = []\n",
    "data_y = []\n",
    "show_x = []\n",
    "show_y = []\n",
    "for datapoint in tmp:\n",
    "    x, y = datapoint\n",
    "    \n",
    "    if point_count % show_per_count == 0:\n",
    "        plt.plot(data_x, data_y, 'b.')\n",
    "        plt.plot(show_x, show_y, 'ro')\n",
    "        plt.show()\n",
    "        #time.sleep(0.5)\n",
    "        data_x += show_x\n",
    "        show_x = []\n",
    "        data_y += show_y\n",
    "        show_y = []\n",
    "    else:\n",
    "        show_x.append(x)\n",
    "        show_y.append(y)\n",
    "    \n",
    "    point_count -= 1\n",
    "    if point_count == 0:\n",
    "        break;\n",
    "    if point_count % show_per_count == 0:\n",
    "        clear_output(wait=True)"
   ]
  },
  {
   "cell_type": "markdown",
   "metadata": {},
   "source": [
    "### Sqeuential estimate the mean and variance\n",
    "\n",
    "- INPUT : expectation value $u$, variance $\\sigma^2$\n",
    "- FUNCTION : find cureent estimates, repeat until the estimates converge\n",
    "- OUTPUT : print new data point and cureent estimates each iteration\n",
    "\n",
    "#### Naive algorithm\n",
    "\n",
    "$$ \\\\\n",
    "n = n + 1 \\\\\n",
    "\\sum x_n = x_n + \\sum x_{n-1} \\\\ \n",
    "\\sum x_n^2 = x_n^2 + \\sum x_{n-1}^2 \\\\\n",
    "\\overline{x_n} = \\frac{\\sum x_n}{n} \\\\\n",
    "\\sigma_n^2 = \\frac{\\sum x_n^2}{n} - \\overline{x_n}^2\n",
    "$$\n",
    "\n",
    "#### Welford's online algorithm\n",
    "\n",
    "$$ \\\\\n",
    "\\overline{x_n} = \\frac{(n-1)\\overline{x_{n-1}}+x_n}{n} \\\\\n",
    "\\sigma_n^2 = \\sigma_{n-1}^2 + \\frac{(x_n - \\overline{x_{n-1}})(x_n - \\overline{x_n})-\\sigma_{n-1}^2}{n}\n",
    "$$"
   ]
  },
  {
   "cell_type": "code",
   "execution_count": 161,
   "metadata": {},
   "outputs": [],
   "source": [
    "def NaiveEstimate():\n",
    "    u = 0\n",
    "    v = 1\n",
    "    n = 0\n",
    "    data_sum = 0\n",
    "    data_sum2 = 0\n",
    "    while True:\n",
    "        new_data = (yield (u, v))\n",
    "        n += 1\n",
    "        data_sum += new_data\n",
    "        data_sum2 += new_data**2\n",
    "        u = data_sum / n\n",
    "        v = (data_sum2 / n) - (u**2)\n",
    "\n",
    "def WelfordEstimate():\n",
    "    u = 0\n",
    "    v = 0\n",
    "    n = 0\n",
    "    while True:\n",
    "        new_data = (yield (u, v))\n",
    "        n += 1\n",
    "        next_u = ((n-1)*u + new_data)/n\n",
    "        v = v + ((new_data - u)*(new_data - next_u) - v)/n\n",
    "        u = next_u\n",
    "        \n",
    "def SqeuentialEstimate(dg, es):\n",
    "    current_u = 0\n",
    "    current_v = 1\n",
    "    es = es()\n",
    "    current_u, current_v = next(es)\n",
    "    while True:\n",
    "        new_data = next(dg)\n",
    "        current_u, current_v = es.send(new_data)\n",
    "        yield (new_data, current_u, current_v)"
   ]
  },
  {
   "cell_type": "code",
   "execution_count": 209,
   "metadata": {},
   "outputs": [],
   "source": [
    "def test_SqeuentialEstimate(u, v, converge_threshold = 10**-3, times=1, max_iter=10000, output=False, output_rate = 1, es=NaiveEstimate):\n",
    "    iter_counts = []\n",
    "    errors = []\n",
    "    dg = GaussianDataGenerator(u, v)\n",
    "    mylog = mylogging(output)\n",
    "    \n",
    "    while times != 0:\n",
    "        iter_count = 0\n",
    "        se = SqeuentialEstimate(dg, es=es)\n",
    "        prev_u = None\n",
    "        prev_v = None\n",
    "        test_over = False\n",
    "        \n",
    "        mylog.info(\"\\n\"+\"=\"*10+\"Test Start\"+\"=\"*10+\"\\n\")\n",
    "        \n",
    "        for estimate in se:\n",
    "            iter_count += 1\n",
    "            new_data, next_u, next_v = estimate\n",
    "            \n",
    "            if prev_u != None and prev_v != None:\n",
    "                if abs(next_u - prev_u) <= converge_threshold and abs(next_v - prev_v) <= converge_threshold:\n",
    "                    test_over = True\n",
    "\n",
    "            if iter_count > max_iter and max_iter != -1:\n",
    "                test_over = True;\n",
    "            \n",
    "            error = (next_u - u)**2 + (next_v - v)**2\n",
    "            if ((iter_count-1) % output_rate == 0 and output_rate > 0) or test_over:\n",
    "                mylog.info(\"[{:5d}] new data : {:.3f}\\tcurrent(u,v):({:.3f}, {:.3f}), \\terror : {:.6f}\".format(\n",
    "                    iter_count,\n",
    "                    new_data,\n",
    "                    next_u,\n",
    "                    next_v,\n",
    "                    error))\n",
    "            \n",
    "            if test_over:\n",
    "                break;\n",
    "            \n",
    "            prev_u = next_u\n",
    "            prev_v = next_v\n",
    "                \n",
    "        mylog.info(\"\\n\"+\"=\"*10+\"Test   End\"+\"=\"*10+\"\\n\")\n",
    "        \n",
    "        iter_counts.append(iter_count)\n",
    "        errors.append(error)\n",
    "        \n",
    "        times -= 1\n",
    "        \n",
    "    return (iter_counts, errors, mylog.logs)"
   ]
  },
  {
   "cell_type": "code",
   "execution_count": 210,
   "metadata": {},
   "outputs": [
    {
     "data": {
      "text/plain": [
       "\n",
       "==========Test Start==========\n",
       "\n",
       "[    1] new data : 5.791\tcurrent(u,v):(5.791, 0.000), \terror : 0.986128\n",
       "[  101] new data : 4.697\tcurrent(u,v):(5.017, 0.600), \terror : 0.000288\n",
       "[  201] new data : 4.214\tcurrent(u,v):(4.983, 0.588), \terror : 0.000447\n",
       "[  301] new data : 3.509\tcurrent(u,v):(4.998, 0.627), \terror : 0.000746\n",
       "[  401] new data : 6.105\tcurrent(u,v):(5.004, 0.602), \terror : 0.000020\n",
       "[  470] new data : 5.331\tcurrent(u,v):(4.976, 0.594), \terror : 0.000606\n",
       "\n",
       "==========Test   End==========\n",
       "\n"
      ]
     },
     "execution_count": 210,
     "metadata": {},
     "output_type": "execute_result"
    }
   ],
   "source": [
    "_, _, logs = test_SqeuentialEstimate(5, 0.6, converge_threshold=10**-3, times=1, output_rate=100, es=WelfordEstimate)\n",
    "Pretty(logs)"
   ]
  },
  {
   "cell_type": "code",
   "execution_count": 239,
   "metadata": {},
   "outputs": [],
   "source": [
    "# test input parameter\n",
    "test_u = 10\n",
    "test_v = 10\n",
    "test_times = 1000\n",
    "test_converge = 10**-3\n",
    "test_ess = [NaiveEstimate, WelfordEstimate]"
   ]
  },
  {
   "cell_type": "code",
   "execution_count": 240,
   "metadata": {},
   "outputs": [
    {
     "data": {
      "image/png": "[encoded data removed]",
      "text/plain": [
       "<Figure size 432x288 with 1 Axes>"
      ]
     },
     "metadata": {},
     "output_type": "display_data"
    },
    {
     "data": {
      "image/png": "[encoded data removed]",
      "text/plain": [
       "<Figure size 432x288 with 1 Axes>"
      ]
     },
     "metadata": {},
     "output_type": "display_data"
    },
    {
     "name": "stdout",
     "output_type": "stream",
     "text": [
      "CPU times: user 15.8 s, sys: 547 ms, total: 16.4 s\n",
      "Wall time: 15.6 s\n"
     ]
    }
   ],
   "source": [
    "%%time\n",
    "\n",
    "for test_es in test_ess:\n",
    "    test_outputs, test_errors,_ = test_SqeuentialEstimate(es=test_es, u=test_u, v=test_v, converge_threshold=test_converge, times=test_times, output_rate=-1)\n",
    "    plt.hist(test_outputs, 100, label=\"test u:{:.3f},v:{:.3f}, error u:{:.3f}\".format(Mean(test_outputs), Variance(test_outputs), Mean(test_errors)))\n",
    "    \n",
    "    plt.title(str(test_es))\n",
    "    plt.legend()\n",
    "    plt.show()"
   ]
  },
  {
   "cell_type": "markdown",
   "metadata": {},
   "source": [
    "### Baysian Linear regression\n",
    "\n",
    "- INPUT : for inital prior $\\sim N(0, b^{-1}I)$ parameter $b$, error variance $\\sigma^2$, weight $w$,basis number $n$ for $Phi(x)$\n",
    "- FUNCTION : gen one data point and update prior and calculate the predictive distribution, repeat until the posterior converges\n",
    "- OUTPUT : print the new data point and the current parameter for posterior and predictive distribution\n",
    "\n",
    "$$\\\\\n",
    "k : datapoints \\space numbers \\\\\n",
    "S^{-1} : prior \\space covariance \\space matrix , n*n\\\\\n",
    "m : prior \\space mean \\space vector, n*1\\\\\n",
    "X : design \\space matrix, k*n \\\\\n",
    "y_{pred} = Xw + error, k*1 \\\\\n",
    "posterior_b = aX^TX + S = aX^TX + prior_b\\\\\n",
    "w = posterior_u = posterior_b^{-1}(aX^Ty + Sm) = posterior_b^{-1}(aX^Ty + (prior_b)(prior_u)) \\\\\n",
    "$$\n",
    "\n",
    "#### Predictive distribution\n",
    "\n",
    "$$ P(Y|\\theta) = \\int P(Y|w, \\theta)P(w, \\theta) \\sim dw \\\\\n",
    "P(Y|w, \\theta) \\sim N(Y|Xw, a^{-1}) \\\\\n",
    "P(w, \\theta) = Prior \\sim N(W|u, b^{-1}) \\\\\n",
    "P(Y|\\theta) \\sim N(Xw, a^{-1} + XbX^T) \\\\\n",
    "$$"
   ]
  },
  {
   "cell_type": "code",
   "execution_count": 16,
   "metadata": {},
   "outputs": [],
   "source": [
    "from MatrixOP import *\n",
    "from Polynomial import *"
   ]
  },
  {
   "cell_type": "code",
   "execution_count": 112,
   "metadata": {},
   "outputs": [],
   "source": [
    "def ShowMatrixByLatex(m):\n",
    "    latexstr = \"\"\n",
    "    \n",
    "    row = len(m)\n",
    "    col = len(m[0])\n",
    "    \n",
    "    latexstr += r'\\begin{bmatrix} '\n",
    "    \n",
    "    for i in range(row):\n",
    "        if i != 0:\n",
    "            latexstr += r' \\\\'\n",
    "        \n",
    "        for j in range(col):\n",
    "            if j != 0:\n",
    "                latexstr += \" & \"\n",
    "            \n",
    "            latexstr += \"{:.3f}\".format(m[i][j])\n",
    "        \n",
    "    \n",
    "    latexstr += r' \\end{bmatrix}'\n",
    "    \n",
    "    return \"$\" + latexstr + \"$\""
   ]
  },
  {
   "cell_type": "code",
   "execution_count": 17,
   "metadata": {},
   "outputs": [],
   "source": [
    "def Design_Matrix(datas, N):\n",
    "    # create matrix\n",
    "    Design_X = [];\n",
    "    Target_y = [];\n",
    "    \n",
    "    if type(datas) != list:\n",
    "        datas = [datas]\n",
    "\n",
    "    for index, row in enumerate(datas):\n",
    "        x,y = row\n",
    "        Design_X.append([basis(x, i) for i in range(N)])\n",
    "        Target_y.append([y])\n",
    "    \n",
    "    return (Design_X,Target_y)"
   ]
  },
  {
   "cell_type": "code",
   "execution_count": 18,
   "metadata": {},
   "outputs": [],
   "source": [
    "def BaysianLinearRegression(dataGenerator, likelihood_a, prior_u, prior_b):\n",
    "    n = len(prior_u)\n",
    "    input_u = prior_u\n",
    "    input_b = prior_b\n",
    "    \n",
    "    \n",
    "    while True:\n",
    "        new_data = next(dataGenerator)\n",
    "        X,y = Design_Matrix(new_data,n)\n",
    "        \n",
    "        # b' = aX^TX + b\n",
    "        posterior_b = mul_matrix_scalar(likelihood_a, mul_matrix(tranpose_matrix(X), X))\n",
    "        posterior_b = add_matrix(posterior_b, prior_b)\n",
    "        # u' = b'^-1(aX^Ty + bu)\n",
    "        posterior_u = add_matrix(mul_matrix_scalar(likelihood_a ,mul_matrix(tranpose_matrix(X), y)), mul_matrix(prior_b, prior_u))\n",
    "        posterior_u = mul_matrix(inverse_matrix(posterior_b), posterior_u)\n",
    "        \n",
    "        reset = yield (new_data, posterior_u, posterior_b)\n",
    "\n",
    "        if reset == True:\n",
    "            prior_u = input_u\n",
    "            prior_b = input_b\n",
    "            yield (prior_u, prior_b)\n",
    "        else:\n",
    "            prior_u = posterior_u\n",
    "            prior_b = posterior_b"
   ]
  },
  {
   "cell_type": "code",
   "execution_count": 231,
   "metadata": {},
   "outputs": [],
   "source": [
    "def Design_X(xs, n):\n",
    "    if type(xs) != list:\n",
    "        xs = list(x)\n",
    "    return [[basis(x,i) for i in range(n)] for x in xs]\n",
    "    \n",
    "def PredictiveDistribution(a, w, b):\n",
    "    n = len(w)\n",
    "    b_i = inverse_matrix(b)\n",
    "    return lambda x: (mul_matrix(Design_X(x,n),w), add_matrix_scalar((1/a), mul_matrix(mul_matrix(Design_X(x,n), b_i), tranpose_matrix(Design_X(x,n)))) )\n",
    "\n",
    "def crossAddList(a,b):\n",
    "    crossList = []\n",
    "    for z in zip(a,b):\n",
    "        crossList += [z[0], z[1]]\n",
    "    return crossList\n",
    "\n",
    "def ShowPredictiveDistribution(a, w, b, plotline, datas, new_data=None):\n",
    "    if type(datas) != dict:\n",
    "        raise TypeError(\"Type of datas must be hash : {}\".format(str(type(datas))))\n",
    "    if type(plotline) != dict:\n",
    "        raise TypeError(\"Type of plotline must be hash : {}\".format(str(type(plotline))))\n",
    "    \n",
    "    ypd = PredictiveDistribution(a, w, b)\n",
    "    predict_y, predict_covar = ypd(plotline['x'])\n",
    "    predict_y = [y[0] for y in predict_y]\n",
    "    predict_var = [predict_covar[i][i] for i in range(len(predict_covar))]\n",
    "    predict_var = [math.sqrt(v) for v in predict_var]\n",
    "    \n",
    "    clear_output(wait=True)\n",
    "    \n",
    "    # many vertical lines\n",
    "    #plt.plot([plotline['x'],plotline['x']],[list(map(lambda x:x[0]-x[1], zip(predict_y,predict_var))), list(map(lambda x:x[0]+x[1], zip(predict_y,predict_var)))], 'r', linewidth=0.1)\n",
    "    \n",
    "    # one line\n",
    "    plt.plot(crossAddList(plotline['x'] , plotline['x']), crossAddList(list(map(lambda x:x[0]-x[1], zip(predict_y,predict_var))) , list(map(lambda x:x[0]+x[1], zip(predict_y,predict_var)))), 'r', linewidth=0.05)\n",
    "    plt.plot(datas['x'], datas['y'], 'bo', markerfacecolor='none', label='data points')\n",
    "    \n",
    "    plt.plot(plotline['x'], plotline['y'], 'g', label='target')\n",
    "    plt.plot(plotline['x'], predict_y, 'r', label='predict')\n",
    "    #plt.plot(plotline['x'], [predict.f(x) for x in plotline['x']], 'r', label='predict')\n",
    "    \n",
    "    if new_data:\n",
    "        plt.plot(new_data['x'], new_data['y'], 'ro', label='new data')\n",
    "    \n",
    "    plt.ylim((-2,2))\n",
    "    plt.legend()\n",
    "                    \n",
    "    plt.show()"
   ]
  },
  {
   "cell_type": "code",
   "execution_count": 225,
   "metadata": {},
   "outputs": [],
   "source": [
    "def test_BaysianLinearRegression(\n",
    "        BLR, \n",
    "        target_equation=None, \n",
    "        converge_threshold=10**-3, \n",
    "        times=1, \n",
    "        max_iter=10000, \n",
    "        output=False, \n",
    "        output_rate=1,\n",
    "        x_contrain=(-10,10),\n",
    "        likelihood_a=1):\n",
    "    \n",
    "    iter_counts = []\n",
    "    plot_x = list(np.linspace(x_contrain[0], x_contrain[1], 500))\n",
    "    \n",
    "    if target_equation:\n",
    "        target_y = [target_equation.f(x) for x in plot_x];\n",
    "    else:\n",
    "        target_y = None\n",
    "    mylog = mylogging(output, False)\n",
    "    \n",
    "    \n",
    "    \n",
    "    while times != 0:\n",
    "        iter_count = 0\n",
    "        data_x = []\n",
    "        data_y = []\n",
    "        test_over = False;\n",
    "        converge_count = 3\n",
    "        \n",
    "        # reset BLR\n",
    "        next(BLR)\n",
    "        prev_u, prev_b = BLR.send(True)\n",
    "    \n",
    "        mylog.info(\"\\n\"+\"=\"*10+\"Test Start\"+\"=\"*10+\"\\n\")\n",
    "        \n",
    "        # plot\n",
    "        if target_y:\n",
    "            ShowPredictiveDistribution(likelihood_a, prev_u, prev_b,{'x':plot_x,'y':target_y},{'x':[],'y':[]})\n",
    "        \n",
    "        for regression in BLR:\n",
    "            iter_count += 1\n",
    "            x,y = regression[0]\n",
    "            u = regression[1]\n",
    "            b = regression[2]\n",
    "            predict = polynomial_equation(u)\n",
    "            \n",
    "            \n",
    "            # converge check\n",
    "            All_converge = True\n",
    "            distance_u = sub_matrix(u, prev_u)\n",
    "            distance_b = sub_matrix(b, prev_b)\n",
    "            for rows in distance_u:\n",
    "                for item in rows:\n",
    "                    if abs(item) > converge_threshold:\n",
    "                        All_converge = False\n",
    "                        break;\n",
    "                \n",
    "                if not All_converge:\n",
    "                    break;\n",
    "                \n",
    "            if All_converge:\n",
    "                converge_count -= 1\n",
    "            \n",
    "            if converge_count == 0:\n",
    "                test_over = True\n",
    "                \n",
    "                \n",
    "            if iter_count >= max_iter and max_iter != -1:\n",
    "                test_over = True\n",
    "                \n",
    "            if (iter_count-1) % output_rate == 0 or test_over:\n",
    "                mylog.info(\"[{:5d}] new data(x,y) : ({:.3f}, {:.3f})\".format(iter_count, x, y))\n",
    "                mylog.info(\"\\n predictive equation : \" + str(predict) + \"\\n\")\n",
    "                mylog.info(\"posterior u : \" + ShowMatrixByLatex(u) + \"  cov : \" + ShowMatrixByLatex(inverse_matrix(b)) + \"\\n\")\n",
    "                \n",
    "                # plot\n",
    "                if target_y:\n",
    "                    ShowPredictiveDistribution(likelihood_a, u, b,{'x':plot_x,'y':target_y},{'x':data_x,'y':data_y},{'x':x,'y':y})\n",
    "            \n",
    "            if test_over:\n",
    "                break\n",
    "            \n",
    "            data_x.append(x)\n",
    "            data_y.append(y)\n",
    "                \n",
    "            prev_u = u;\n",
    "            prev_b = b;\n",
    "        \n",
    "        \n",
    "        mylog.info(\"\\n\"+\"=\"*10+\"Test   End\"+\"=\"*10+\"\\n\")\n",
    "        iter_counts.append(iter_count)\n",
    "        \n",
    "        times -= 1\n",
    "        \n",
    "    return (iter_counts, mylog.logs)"
   ]
  },
  {
   "cell_type": "code",
   "execution_count": 232,
   "metadata": {},
   "outputs": [
    {
     "data": {
      "image/png": "[encoded data removed]",
      "text/plain": [
       "<Figure size 432x288 with 1 Axes>"
      ]
     },
     "metadata": {},
     "output_type": "display_data"
    }
   ],
   "source": [
    "#%%time\n",
    "# one test data w = [0, 0, 0, 0.01]\n",
    "# input parameter\n",
    "error_v = 0.01\n",
    "w = [0, 1, 0, -1/6,0,1/120,0,-1/5040]\n",
    "n = 8\n",
    "\n",
    "# n*n\n",
    "prior_b = tranpose_matrix(unit_matrix(n=n))\n",
    "# n*1\n",
    "prior_u = [[0] for _ in range(n)]\n",
    "# likelihood gaussian variance\n",
    "likelihood_a = (10**1)*2\n",
    "error_v = 1/likelihood_a\n",
    "x_range = (-math.pi, math.pi)\n",
    "#x_range = (-10, 10)\n",
    "\n",
    "dg = PolynomialDataGenerator(n, error_v, w, x_range)\n",
    "blr = BaysianLinearRegression(dg, likelihood_a, prior_u, prior_b)\n",
    "target_e = polynomial_equation(w)\n",
    "_, _ = test_BaysianLinearRegression(blr, target_e,converge_threshold=10**-3,times=1, max_iter=20, output_rate=1, x_contrain=x_range, likelihood_a=likelihood_a)\n"
   ]
  },
  {
   "cell_type": "code",
   "execution_count": 125,
   "metadata": {},
   "outputs": [
    {
     "data": {
      "text/markdown": [
       "\n",
       "==========Test Start==========\n",
       "\n",
       "[    1] new data(x,y) : (-3.135, 20.894)\n",
       "\n",
       " predictive equation : $$y = +1.91x^2-0.61x^1+0.19$$\n",
       "\n",
       "posterior u : $\\begin{bmatrix} 0.194 \\\\-0.609 \\\\1.910 \\end{bmatrix}$  cov : $\\begin{bmatrix} 0.991 & 0.029 & -0.091 \\\\0.029 & 0.909 & 0.287 \\\\-0.091 & 0.287 & 0.102 \\end{bmatrix}$\n",
       "\n",
       "[    2] new data(x,y) : (2.270, 28.901)\n",
       "\n",
       " predictive equation : $$y = +3.44x^2+4.42x^1+1.02$$\n",
       "\n",
       "posterior u : $\\begin{bmatrix} 1.020 \\\\4.419 \\\\3.435 \\end{bmatrix}$  cov : $\\begin{bmatrix} 0.967 & -0.116 & -0.136 \\\\-0.116 & 0.022 & 0.018 \\\\-0.136 & 0.018 & 0.020 \\end{bmatrix}$\n",
       "\n",
       "[    3] new data(x,y) : (7.075, 181.778)\n",
       "\n",
       " predictive equation : $$y = +2.99x^2+4.00x^1+4.03$$\n",
       "\n",
       "posterior u : $\\begin{bmatrix} 4.029 \\\\4.002 \\\\2.986 \\end{bmatrix}$  cov : $\\begin{bmatrix} 0.077 & 0.007 & -0.003 \\\\0.007 & 0.005 & -0.001 \\\\-0.003 & -0.001 & 0.000 \\end{bmatrix}$\n",
       "\n",
       "[    4] new data(x,y) : (-2.174, 9.730)\n",
       "\n",
       " predictive equation : $$y = +2.99x^2+3.99x^1+4.11$$\n",
       "\n",
       "posterior u : $\\begin{bmatrix} 4.113 \\\\3.988 \\\\2.986 \\end{bmatrix}$  cov : $\\begin{bmatrix} 0.063 & 0.009 & -0.003 \\\\0.009 & 0.005 & -0.001 \\\\-0.003 & -0.001 & 0.000 \\end{bmatrix}$\n",
       "\n",
       "[    5] new data(x,y) : (-9.766, 252.236)\n",
       "\n",
       " predictive equation : $$y = +3.00x^2+3.91x^1+3.91$$\n",
       "\n",
       "posterior u : $\\begin{bmatrix} 3.914 \\\\3.910 \\\\3.004 \\end{bmatrix}$  cov : $\\begin{bmatrix} 0.037 & -0.001 & -0.001 \\\\-0.001 & 0.001 & 0.000 \\\\-0.001 & 0.000 & 0.000 \\end{bmatrix}$\n",
       "\n",
       "[    6] new data(x,y) : (-3.431, 27.357)\n",
       "\n",
       " predictive equation : $$y = +3.00x^2+3.88x^1+4.28$$\n",
       "\n",
       "posterior u : $\\begin{bmatrix} 4.276 \\\\3.879 \\\\2.998 \\end{bmatrix}$  cov : $\\begin{bmatrix} 0.029 & -0.000 & -0.000 \\\\-0.000 & 0.001 & 0.000 \\\\-0.000 & 0.000 & 0.000 \\end{bmatrix}$\n",
       "\n",
       "[    7] new data(x,y) : (-6.758, 115.665)\n",
       "\n",
       " predictive equation : $$y = +3.00x^2+3.86x^1+4.32$$\n",
       "\n",
       "posterior u : $\\begin{bmatrix} 4.324 \\\\3.864 \\\\2.998 \\end{bmatrix}$  cov : $\\begin{bmatrix} 0.028 & 0.000 & -0.000 \\\\0.000 & 0.001 & 0.000 \\\\-0.000 & 0.000 & 0.000 \\end{bmatrix}$\n",
       "\n",
       "[    8] new data(x,y) : (3.477, 54.808)\n",
       "\n",
       " predictive equation : $$y = +3.00x^2+3.88x^1+4.46$$\n",
       "\n",
       "posterior u : $\\begin{bmatrix} 4.464 \\\\3.881 \\\\2.998 \\end{bmatrix}$  cov : $\\begin{bmatrix} 0.024 & -0.000 & -0.000 \\\\-0.000 & 0.001 & 0.000 \\\\-0.000 & 0.000 & 0.000 \\end{bmatrix}$\n",
       "\n",
       "[    9] new data(x,y) : (-1.966, 9.656)\n",
       "\n",
       " predictive equation : $$y = +2.99x^2+3.87x^1+4.69$$\n",
       "\n",
       "posterior u : $\\begin{bmatrix} 4.694 \\\\3.868 \\\\2.993 \\end{bmatrix}$  cov : $\\begin{bmatrix} 0.020 & -0.000 & -0.000 \\\\-0.000 & 0.001 & 0.000 \\\\-0.000 & 0.000 & 0.000 \\end{bmatrix}$\n",
       "\n",
       "[   10] new data(x,y) : (-4.557, 47.571)\n",
       "\n",
       " predictive equation : $$y = +3.00x^2+3.89x^1+4.51$$\n",
       "\n",
       "posterior u : $\\begin{bmatrix} 4.509 \\\\3.894 \\\\2.996 \\end{bmatrix}$  cov : $\\begin{bmatrix} 0.018 & 0.000 & -0.000 \\\\0.000 & 0.001 & 0.000 \\\\-0.000 & 0.000 & 0.000 \\end{bmatrix}$\n",
       "\n",
       "[   11] new data(x,y) : (6.826, 169.825)\n",
       "\n",
       " predictive equation : $$y = +2.99x^2+3.87x^1+4.49$$\n",
       "\n",
       "posterior u : $\\begin{bmatrix} 4.489 \\\\3.867 \\\\2.993 \\end{bmatrix}$  cov : $\\begin{bmatrix} 0.018 & -0.000 & -0.000 \\\\-0.000 & 0.000 & 0.000 \\\\-0.000 & 0.000 & 0.000 \\end{bmatrix}$\n",
       "\n",
       "[   12] new data(x,y) : (3.451, 56.487)\n",
       "\n",
       " predictive equation : $$y = +2.99x^2+3.90x^1+4.85$$\n",
       "\n",
       "posterior u : $\\begin{bmatrix} 4.850 \\\\3.903 \\\\2.990 \\end{bmatrix}$  cov : $\\begin{bmatrix} 0.016 & -0.000 & -0.000 \\\\-0.000 & 0.000 & 0.000 \\\\-0.000 & 0.000 & 0.000 \\end{bmatrix}$\n",
       "\n",
       "[   13] new data(x,y) : (2.280, 30.257)\n",
       "\n",
       " predictive equation : $$y = +2.99x^2+3.91x^1+4.97$$\n",
       "\n",
       "posterior u : $\\begin{bmatrix} 4.970 \\\\3.909 \\\\2.988 \\end{bmatrix}$  cov : $\\begin{bmatrix} 0.015 & -0.000 & -0.000 \\\\-0.000 & 0.000 & 0.000 \\\\-0.000 & 0.000 & 0.000 \\end{bmatrix}$\n",
       "\n",
       "[   14] new data(x,y) : (7.928, 224.615)\n",
       "\n",
       " predictive equation : $$y = +2.99x^2+3.93x^1+4.94$$\n",
       "\n",
       "posterior u : $\\begin{bmatrix} 4.939 \\\\3.927 \\\\2.991 \\end{bmatrix}$  cov : $\\begin{bmatrix} 0.014 & -0.000 & -0.000 \\\\-0.000 & 0.000 & 0.000 \\\\-0.000 & 0.000 & 0.000 \\end{bmatrix}$\n",
       "\n",
       "[   15] new data(x,y) : (-7.237, 134.232)\n",
       "\n",
       " predictive equation : $$y = +2.99x^2+3.91x^1+4.95$$\n",
       "\n",
       "posterior u : $\\begin{bmatrix} 4.952 \\\\3.912 \\\\2.993 \\end{bmatrix}$  cov : $\\begin{bmatrix} 0.014 & -0.000 & -0.000 \\\\-0.000 & 0.000 & 0.000 \\\\-0.000 & 0.000 & 0.000 \\end{bmatrix}$\n",
       "\n",
       "[   16] new data(x,y) : (3.553, 57.165)\n",
       "\n",
       " predictive equation : $$y = +2.99x^2+3.92x^1+5.00$$\n",
       "\n",
       "posterior u : $\\begin{bmatrix} 5.001 \\\\3.916 \\\\2.992 \\end{bmatrix}$  cov : $\\begin{bmatrix} 0.013 & -0.000 & -0.000 \\\\-0.000 & 0.000 & 0.000 \\\\-0.000 & 0.000 & 0.000 \\end{bmatrix}$\n",
       "\n",
       "[   17] new data(x,y) : (-3.130, 22.090)\n",
       "\n",
       " predictive equation : $$y = +2.99x^2+3.92x^1+5.00$$\n",
       "\n",
       "posterior u : $\\begin{bmatrix} 5.004 \\\\3.915 \\\\2.992 \\end{bmatrix}$  cov : $\\begin{bmatrix} 0.012 & -0.000 & -0.000 \\\\-0.000 & 0.000 & 0.000 \\\\-0.000 & 0.000 & 0.000 \\end{bmatrix}$\n",
       "\n",
       "[   18] new data(x,y) : (-0.305, 3.574)\n",
       "\n",
       " predictive equation : $$y = +2.99x^2+3.92x^1+4.95$$\n",
       "\n",
       "posterior u : $\\begin{bmatrix} 4.948 \\\\3.916 \\\\2.993 \\end{bmatrix}$  cov : $\\begin{bmatrix} 0.011 & -0.000 & -0.000 \\\\-0.000 & 0.000 & 0.000 \\\\-0.000 & 0.000 & 0.000 \\end{bmatrix}$\n",
       "\n",
       "[   19] new data(x,y) : (6.755, 169.218)\n",
       "\n",
       " predictive equation : $$y = +3.00x^2+3.93x^1+4.95$$\n",
       "\n",
       "posterior u : $\\begin{bmatrix} 4.953 \\\\3.933 \\\\2.996 \\end{bmatrix}$  cov : $\\begin{bmatrix} 0.011 & -0.000 & -0.000 \\\\-0.000 & 0.000 & 0.000 \\\\-0.000 & 0.000 & 0.000 \\end{bmatrix}$\n",
       "\n",
       "[   20] new data(x,y) : (4.903, 93.948)\n",
       "\n",
       " predictive equation : $$y = +3.00x^2+3.91x^1+4.84$$\n",
       "\n",
       "posterior u : $\\begin{bmatrix} 4.843 \\\\3.913 \\\\2.996 \\end{bmatrix}$  cov : $\\begin{bmatrix} 0.011 & -0.000 & -0.000 \\\\-0.000 & 0.000 & 0.000 \\\\-0.000 & 0.000 & 0.000 \\end{bmatrix}$\n",
       "\n",
       "[   21] new data(x,y) : (5.714, 126.576)\n",
       "\n",
       " predictive equation : $$y = +3.00x^2+3.93x^1+4.88$$\n",
       "\n",
       "posterior u : $\\begin{bmatrix} 4.883 \\\\3.928 \\\\2.997 \\end{bmatrix}$  cov : $\\begin{bmatrix} 0.011 & -0.000 & -0.000 \\\\-0.000 & 0.000 & 0.000 \\\\-0.000 & 0.000 & 0.000 \\end{bmatrix}$\n",
       "\n",
       "[   22] new data(x,y) : (7.718, 213.391)\n",
       "\n",
       " predictive equation : $$y = +3.00x^2+3.92x^1+4.89$$\n",
       "\n",
       "posterior u : $\\begin{bmatrix} 4.892 \\\\3.925 \\\\2.996 \\end{bmatrix}$  cov : $\\begin{bmatrix} 0.010 & -0.000 & -0.000 \\\\-0.000 & 0.000 & -0.000 \\\\-0.000 & -0.000 & 0.000 \\end{bmatrix}$\n",
       "\n",
       "[   23] new data(x,y) : (4.118, 72.480)\n",
       "\n",
       " predictive equation : $$y = +3.00x^2+3.93x^1+4.93$$\n",
       "\n",
       "posterior u : $\\begin{bmatrix} 4.929 \\\\3.928 \\\\2.995 \\end{bmatrix}$  cov : $\\begin{bmatrix} 0.010 & -0.000 & -0.000 \\\\-0.000 & 0.000 & 0.000 \\\\-0.000 & 0.000 & 0.000 \\end{bmatrix}$\n",
       "\n",
       "[   24] new data(x,y) : (-7.264, 135.157)\n",
       "\n",
       " predictive equation : $$y = +3.00x^2+3.92x^1+4.93$$\n",
       "\n",
       "posterior u : $\\begin{bmatrix} 4.933 \\\\3.920 \\\\2.997 \\end{bmatrix}$  cov : $\\begin{bmatrix} 0.010 & -0.000 & -0.000 \\\\-0.000 & 0.000 & 0.000 \\\\-0.000 & 0.000 & 0.000 \\end{bmatrix}$\n",
       "\n",
       "\n",
       "==========Test   End==========\n",
       "\n"
      ],
      "text/plain": [
       "<IPython.core.display.Markdown object>"
      ]
     },
     "execution_count": 125,
     "metadata": {},
     "output_type": "execute_result"
    }
   ],
   "source": [
    "error_v = 1\n",
    "w = [5, 4, 3]\n",
    "n = 3\n",
    "\n",
    "# n*n\n",
    "prior_b = tranpose_matrix(unit_matrix(n=n))\n",
    "# n*1\n",
    "prior_u = [[0] for _ in range(n)]\n",
    "# likelihood gaussian variance\n",
    "likelihood_a = 10**1\n",
    "\n",
    "\n",
    "dg = PolynomialDataGenerator(n, error_v, w)\n",
    "blr = BaysianLinearRegression(dg, likelihood_a, prior_u, prior_b)\n",
    "_, logs = test_BaysianLinearRegression(blr, converge_threshold=10**-2, times=1, max_iter=1000, output_rate=1)\n",
    "Markdown(logs)"
   ]
  },
  {
   "cell_type": "code",
   "execution_count": 127,
   "metadata": {},
   "outputs": [
    {
     "data": {
      "text/plain": [
       "(array([10.,  8., 11., 13., 23., 18., 10.,  2.,  4.,  1.]),\n",
       " array([ 29. ,  39.4,  49.8,  60.2,  70.6,  81. ,  91.4, 101.8, 112.2,\n",
       "        122.6, 133. ]),\n",
       " <a list of 10 Patch objects>)"
      ]
     },
     "execution_count": 127,
     "metadata": {},
     "output_type": "execute_result"
    },
    {
     "data": {
      "image/png": "[encoded data removed]",
      "text/plain": [
       "<Figure size 432x288 with 1 Axes>"
      ]
     },
     "metadata": {},
     "output_type": "display_data"
    }
   ],
   "source": [
    "error_v = 1\n",
    "w = [0, 1, 2, 0.5]\n",
    "n = 4\n",
    "\n",
    "# n*n\n",
    "prior_b = tranpose_matrix(unit_matrix(n=n))\n",
    "# n*1\n",
    "prior_u = [[0] for _ in range(n)]\n",
    "# likelihood gaussian variance\n",
    "likelihood_a = 10**1\n",
    "\n",
    "\n",
    "dg = PolynomialDataGenerator(n, error_v, w)\n",
    "blr = BaysianLinearRegression(dg, likelihood_a, prior_u, prior_b)\n",
    "outcomes, _ = test_BaysianLinearRegression(blr, converge_threshold=10**-3, times=100, max_iter=1000, output_rate=1001)\n",
    "plt.hist(outcomes, 10)"
   ]
  },
  {
   "cell_type": "code",
   "execution_count": 128,
   "metadata": {},
   "outputs": [
    {
     "data": {
      "image/png": "[encoded data removed]",
      "text/plain": [
       "<Figure size 432x288 with 1 Axes>"
      ]
     },
     "metadata": {},
     "output_type": "display_data"
    },
    {
     "data": {
      "text/markdown": [
       "$$y = +0.50x^3+2.01x^2+1.01x^1-0.17$$"
      ],
      "text/plain": [
       "<IPython.core.display.Markdown object>"
      ]
     },
     "execution_count": 128,
     "metadata": {},
     "output_type": "execute_result"
    }
   ],
   "source": [
    "_, predict_w, _ = next(blr) \n",
    "predict_distribution = polynomial_equation(predict_w)\n",
    "x = np.linspace(-10,10,1000)\n",
    "plt.plot(x, [predict_distribution.f(i) for i in x])\n",
    "plt.show()\n",
    "Markdown(str(predict_distribution))"
   ]
  },
  {
   "cell_type": "code",
   "execution_count": 148,
   "metadata": {},
   "outputs": [
    {
     "data": {
      "image/png": "[encoded data removed]",
      "text/plain": [
       "<Figure size 432x288 with 1 Axes>"
      ]
     },
     "metadata": {},
     "output_type": "display_data"
    },
    {
     "name": "stdout",
     "output_type": "stream",
     "text": [
      "CPU times: user 3.77 s, sys: 243 ms, total: 4.02 s\n",
      "Wall time: 3.7 s\n"
     ]
    }
   ],
   "source": [
    "%%time\n",
    "_, prior_w, prior_b = next(blr)\n",
    "ypd = PredictiveDistribution(likelihood_a, prior_w, prior_b)\n",
    "x = np.linspace(-1,1,1000)\n",
    "y,covar = ypd(x)\n",
    "y =[item[0] for item in y]\n",
    "\n",
    "var = [covar[i][i] for i in range(len(covar))]\n",
    "var = [math.sqrt(v) for v in var]\n",
    "\n",
    "# many vertical lines\n",
    "#plt.plot([x,x],[list(map(lambda x:x[0]-x[1], zip(y,var))), list(map(lambda x:x[0]+x[1], zip(y,var)))], 'r', linewidth=0.05)\n",
    "\n",
    "# one line\n",
    "plt.plot(crossAddList(x,x),crossAddList(list(map(lambda x:x[0]-x[1], zip(y,var))), list(map(lambda x:x[0]+x[1], zip(y,var)))), 'r', linewidth=0.025)\n",
    "plt.plot(x,y,'r')\n",
    "plt.show()"
   ]
  },
  {
   "cell_type": "code",
   "execution_count": 150,
   "metadata": {},
   "outputs": [
    {
     "data": {
      "image/png": "[encoded data removed]",
      "text/plain": [
       "<Figure size 432x288 with 1 Axes>"
      ]
     },
     "metadata": {},
     "output_type": "display_data"
    },
    {
     "name": "stdout",
     "output_type": "stream",
     "text": [
      "CPU times: user 364 ms, sys: 242 ms, total: 606 ms\n",
      "Wall time: 244 ms\n"
     ]
    }
   ],
   "source": [
    "%%time\n",
    "# one line\n",
    "plt.plot(crossAddList(x,x),crossAddList(list(map(lambda x:x[0]-x[1], zip(y,var))), list(map(lambda x:x[0]+x[1], zip(y,var)))), 'r', linewidth=0.025)\n",
    "plt.plot(x,y,'r')\n",
    "plt.show()"
   ]
  },
  {
   "cell_type": "code",
   "execution_count": 151,
   "metadata": {},
   "outputs": [
    {
     "data": {
      "image/png": "[encoded data removed]",
      "text/plain": [
       "<Figure size 432x288 with 1 Axes>"
      ]
     },
     "metadata": {},
     "output_type": "display_data"
    },
    {
     "name": "stdout",
     "output_type": "stream",
     "text": [
      "CPU times: user 1.65 s, sys: 204 ms, total: 1.86 s\n",
      "Wall time: 1.47 s\n"
     ]
    }
   ],
   "source": [
    "%%time\n",
    "# many vertical lines\n",
    "plt.plot([x,x],[list(map(lambda x:x[0]-x[1], zip(y,var))), list(map(lambda x:x[0]+x[1], zip(y,var)))], 'r', linewidth=0.05)\n",
    "plt.plot(x,y,'r')\n",
    "plt.show()"
   ]
  },
  {
   "cell_type": "code",
   "execution_count": null,
   "metadata": {},
   "outputs": [],
   "source": []
  }
 ],
 "metadata": {
  "kernelspec": {
   "display_name": "Python 3",
   "language": "python",
   "name": "python3"
  },
  "language_info": {
   "codemirror_mode": {
    "name": "ipython",
    "version": 3
   },
   "file_extension": ".py",
   "mimetype": "text/x-python",
   "name": "python",
   "nbconvert_exporter": "python",
   "pygments_lexer": "ipython3",
   "version": "3.6.6"
  }
 },
 "nbformat": 4,
 "nbformat_minor": 2
}
