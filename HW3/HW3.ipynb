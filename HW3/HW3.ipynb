{
 "cells": [
  {
   "cell_type": "markdown",
   "metadata": {},
   "source": [
    "# HW3\n",
    "\n",
    "### Random Data Generator\n",
    "\n",
    "- univariate gaussian data\n",
    "\n",
    "- polynomial basis linear model\n",
    "\n",
    "### Sqeuential estimate the mean and variance\n",
    "\n",
    "### Baysian Linear regression"
   ]
  },
  {
   "cell_type": "code",
   "execution_count": 11,
   "metadata": {},
   "outputs": [],
   "source": [
    "import math\n",
    "import random\n",
    "import matplotlib.pyplot as plt\n",
    "from IPython.display import Latex, Markdown, Pretty\n",
    "import pandas as pd\n",
    "import numpy as np"
   ]
  },
  {
   "cell_type": "code",
   "execution_count": 2,
   "metadata": {},
   "outputs": [],
   "source": [
    "def Mean(x):\n",
    "    return sum(x) / len(x)\n",
    "\n",
    "def Variance(x):\n",
    "    u = Mean(x)\n",
    "    return sum([(i - u)**2 for i in x]) / len(x)\n",
    "    \n",
    "def Covariance(x, y):\n",
    "    ux = Mean(x)\n",
    "    uy = Mean(y)\n",
    "    return sum([(x[i] - ux)*(y[i] - uy) for i in range(len(x))]) / len(x)\n",
    "\n",
    "class mylogging():\n",
    "    def __init__(self, output=False, nolog=False):\n",
    "        self.logs = \"\"\n",
    "        self.output = output\n",
    "        self.nolog = nolog\n",
    "    \n",
    "    def info(self, s):\n",
    "        if self.output:\n",
    "            print(s)\n",
    "        if not self.nolog:\n",
    "            self.logs += s + \"\\n\""
   ]
  },
  {
   "cell_type": "markdown",
   "metadata": {},
   "source": [
    "### Random Data Generator\n",
    "\n",
    "#### univariate gaussian data\n",
    "\n",
    "- INPUT : expectation value $u$, variance $\\sigma^2$\n",
    "- OUTPUT : one outcome\n",
    "\n",
    "all outcome will distribute like $N(u,\\sigma^2)$\n",
    "\n",
    "##### Marsaglia polar method\n",
    "\n",
    "$$ \\\\\n",
    "-1 \\underline{<} U , V \\underline{<} 1, S = U^2+V^2 \\\\\n",
    "X = U\\sqrt{\\frac{-2\\ln S}{S}}, Y = V\\sqrt{\\frac{-2\\ln S}{S}}, when \\space S < 1\n",
    "$$"
   ]
  },
  {
   "cell_type": "code",
   "execution_count": 3,
   "metadata": {},
   "outputs": [],
   "source": [
    "def Marsaglia():\n",
    "    while True:\n",
    "        U = random.random()*2-1\n",
    "        V = random.random()*2-1\n",
    "        if (U**2)+(V**2) < 1:\n",
    "            break\n",
    "    \n",
    "    S = (U**2)+(V**2)\n",
    "    S = math.sqrt((-2*math.log(S))/S)\n",
    "    return (U*S, V*S)\n",
    "\n",
    "def GaussianDataGenerator(u, v):\n",
    "    sigma = math.sqrt(v)\n",
    "    while True:\n",
    "        D1, D2 = Marsaglia()\n",
    "        yield u + sigma*D1\n",
    "        yield u + sigma*D2"
   ]
  },
  {
   "cell_type": "code",
   "execution_count": 4,
   "metadata": {},
   "outputs": [
    {
     "data": {
      "image/png": "[encoded data removed]",
      "text/plain": [
       "<Figure size 432x288 with 1 Axes>"
      ]
     },
     "metadata": {},
     "output_type": "display_data"
    },
    {
     "data": {
      "text/plain": [
       "[4.997524947259819, 0.6049442640827968]"
      ]
     },
     "execution_count": 4,
     "metadata": {},
     "output_type": "execute_result"
    }
   ],
   "source": [
    "GDG = GaussianDataGenerator(5, 0.6)\n",
    "\n",
    "Gdatas = [next(GDG) for _ in range(10000)]\n",
    "\n",
    "plt.hist(Gdatas, 100)\n",
    "plt.show()\n",
    "[Mean(Gdatas), Variance(Gdatas)]"
   ]
  },
  {
   "cell_type": "markdown",
   "metadata": {},
   "source": [
    "#### polynomial basis linear model\n",
    "\n",
    "$$ y=w^TPhi(x)+e;e \\sim N(0,\\sigma^2) \\\\\n",
    "w^TPhi(x) = \\sum_{i}^{n} w_ix^i\n",
    "$$\n",
    "\n",
    "- INPUT : error variance $\\sigma^2$, weight $w$,basis number $n$ for $Phi(x)$\n",
    "- OUTPUT : one data point $(x,y)$\n",
    "- NOTE : $ -10.0 < x < 10.0 $"
   ]
  },
  {
   "cell_type": "code",
   "execution_count": 5,
   "metadata": {},
   "outputs": [],
   "source": [
    "def Gaussian(u, v):\n",
    "    return lambda x : (math.exp(-1*(((x - u)**2) / (2*v) ) ) / math.sqrt(2*math.pi*v))\n",
    "\n",
    "def Polynomial(w):\n",
    "    return lambda x : sum([w[i]*(x**i) for i in range(len(w))])\n",
    "\n",
    "def PolynomialDataGenerator(n, v, w):\n",
    "    if len(w) != n:\n",
    "        raise TypeError(\"length of w need equal n, {}!={}\".format(len(w), n))\n",
    "    e = GaussianDataGenerator(u=0,v=v)\n",
    "    phi = Polynomial(w)\n",
    "    while True:\n",
    "        x = random.random()*20 - 10\n",
    "        y = phi(x) + next(e)\n",
    "        yield (x, y)"
   ]
  },
  {
   "cell_type": "code",
   "execution_count": 6,
   "metadata": {},
   "outputs": [
    {
     "data": {
      "image/png": "[encoded data removed]",
      "text/plain": [
       "<Figure size 432x288 with 1 Axes>"
      ]
     },
     "metadata": {},
     "output_type": "display_data"
    }
   ],
   "source": [
    "dg = PolynomialDataGenerator(3, 25, [5, 4, 3])\n",
    "tmp = [next(dg) for _ in range(10000)]\n",
    "x = [item[0] for item in tmp]\n",
    "y = [item[1] for item in tmp]\n",
    "\n",
    "plt.scatter(x, y)\n",
    "plt.show()"
   ]
  },
  {
   "cell_type": "code",
   "execution_count": 7,
   "metadata": {},
   "outputs": [
    {
     "data": {
      "image/png": "[encoded data removed]",
      "text/plain": [
       "<Figure size 432x288 with 1 Axes>"
      ]
     },
     "metadata": {},
     "output_type": "display_data"
    },
    {
     "name": "stdout",
     "output_type": "stream",
     "text": [
      "CPU times: user 30.2 s, sys: 22.2 s, total: 52.4 s\n",
      "Wall time: 17.7 s\n"
     ]
    }
   ],
   "source": [
    "%%time\n",
    "from IPython.display import clear_output\n",
    "import time \n",
    "dg = PolynomialDataGenerator(n=3,v=10000,w=[0,1,0.01])\n",
    "point_count = 1000\n",
    "show_per_count = 10\n",
    "data_x = []\n",
    "data_y = []\n",
    "show_x = []\n",
    "show_y = []\n",
    "for datapoint in tmp:\n",
    "    x, y = datapoint\n",
    "    \n",
    "    if point_count % show_per_count == 0:\n",
    "        plt.plot(data_x, data_y, 'b.')\n",
    "        plt.plot(show_x, show_y, 'ro')\n",
    "        plt.show()\n",
    "        #time.sleep(0.5)\n",
    "        data_x += show_x\n",
    "        show_x = []\n",
    "        data_y += show_y\n",
    "        show_y = []\n",
    "    else:\n",
    "        show_x.append(x)\n",
    "        show_y.append(y)\n",
    "    \n",
    "    point_count -= 1\n",
    "    if point_count == 0:\n",
    "        break;\n",
    "    if point_count % show_per_count == 0:\n",
    "        clear_output(wait=True)"
   ]
  },
  {
   "cell_type": "markdown",
   "metadata": {},
   "source": [
    "### Sqeuential estimate the mean and variance\n",
    "\n",
    "- INPUT : expectation value $u$, variance $\\sigma^2$\n",
    "- FUNCTION : find cureent estimates, repeat until the estimates converge\n",
    "- OUTPUT : print new data point and cureent estimates each iteration"
   ]
  },
  {
   "cell_type": "code",
   "execution_count": 8,
   "metadata": {},
   "outputs": [],
   "source": [
    "def NaiveEstimate():\n",
    "    u = 0\n",
    "    v = 1\n",
    "    n = 0\n",
    "    data_sum = 0\n",
    "    data_sum2 = 0\n",
    "    while True:\n",
    "        new_data = (yield (u, v))\n",
    "        n += 1\n",
    "        data_sum += new_data\n",
    "        data_sum2 += new_data**2\n",
    "        u = data_sum / n\n",
    "        v = (data_sum2 / n) - (u**2)\n",
    "\n",
    "def SqeuentialEstimate(dg, es=NaiveEstimate):\n",
    "    current_u = 0\n",
    "    current_v = 1\n",
    "    es = es()\n",
    "    current_u, current_v = next(es)\n",
    "    while True:\n",
    "        new_data = next(dg)\n",
    "        current_u, current_v = es.send(new_data)\n",
    "        yield (new_data, current_u, current_v)"
   ]
  },
  {
   "cell_type": "code",
   "execution_count": 9,
   "metadata": {},
   "outputs": [],
   "source": [
    "def test_SqeuentialEstimate(u, v, converge_threshold = 10**-2, times=1, max_iter=10000, output=False, output_rate = 1):\n",
    "    iter_counts = []\n",
    "    dg = GaussianDataGenerator(u, v)\n",
    "    mylog = mylogging(output)\n",
    "    \n",
    "    while times != 0:\n",
    "        iter_count = 0\n",
    "        se = SqeuentialEstimate(dg)\n",
    "        prev_u = None\n",
    "        prev_v = None\n",
    "        \n",
    "        mylog.info(\"\\n\"+\"=\"*10+\"Test Start\"+\"=\"*10+\"\\n\")\n",
    "        \n",
    "        for estimate in se:\n",
    "            iter_count += 1\n",
    "            new_data, next_u, next_v = estimate\n",
    "            if (iter_count-1) % output_rate == 0:\n",
    "                mylog.info(\"[{:5d}] new data : {:.3f}\\tcurrent(u,v):({:.3f}, {:.3f})\".format(\n",
    "                    iter_count,\n",
    "                    new_data,\n",
    "                    next_u,\n",
    "                    next_v,))\n",
    "            if prev_u != None and prev_v != None:\n",
    "                if abs(next_u - prev_u) <= converge_threshold and abs(next_v - prev_v) <= converge_threshold:\n",
    "                    break\n",
    "\n",
    "            if iter_count > max_iter and max_iter != -1:\n",
    "                break;\n",
    "            \n",
    "            prev_u = next_u\n",
    "            prev_v = next_v\n",
    "                \n",
    "        mylog.info(\"\\n\"+\"=\"*10+\"Test   End\"+\"=\"*10+\"\\n\")\n",
    "        \n",
    "        iter_counts.append(iter_count)\n",
    "        \n",
    "        times -= 1\n",
    "        \n",
    "    return (iter_counts, mylog.logs)"
   ]
  },
  {
   "cell_type": "code",
   "execution_count": 12,
   "metadata": {},
   "outputs": [
    {
     "data": {
      "text/plain": [
       "\n",
       "==========Test Start==========\n",
       "\n",
       "[    1] new data : 6.113\tcurrent(u,v):(6.113, 0.000)\n",
       "[   11] new data : 4.868\tcurrent(u,v):(4.879, 0.471)\n",
       "[   21] new data : 5.538\tcurrent(u,v):(5.033, 0.723)\n",
       "[   31] new data : 3.624\tcurrent(u,v):(5.040, 0.806)\n",
       "[   41] new data : 4.852\tcurrent(u,v):(4.970, 0.757)\n",
       "[   51] new data : 5.191\tcurrent(u,v):(4.991, 0.808)\n",
       "\n",
       "==========Test   End==========\n",
       "\n",
       "\n",
       "==========Test Start==========\n",
       "\n",
       "[    1] new data : 5.883\tcurrent(u,v):(5.883, 0.000)\n",
       "[   11] new data : 5.607\tcurrent(u,v):(5.059, 0.556)\n",
       "[   21] new data : 4.677\tcurrent(u,v):(4.832, 0.736)\n",
       "[   31] new data : 5.087\tcurrent(u,v):(4.818, 0.570)\n",
       "[   41] new data : 4.271\tcurrent(u,v):(4.832, 0.544)\n",
       "[   51] new data : 3.772\tcurrent(u,v):(4.883, 0.642)\n",
       "\n",
       "==========Test   End==========\n",
       "\n"
      ]
     },
     "execution_count": 12,
     "metadata": {},
     "output_type": "execute_result"
    }
   ],
   "source": [
    "_, logs = test_SqeuentialEstimate(5, 0.6, times=2, output_rate=10)\n",
    "Pretty(logs)"
   ]
  },
  {
   "cell_type": "code",
   "execution_count": 13,
   "metadata": {},
   "outputs": [
    {
     "name": "stdout",
     "output_type": "stream",
     "text": [
      "CPU times: user 7.5 s, sys: 10.7 s, total: 18.2 s\n",
      "Wall time: 18.2 s\n"
     ]
    }
   ],
   "source": [
    "%%time\n",
    "test_outputs,_ = test_SqeuentialEstimate(5, 0.6, times=1000)"
   ]
  },
  {
   "cell_type": "code",
   "execution_count": 14,
   "metadata": {},
   "outputs": [
    {
     "data": {
      "image/png": "[encoded data removed]",
      "text/plain": [
       "<Figure size 432x288 with 1 Axes>"
      ]
     },
     "metadata": {},
     "output_type": "display_data"
    }
   ],
   "source": [
    "plt.hist(test_outputs, 100)\n",
    "plt.show()"
   ]
  },
  {
   "cell_type": "markdown",
   "metadata": {},
   "source": [
    "### Baysian Linear regression\n",
    "\n",
    "- INPUT : for inital prior $\\sim N(0, b^{-1}I)$ parameter $b$, error variance $\\sigma^2$, weight $w$,basis number $n$ for $Phi(x)$\n",
    "- FUNCTION : gen one data point and update prior and calculate the predictive distribution, repeat until the posterior converges\n",
    "- OUTPUT : print the new data point and the current parameter for posterior and predictive distribution\n",
    "\n",
    "$$\\\\\n",
    "k : datapoints \\space numbers \\\\\n",
    "S^{-1} : prior \\space covariance \\space matrix , n*n\\\\\n",
    "m : prior \\space mean \\space vector, n*1\\\\\n",
    "X : design \\space matrix, k*n \\\\\n",
    "y_{pred} = Xw + error, k*1 \\\\\n",
    "posterior_b = aX^TX + S = aX^TX + prior_b\\\\\n",
    "w = posterior_u = posterior_b^{-1}(aX^Ty + Sm) = posterior_b^{-1}(aX^Ty + (prior_b)(prior_u)) \\\\\n",
    "$$\n",
    "\n",
    "#### Predictive distribution\n",
    "\n",
    "$$ P(Y|\\theta) = \\int P(Y|w, \\theta)P(w, \\theta) \\sim dw \\\\\n",
    "P(Y|w, \\theta) \\sim N(Y|Xw, a^{-1}) \\\\\n",
    "P(w, \\theta) = Prior \\sim N(W|u, b^{-1}) \\\\\n",
    "P(Y|\\theta) \\sim N(Xw, a^{-1} + XbX^T) \\\\\n",
    "$$"
   ]
  },
  {
   "cell_type": "code",
   "execution_count": 15,
   "metadata": {},
   "outputs": [],
   "source": [
    "from MatrixOP import *\n",
    "from Polynomial import *"
   ]
  },
  {
   "cell_type": "code",
   "execution_count": 16,
   "metadata": {},
   "outputs": [],
   "source": [
    "def Design_Matrix(datas, N):\n",
    "    # create matrix\n",
    "    Design_X = [];\n",
    "    Target_y = [];\n",
    "    \n",
    "    if type(datas) != list:\n",
    "        datas = [datas]\n",
    "\n",
    "    for index, row in enumerate(datas):\n",
    "        x,y = row\n",
    "        Design_X.append([basis(x, i) for i in range(N)])\n",
    "        Target_y.append([y])\n",
    "    \n",
    "    return (Design_X,Target_y)"
   ]
  },
  {
   "cell_type": "code",
   "execution_count": 17,
   "metadata": {},
   "outputs": [],
   "source": [
    "def BaysianLinearRegression(dataGenerator, likelihood_a, prior_u, prior_b):\n",
    "    n = len(prior_u)\n",
    "    input_u = prior_u\n",
    "    input_b = prior_b\n",
    "    \n",
    "    \n",
    "    while True:\n",
    "        new_data = next(dataGenerator)\n",
    "        X,y = Design_Matrix(new_data,n)\n",
    "        \n",
    "        # b' = aX^TX + b\n",
    "        posterior_b = mul_matrix_scalar(likelihood_a, mul_matrix(tranpose_matrix(X), X))\n",
    "        posterior_b = add_matrix(posterior_b, prior_b)\n",
    "        # u' = b'^-1(aX^Ty + bu)\n",
    "        posterior_u = add_matrix(mul_matrix_scalar(likelihood_a ,mul_matrix(tranpose_matrix(X), y)), mul_matrix(prior_b, prior_u))\n",
    "        posterior_u = mul_matrix(inverse_matrix(posterior_b), posterior_u)\n",
    "        \n",
    "        reset = yield (new_data, posterior_u, posterior_b)\n",
    "\n",
    "        if reset == True:\n",
    "            prior_u = input_u\n",
    "            prior_b = input_b\n",
    "            yield (prior_u, prior_b)\n",
    "        else:\n",
    "            prior_u = posterior_u\n",
    "            prior_b = posterior_b"
   ]
  },
  {
   "cell_type": "code",
   "execution_count": 18,
   "metadata": {},
   "outputs": [],
   "source": [
    "def test_BaysianLinearRegression(BLR, target_equation=None, converge_threshold=10**-3, times=1, max_iter=10000, output=False, output_rate = 1):\n",
    "    iter_counts = []\n",
    "    plot_x = np.linspace(-10, 10, 1000)\n",
    "    \n",
    "    if target_equation:\n",
    "        target_y = [target_equation.f(x) for x in plot_x];\n",
    "    else:\n",
    "        target_y = None\n",
    "    mylog = mylogging(output)\n",
    "    \n",
    "    \n",
    "    \n",
    "    while times != 0:\n",
    "        iter_count = 0\n",
    "        data_x = []\n",
    "        data_y = []\n",
    "        test_over = False;\n",
    "        \n",
    "        # reset BLR\n",
    "        next(BLR)\n",
    "        prev_u, prev_b = BLR.send(True)\n",
    "    \n",
    "        mylog.info(\"\\n\"+\"=\"*10+\"Test Start\"+\"=\"*10+\"\\n\")\n",
    "        \n",
    "        for regression in BLR:\n",
    "            iter_count += 1\n",
    "            x,y = regression[0]\n",
    "            u = regression[1]\n",
    "            b = regression[2]\n",
    "            predict = polynomial_equation(u)\n",
    "            \n",
    "            \n",
    "            # converge check\n",
    "            All_converge = True\n",
    "            distance_u = sub_matrix(u, prev_u)\n",
    "            distance_b = sub_matrix(b, prev_b)\n",
    "            for rows in distance_u:\n",
    "                for item in rows:\n",
    "                    if abs(item) > converge_threshold:\n",
    "                        All_converge = False\n",
    "                        break;\n",
    "                \n",
    "                if not All_converge:\n",
    "                    break;\n",
    "                \n",
    "            if All_converge:\n",
    "                test_over = True\n",
    "                \n",
    "            if iter_count >= max_iter and max_iter != -1:\n",
    "                test_over = True\n",
    "                \n",
    "            if (iter_count-1) % output_rate == 0 or test_over:\n",
    "                mylog.info(\"[{:5d}] new data(x,y) : ({:.3f}, {:.3f})\".format(iter_count, x, y))\n",
    "                mylog.info(\"\\n predictive distribution : \" + str(predict) + \"\\n\")\n",
    "                \n",
    "                # plot\n",
    "                if target_y:\n",
    "                    clear_output(wait=True)\n",
    "                    plt.plot(data_x, data_y, 'bo', markerfacecolor='none')\n",
    "                    plt.plot(x, y, 'yo', markerfacecolor='none')\n",
    "                    plt.plot(plot_x, target_y, 'g', label='target')\n",
    "                    plt.plot(plot_x, [predict.f(x) for x in plot_x], 'r', label='predict')\n",
    "                    plt.legend()\n",
    "                    \n",
    "                    plt.show()\n",
    "            \n",
    "            if test_over:\n",
    "                break\n",
    "            \n",
    "            data_x.append(x)\n",
    "            data_y.append(y)\n",
    "                \n",
    "            prev_u = u;\n",
    "            prev_b = b;\n",
    "        \n",
    "        \n",
    "        mylog.info(\"\\n\"+\"=\"*10+\"Test   End\"+\"=\"*10+\"\\n\")\n",
    "        iter_counts.append(iter_count)\n",
    "        \n",
    "        times -= 1\n",
    "        \n",
    "    return (iter_counts, mylog.logs)"
   ]
  },
  {
   "cell_type": "code",
   "execution_count": 19,
   "metadata": {},
   "outputs": [],
   "source": [
    "# one test data w = [0, 0, 0, 0.01]\n",
    "# input parameter\n",
    "error_v = 5\n",
    "w = [0, 0, 0, 0.01]\n",
    "n = 4\n",
    "\n",
    "# n*n\n",
    "prior_b = tranpose_matrix(unit_matrix(n=n))\n",
    "# n*1\n",
    "prior_u = [[0] for _ in range(n)]\n",
    "# likelihood gaussian variance\n",
    "likelihood_a = 1\n",
    "\n",
    "dg = PolynomialDataGenerator(n, error_v, w)\n",
    "blr = BaysianLinearRegression(dg, 1, prior_u, prior_b)\n",
    "target_e = polynomial_equation(w)"
   ]
  },
  {
   "cell_type": "code",
   "execution_count": 20,
   "metadata": {},
   "outputs": [
    {
     "data": {
      "image/png": "[encoded data removed]",
      "text/plain": [
       "<Figure size 432x288 with 1 Axes>"
      ]
     },
     "metadata": {},
     "output_type": "display_data"
    },
    {
     "name": "stdout",
     "output_type": "stream",
     "text": [
      "[20]\n"
     ]
    },
    {
     "data": {
      "text/markdown": [
       "\n",
       "==========Test Start==========\n",
       "\n",
       "[    1] new data(x,y) : (1.333, -0.160)\n",
       "\n",
       " predictive distribution : $$y = -0.03x^3-0.02x^2-0.02x^1-0.01$$\n",
       "\n",
       "[    2] new data(x,y) : (-9.946, -10.200)\n",
       "\n",
       " predictive distribution : $$y = +0.01x^3-0.05x^2-0.03x^1-0.02$$\n",
       "\n",
       "[    3] new data(x,y) : (8.963, 7.128)\n",
       "\n",
       " predictive distribution : $$y = +0.01x^3-0.00x^2-0.06x^1-0.05$$\n",
       "\n",
       "[    4] new data(x,y) : (9.630, 8.259)\n",
       "\n",
       " predictive distribution : $$y = +0.01x^3-0.00x^2+0.08x^1-0.12$$\n",
       "\n",
       "[    5] new data(x,y) : (-6.742, -3.100)\n",
       "\n",
       " predictive distribution : $$y = +0.01x^3-0.00x^2-0.02x^1-0.04$$\n",
       "\n",
       "[    6] new data(x,y) : (7.530, 5.366)\n",
       "\n",
       " predictive distribution : $$y = +0.01x^3-0.00x^2+0.12x^1+0.11$$\n",
       "\n",
       "[    7] new data(x,y) : (-5.494, -2.766)\n",
       "\n",
       " predictive distribution : $$y = +0.01x^3-0.00x^2+0.18x^1+0.01$$\n",
       "\n",
       "[    8] new data(x,y) : (-4.023, -0.350)\n",
       "\n",
       " predictive distribution : $$y = +0.01x^3-0.00x^2+0.13x^1+0.16$$\n",
       "\n",
       "[    9] new data(x,y) : (-5.035, 2.476)\n",
       "\n",
       " predictive distribution : $$y = +0.01x^3-0.01x^2-0.07x^1+0.51$$\n",
       "\n",
       "[   10] new data(x,y) : (-1.031, -1.246)\n",
       "\n",
       " predictive distribution : $$y = +0.01x^3-0.00x^2-0.10x^1+0.09$$\n",
       "\n",
       "[   11] new data(x,y) : (1.672, 0.347)\n",
       "\n",
       " predictive distribution : $$y = +0.01x^3-0.00x^2-0.08x^1+0.18$$\n",
       "\n",
       "[   12] new data(x,y) : (-5.976, -4.374)\n",
       "\n",
       " predictive distribution : $$y = +0.01x^3-0.00x^2+0.03x^1+0.11$$\n",
       "\n",
       "[   13] new data(x,y) : (-3.749, -2.721)\n",
       "\n",
       " predictive distribution : $$y = +0.01x^3-0.00x^2+0.09x^1-0.06$$\n",
       "\n",
       "[   14] new data(x,y) : (-9.270, -9.146)\n",
       "\n",
       " predictive distribution : $$y = +0.01x^3-0.00x^2+0.08x^1-0.04$$\n",
       "\n",
       "[   15] new data(x,y) : (-8.719, -7.094)\n",
       "\n",
       " predictive distribution : $$y = +0.01x^3-0.00x^2+0.08x^1-0.04$$\n",
       "\n",
       "[   16] new data(x,y) : (-8.618, -12.310)\n",
       "\n",
       " predictive distribution : $$y = +0.01x^3-0.01x^2+0.10x^1+0.05$$\n",
       "\n",
       "[   17] new data(x,y) : (3.115, 2.627)\n",
       "\n",
       " predictive distribution : $$y = +0.01x^3-0.01x^2+0.19x^1+0.39$$\n",
       "\n",
       "[   18] new data(x,y) : (3.221, 1.246)\n",
       "\n",
       " predictive distribution : $$y = +0.01x^3-0.01x^2+0.20x^1+0.40$$\n",
       "\n",
       "[   19] new data(x,y) : (-8.234, -3.669)\n",
       "\n",
       " predictive distribution : $$y = +0.01x^3-0.01x^2+0.17x^1+0.39$$\n",
       "\n",
       "[   20] new data(x,y) : (0.738, 0.831)\n",
       "\n",
       " predictive distribution : $$y = +0.01x^3-0.01x^2+0.17x^1+0.43$$\n",
       "\n",
       "\n",
       "==========Test   End==========\n",
       "\n"
      ],
      "text/plain": [
       "<IPython.core.display.Markdown object>"
      ]
     },
     "execution_count": 20,
     "metadata": {},
     "output_type": "execute_result"
    }
   ],
   "source": [
    "outcomes, logs = test_BaysianLinearRegression(blr, target_e, converge_threshold=10**-3,times=1, max_iter=20, output_rate=1)\n",
    "print(outcomes)\n",
    "Markdown(logs)"
   ]
  },
  {
   "cell_type": "code",
   "execution_count": 21,
   "metadata": {},
   "outputs": [
    {
     "data": {
      "image/png": "[encoded data removed]",
      "text/plain": [
       "<Figure size 432x288 with 1 Axes>"
      ]
     },
     "metadata": {},
     "output_type": "display_data"
    },
    {
     "data": {
      "text/markdown": [
       "$$y = +0.01x^3-0.01x^2+0.24x^1+0.34$$"
      ],
      "text/plain": [
       "<IPython.core.display.Markdown object>"
      ]
     },
     "execution_count": 21,
     "metadata": {},
     "output_type": "execute_result"
    }
   ],
   "source": [
    "_, predict_w, _ = next(blr) \n",
    "predict_distribution = polynomial_equation(predict_w)\n",
    "x = np.linspace(-10,10,1000)\n",
    "plt.plot(x, [predict_distribution.f(i) for i in x])\n",
    "plt.show()\n",
    "Markdown(str(predict_distribution))"
   ]
  },
  {
   "cell_type": "code",
   "execution_count": 22,
   "metadata": {},
   "outputs": [],
   "source": [
    "def Design_X(xs, n):\n",
    "    if type(xs) != list:\n",
    "        xs = [x]\n",
    "    return [[basis(x,i) for i in range(n)] for x in xs]\n",
    "    \n",
    "def PredictiveDistribution(a, w, b):\n",
    "    n = len(w)\n",
    "    return lambda x: (mul_matrix(Design_X(x,n),w), add_matrix_scalar((1/a), mul_matrix(mul_matrix(Design_X(x,n), b), tranpose_matrix(Design_X(x,n)))) )"
   ]
  },
  {
   "cell_type": "code",
   "execution_count": 24,
   "metadata": {},
   "outputs": [
    {
     "data": {
      "text/plain": [
       "([[0.1196717529818101],\n",
       "  [0.22019832623864488],\n",
       "  [-0.0030478385052451484],\n",
       "  [0.007479194173625817]],\n",
       " [[24.0, -58.735334561176685, 1010.1555573414078, -4216.0459674499925],\n",
       "  [-58.735334561176685,\n",
       "   1011.1555573414078,\n",
       "   -4216.0459674499925,\n",
       "   73721.71137088658],\n",
       "  [1010.1555573414078,\n",
       "   -4216.0459674499925,\n",
       "   73722.71137088658,\n",
       "   -328923.6433967124],\n",
       "  [-4216.0459674499925,\n",
       "   73721.71137088658,\n",
       "   -328923.6433967124,\n",
       "   6002559.960354587]])"
      ]
     },
     "execution_count": 24,
     "metadata": {},
     "output_type": "execute_result"
    }
   ],
   "source": [
    "_, prior_w, prior_b = next(blr)\n",
    "ypd = PredictiveDistribution(likelihood_a, prior_w, prior_b)\n",
    "(prior_w, prior_b)"
   ]
  },
  {
   "cell_type": "code",
   "execution_count": 25,
   "metadata": {},
   "outputs": [
    {
     "data": {
      "text/plain": [
       "[<matplotlib.lines.Line2D at 0x7fcae4aa81d0>]"
      ]
     },
     "execution_count": 25,
     "metadata": {},
     "output_type": "execute_result"
    },
    {
     "data": {
      "image/png": "[encoded data removed]",
      "text/plain": [
       "<Figure size 432x288 with 1 Axes>"
      ]
     },
     "metadata": {},
     "output_type": "display_data"
    }
   ],
   "source": [
    "x = [-5,-4,-3,-2,-1,0,1,2,3,4,5]\n",
    "y,covar = ypd(x)\n",
    "plt.plot(x,y)"
   ]
  },
  {
   "cell_type": "code",
   "execution_count": 26,
   "metadata": {},
   "outputs": [
    {
     "data": {
      "text/plain": [
       "[<matplotlib.lines.Line2D at 0x7fcae4ad8f28>]"
      ]
     },
     "execution_count": 26,
     "metadata": {},
     "output_type": "execute_result"
    },
    {
     "data": {
      "image/png": "[encoded data removed]",
      "text/plain": [
       "<Figure size 432x288 with 1 Axes>"
      ]
     },
     "metadata": {},
     "output_type": "display_data"
    }
   ],
   "source": [
    "var = [covar[i][i] for i in range(len(covar))]\n",
    "var = [math.sqrt(v) for v in var]\n",
    "plt.plot(x, var)"
   ]
  },
  {
   "cell_type": "code",
   "execution_count": null,
   "metadata": {},
   "outputs": [],
   "source": []
  }
 ],
 "metadata": {
  "kernelspec": {
   "display_name": "Python 3",
   "language": "python",
   "name": "python3"
  },
  "language_info": {
   "codemirror_mode": {
    "name": "ipython",
    "version": 3
   },
   "file_extension": ".py",
   "mimetype": "text/x-python",
   "name": "python",
   "nbconvert_exporter": "python",
   "pygments_lexer": "ipython3",
   "version": "3.6.6"
  }
 },
 "nbformat": 4,
 "nbformat_minor": 2
}
