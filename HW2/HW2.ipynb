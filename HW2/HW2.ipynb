{
 "cells": [
  {
   "cell_type": "markdown",
   "metadata": {},
   "source": [
    "# Naive bayes classifier\n",
    "\n",
    "Create a Naive Bayes classifier for each handwritten digit that support discrete and continuous features\n",
    "\n",
    "### inputs\n",
    "\n",
    "- Training image data from [MNIST](http://yann.lecun.com/exdb/mnist/) \n",
    "\n",
    "### outputs\n",
    "\n",
    "- posterior (in log scale to avoid underflow) of the ten categories (0-9) for each row in INPUT 3 \n",
    "- error rate "
   ]
  },
  {
   "cell_type": "code",
   "execution_count": 30,
   "metadata": {},
   "outputs": [],
   "source": [
    "import matplotlib.pyplot as plt\n",
    "from functools import reduce"
   ]
  },
  {
   "cell_type": "code",
   "execution_count": 54,
   "metadata": {},
   "outputs": [],
   "source": [
    "def showBytesImage(byte, row = 28, col = 28):\n",
    "    im = [[byte[i*28 + j] for j in range(col)] for i in range(row)]\n",
    "    \n",
    "    plt.imshow(im, cmap='gray')\n",
    "    \n",
    "\n",
    "class idx_file():\n",
    "    def __init__(self, file):\n",
    "        self.filename = file\n",
    "        self.datas = []\n",
    "        \n",
    "        with open(self.filename, mode='rb') as f:\n",
    "            magic_number = f.read(4)\n",
    "            \n",
    "            self.n_dim = magic_number[-1]\n",
    "            \n",
    "            self.n_dims = [int.from_bytes(f.read(4), byteorder='big') for _ in range(self.n_dim)]\n",
    "    \n",
    "            for idx in range(self.n_dims[0]):\n",
    "                item = f.read(reduce(lambda x,y: x*y, (self.n_dims[1:] + [1])))\n",
    "        \n",
    "                self.datas.append(item)\n",
    "        "
   ]
  },
  {
   "cell_type": "code",
   "execution_count": 109,
   "metadata": {},
   "outputs": [
    {
     "name": "stdout",
     "output_type": "stream",
     "text": [
      "CPU times: user 195 ms, sys: 28 ms, total: 223 ms\n",
      "Wall time: 223 ms\n"
     ]
    }
   ],
   "source": [
    "%%time\n",
    "\n",
    "train_images = idx_file('train-images.idx3-ubyte')\n",
    "\n",
    "train_labels = idx_file('train-labels.idx1-ubyte')\n",
    "\n",
    "test_images = idx_file('t10k-images.idx3-ubyte')\n",
    "\n",
    "test_labels = idx_file('t10k-labels.idx1-ubyte')"
   ]
  },
  {
   "cell_type": "code",
   "execution_count": 46,
   "metadata": {},
   "outputs": [
    {
     "data": {
      "text/plain": [
       "60000"
      ]
     },
     "execution_count": 46,
     "metadata": {},
     "output_type": "execute_result"
    }
   ],
   "source": [
    "len(train_images)"
   ]
  },
  {
   "cell_type": "code",
   "execution_count": 60,
   "metadata": {},
   "outputs": [
    {
     "name": "stdout",
     "output_type": "stream",
     "text": [
      "b'\\x03'\n"
     ]
    },
    {
     "data": {
      "image/png": "[encoded data removed]",
      "text/plain": [
       "<Figure size 432x288 with 1 Axes>"
      ]
     },
     "metadata": {},
     "output_type": "display_data"
    }
   ],
   "source": [
    "showBytesImage(train_images.datas[10])\n",
    "print(train_labels.datas[10])"
   ]
  },
  {
   "cell_type": "code",
   "execution_count": 110,
   "metadata": {},
   "outputs": [
    {
     "name": "stdout",
     "output_type": "stream",
     "text": [
      "b'\\x00'\n"
     ]
    },
    {
     "data": {
      "image/png": "[encoded data removed]",
      "text/plain": [
       "<Figure size 432x288 with 1 Axes>"
      ]
     },
     "metadata": {},
     "output_type": "display_data"
    }
   ],
   "source": [
    "showBytesImage(test_images.datas[10])\n",
    "print(test_labels.datas[10])"
   ]
  },
  {
   "cell_type": "markdown",
   "metadata": {},
   "source": [
    "### handle feature\n",
    "\n",
    "- discrete\n",
    "\n",
    "map 0 ~ 255 into 0 ~ 31 bins\n",
    "note : handle empty bins\n",
    "\n",
    "- continuous\n",
    "\n",
    "use gaussian distribution"
   ]
  },
  {
   "cell_type": "code",
   "execution_count": null,
   "metadata": {},
   "outputs": [],
   "source": []
  },
  {
   "cell_type": "code",
   "execution_count": 87,
   "metadata": {},
   "outputs": [
    {
     "name": "stdout",
     "output_type": "stream",
     "text": [
      "CPU times: user 1.28 s, sys: 0 ns, total: 1.28 s\n",
      "Wall time: 1.28 s\n"
     ]
    }
   ],
   "source": [
    "%%time\n",
    "for i in train_images.datas:\n",
    "    tmp = [j for j in i]\n",
    "    continue"
   ]
  },
  {
   "cell_type": "code",
   "execution_count": 85,
   "metadata": {},
   "outputs": [
    {
     "name": "stdout",
     "output_type": "stream",
     "text": [
      "CPU times: user 1.25 s, sys: 0 ns, total: 1.25 s\n",
      "Wall time: 1.25 s\n"
     ]
    }
   ],
   "source": [
    "%%time\n",
    "for _, i in enumerate(train_images.datas):\n",
    "    tmp = [j for j in i]\n",
    "    continue"
   ]
  },
  {
   "cell_type": "code",
   "execution_count": 106,
   "metadata": {},
   "outputs": [],
   "source": [
    "# class, pixels, bins\n",
    "\n",
    "Pixel_P = [[[1 for _ in range(32)] for _ in range(28*28)] for _ in range(10)]\n",
    "Class_P = [0 for _ in range(10)]"
   ]
  },
  {
   "cell_type": "code",
   "execution_count": 107,
   "metadata": {},
   "outputs": [
    {
     "name": "stdout",
     "output_type": "stream",
     "text": [
      "CPU times: user 21 s, sys: 11.6 ms, total: 21 s\n",
      "Wall time: 21 s\n"
     ]
    }
   ],
   "source": [
    "%%time\n",
    "for idx, bs in enumerate(train_images.datas):\n",
    "    Class_P[train_labels.datas[idx][0]] += 1\n",
    "    for i in range(len(bs)):\n",
    "        Pixel_P[train_labels.datas[idx][0]][i][bs[i]>>3] += 1"
   ]
  },
  {
   "cell_type": "code",
   "execution_count": 97,
   "metadata": {},
   "outputs": [
    {
     "data": {
      "text/plain": [
       "[<matplotlib.lines.Line2D at 0x7f81008a29b0>]"
      ]
     },
     "execution_count": 97,
     "metadata": {},
     "output_type": "execute_result"
    },
    {
     "data": {
      "image/png": "[encoded data removed]",
      "text/plain": [
       "<Figure size 432x288 with 1 Axes>"
      ]
     },
     "metadata": {},
     "output_type": "display_data"
    }
   ],
   "source": [
    "plt.plot(range(32), Pixel_P[0][300])\n",
    "plt.plot(range(32), Pixel_P[1][300])"
   ]
  },
  {
   "cell_type": "code",
   "execution_count": 98,
   "metadata": {},
   "outputs": [
    {
     "name": "stdout",
     "output_type": "stream",
     "text": [
      "[6493, 44, 17, 19, 16, 7, 8, 8, 8, 11, 7, 8, 13, 8, 10, 5, 10, 7, 2, 4, 5, 2, 6, 3, 6, 4, 5, 1, 4, 5, 4, 24]\n"
     ]
    }
   ],
   "source": [
    "print(Pixel_P[1][300])"
   ]
  },
  {
   "cell_type": "code",
   "execution_count": 108,
   "metadata": {},
   "outputs": [
    {
     "name": "stdout",
     "output_type": "stream",
     "text": [
      "6742\n"
     ]
    },
    {
     "data": {
      "text/plain": [
       "6774"
      ]
     },
     "execution_count": 108,
     "metadata": {},
     "output_type": "execute_result"
    }
   ],
   "source": [
    "print(Class_P[1])\n",
    "sum(Pixel_P[1][0])"
   ]
  },
  {
   "cell_type": "code",
   "execution_count": 126,
   "metadata": {},
   "outputs": [],
   "source": [
    "import numpy as np\n",
    "from math import log"
   ]
  },
  {
   "cell_type": "code",
   "execution_count": 128,
   "metadata": {},
   "outputs": [
    {
     "name": "stdout",
     "output_type": "stream",
     "text": [
      "CPU times: user 49.5 s, sys: 67.8 ms, total: 49.6 s\n",
      "Wall time: 49.6 s\n"
     ]
    }
   ],
   "source": [
    "%%time\n",
    "\n",
    "error = 0\n",
    "Posterior = [[0 for _ in range(10)] for _ in range(len(test_images.datas))]\n",
    "for idx, bs in enumerate(test_images.datas):\n",
    "    for num in range(10):\n",
    "        for i in range(len(bs)):\n",
    "            Posterior[idx][num] += log(Pixel_P[num][i][bs[i]>>3])\n",
    "        Posterior[idx][num] += log(Class_P[num])\n",
    "    \n",
    "    predict = np.argmax(Posterior[idx])\n",
    "    answer = test_labels.datas[idx][0]\n",
    "    \n",
    "    if predict != answer:\n",
    "        error += 1"
   ]
  },
  {
   "cell_type": "code",
   "execution_count": 129,
   "metadata": {},
   "outputs": [
    {
     "name": "stdout",
     "output_type": "stream",
     "text": [
      "predict : 3, answer : 3\n"
     ]
    }
   ],
   "source": [
    "print('predict : ' + str(np.argmax(Posterior[87])) + ', answer : ' + str(test_labels.datas[87][0]))"
   ]
  },
  {
   "cell_type": "code",
   "execution_count": 130,
   "metadata": {},
   "outputs": [
    {
     "name": "stdout",
     "output_type": "stream",
     "text": [
      "0.2969\n"
     ]
    }
   ],
   "source": [
    "print(error/len(test_images.datas))"
   ]
  },
  {
   "cell_type": "code",
   "execution_count": 131,
   "metadata": {},
   "outputs": [
    {
     "data": {
      "text/plain": [
       "[<matplotlib.lines.Line2D at 0x7f81003b46d8>]"
      ]
     },
     "execution_count": 131,
     "metadata": {},
     "output_type": "execute_result"
    },
    {
     "data": {
      "image/png": "[encoded data removed]",
      "text/plain": [
       "<Figure size 432x288 with 1 Axes>"
      ]
     },
     "metadata": {},
     "output_type": "display_data"
    }
   ],
   "source": [
    "plt.plot(range(10), Posterior[87])"
   ]
  },
  {
   "cell_type": "code",
   "execution_count": null,
   "metadata": {},
   "outputs": [],
   "source": []
  }
 ],
 "metadata": {
  "kernelspec": {
   "display_name": "Python 3",
   "language": "python",
   "name": "python3"
  },
  "language_info": {
   "codemirror_mode": {
    "name": "ipython",
    "version": 3
   },
   "file_extension": ".py",
   "mimetype": "text/x-python",
   "name": "python",
   "nbconvert_exporter": "python",
   "pygments_lexer": "ipython3",
   "version": "3.6.6"
  }
 },
 "nbformat": 4,
 "nbformat_minor": 2
}
