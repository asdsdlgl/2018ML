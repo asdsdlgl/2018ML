{
 "cells": [
  {
   "cell_type": "markdown",
   "metadata": {},
   "source": [
    "# Naive bayes classifier\n",
    "\n",
    "Create a Naive Bayes classifier for each handwritten digit that support discrete and continuous features\n",
    "\n",
    "### inputs\n",
    "\n",
    "- Training image data from [MNIST](http://yann.lecun.com/exdb/mnist/) \n",
    "\n",
    "### outputs\n",
    "\n",
    "- posterior (in log scale to avoid underflow) of the ten categories (0-9) for each row in INPUT 3 \n",
    "- error rate "
   ]
  },
  {
   "cell_type": "code",
   "execution_count": 30,
   "metadata": {},
   "outputs": [],
   "source": [
    "import matplotlib.pyplot as plt\n",
    "from functools import reduce"
   ]
  },
  {
   "cell_type": "code",
   "execution_count": 54,
   "metadata": {},
   "outputs": [],
   "source": [
    "def showBytesImage(byte, row = 28, col = 28):\n",
    "    im = [[byte[i*28 + j] for j in range(col)] for i in range(row)]\n",
    "    \n",
    "    plt.imshow(im, cmap='gray')\n",
    "    \n",
    "\n",
    "class idx_file():\n",
    "    def __init__(self, file):\n",
    "        self.filename = file\n",
    "        self.datas = []\n",
    "        \n",
    "        with open(self.filename, mode='rb') as f:\n",
    "            magic_number = f.read(4)\n",
    "            \n",
    "            self.n_dim = magic_number[-1]\n",
    "            \n",
    "            self.n_dims = [int.from_bytes(f.read(4), byteorder='big') for _ in range(self.n_dim)]\n",
    "    \n",
    "            for idx in range(self.n_dims[0]):\n",
    "                item = f.read(reduce(lambda x,y: x*y, (self.n_dims[1:] + [1])))\n",
    "        \n",
    "                self.datas.append(item)\n",
    "        "
   ]
  },
  {
   "cell_type": "code",
   "execution_count": 57,
   "metadata": {},
   "outputs": [
    {
     "name": "stdout",
     "output_type": "stream",
     "text": [
      "784\n",
      "1\n",
      "CPU times: user 157 ms, sys: 25 ms, total: 182 ms\n",
      "Wall time: 182 ms\n"
     ]
    }
   ],
   "source": [
    "%%time\n",
    "# filename train-images.idx3-ubyte\n",
    "# filename train-labels.idx1-ubyte\n",
    "\n",
    "train_images = idx_file('train-images.idx3-ubyte')\n",
    "print(len(train_images.datas[0]))\n",
    "train_labels = idx_file('train-labels.idx1-ubyte')\n",
    "print(len(train_labels.datas[0]))"
   ]
  },
  {
   "cell_type": "code",
   "execution_count": 46,
   "metadata": {},
   "outputs": [
    {
     "data": {
      "text/plain": [
       "60000"
      ]
     },
     "execution_count": 46,
     "metadata": {},
     "output_type": "execute_result"
    }
   ],
   "source": [
    "len(train_images)"
   ]
  },
  {
   "cell_type": "code",
   "execution_count": 60,
   "metadata": {},
   "outputs": [
    {
     "name": "stdout",
     "output_type": "stream",
     "text": [
      "b'\\x03'\n"
     ]
    },
    {
     "data": {
      "image/png": "[encoded data removed]",
      "text/plain": [
       "<Figure size 432x288 with 1 Axes>"
      ]
     },
     "metadata": {},
     "output_type": "display_data"
    }
   ],
   "source": [
    "showBytesImage(train_images.datas[10])\n",
    "print(train_labels.datas[10])"
   ]
  },
  {
   "cell_type": "code",
   "execution_count": null,
   "metadata": {},
   "outputs": [],
   "source": []
  }
 ],
 "metadata": {
  "kernelspec": {
   "display_name": "Python 3",
   "language": "python",
   "name": "python3"
  },
  "language_info": {
   "codemirror_mode": {
    "name": "ipython",
    "version": 3
   },
   "file_extension": ".py",
   "mimetype": "text/x-python",
   "name": "python",
   "nbconvert_exporter": "python",
   "pygments_lexer": "ipython3",
   "version": "3.6.6"
  }
 },
 "nbformat": 4,
 "nbformat_minor": 2
}
