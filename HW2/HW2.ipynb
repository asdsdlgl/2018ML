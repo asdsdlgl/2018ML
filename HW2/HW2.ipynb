{
 "cells": [
  {
   "cell_type": "markdown",
   "metadata": {},
   "source": [
    "# Naive bayes classifier\n",
    "\n",
    "Create a Naive Bayes classifier for each handwritten digit that support discrete and continuous features\n",
    "\n",
    "### inputs\n",
    "\n",
    "- Training image data from [MNIST](http://yann.lecun.com/exdb/mnist/) \n",
    "\n",
    "### outputs\n",
    "\n",
    "- posterior (in log scale to avoid underflow) of the ten categories (0-9) for each row in INPUT 3 \n",
    "- error rate "
   ]
  },
  {
   "cell_type": "code",
   "execution_count": 30,
   "metadata": {},
   "outputs": [],
   "source": [
    "import matplotlib.pyplot as plt\n",
    "from functools import reduce"
   ]
  },
  {
   "cell_type": "code",
   "execution_count": 54,
   "metadata": {},
   "outputs": [],
   "source": [
    "def showBytesImage(byte, row = 28, col = 28):\n",
    "    im = [[byte[i*28 + j] for j in range(col)] for i in range(row)]\n",
    "    \n",
    "    plt.imshow(im, cmap='gray')\n",
    "    \n",
    "\n",
    "class idx_file():\n",
    "    def __init__(self, file):\n",
    "        self.filename = file\n",
    "        self.datas = []\n",
    "        \n",
    "        with open(self.filename, mode='rb') as f:\n",
    "            magic_number = f.read(4)\n",
    "            \n",
    "            self.n_dim = magic_number[-1]\n",
    "            \n",
    "            self.n_dims = [int.from_bytes(f.read(4), byteorder='big') for _ in range(self.n_dim)]\n",
    "    \n",
    "            for idx in range(self.n_dims[0]):\n",
    "                item = f.read(reduce(lambda x,y: x*y, (self.n_dims[1:] + [1])))\n",
    "        \n",
    "                self.datas.append(item)\n",
    "        "
   ]
  },
  {
   "cell_type": "code",
   "execution_count": 109,
   "metadata": {},
   "outputs": [
    {
     "name": "stdout",
     "output_type": "stream",
     "text": [
      "CPU times: user 195 ms, sys: 28 ms, total: 223 ms\n",
      "Wall time: 223 ms\n"
     ]
    }
   ],
   "source": [
    "%%time\n",
    "\n",
    "train_images = idx_file('train-images.idx3-ubyte')\n",
    "\n",
    "train_labels = idx_file('train-labels.idx1-ubyte')\n",
    "\n",
    "test_images = idx_file('t10k-images.idx3-ubyte')\n",
    "\n",
    "test_labels = idx_file('t10k-labels.idx1-ubyte')"
   ]
  },
  {
   "cell_type": "code",
   "execution_count": 46,
   "metadata": {},
   "outputs": [
    {
     "data": {
      "text/plain": [
       "60000"
      ]
     },
     "execution_count": 46,
     "metadata": {},
     "output_type": "execute_result"
    }
   ],
   "source": [
    "len(train_images)"
   ]
  },
  {
   "cell_type": "code",
   "execution_count": 60,
   "metadata": {},
   "outputs": [
    {
     "name": "stdout",
     "output_type": "stream",
     "text": [
      "b'\\x03'\n"
     ]
    },
    {
     "data": {
      "image/png": "[encoded data removed]",
      "text/plain": [
       "<Figure size 432x288 with 1 Axes>"
      ]
     },
     "metadata": {},
     "output_type": "display_data"
    }
   ],
   "source": [
    "showBytesImage(train_images.datas[10])\n",
    "print(train_labels.datas[10])"
   ]
  },
  {
   "cell_type": "code",
   "execution_count": 110,
   "metadata": {},
   "outputs": [
    {
     "name": "stdout",
     "output_type": "stream",
     "text": [
      "b'\\x00'\n"
     ]
    },
    {
     "data": {
      "image/png": "[encoded data removed]",
      "text/plain": [
       "<Figure size 432x288 with 1 Axes>"
      ]
     },
     "metadata": {},
     "output_type": "display_data"
    }
   ],
   "source": [
    "showBytesImage(test_images.datas[10])\n",
    "print(test_labels.datas[10])"
   ]
  },
  {
   "cell_type": "markdown",
   "metadata": {},
   "source": [
    "### handle feature\n",
    "\n",
    "- discrete\n",
    "\n",
    "map 0 ~ 255 into 0 ~ 31 bins\n",
    "note : handle empty bins\n",
    "\n",
    "- continuous\n",
    "\n",
    "use gaussian distribution"
   ]
  },
  {
   "cell_type": "code",
   "execution_count": null,
   "metadata": {},
   "outputs": [],
   "source": []
  },
  {
   "cell_type": "code",
   "execution_count": 87,
   "metadata": {},
   "outputs": [
    {
     "name": "stdout",
     "output_type": "stream",
     "text": [
      "CPU times: user 1.28 s, sys: 0 ns, total: 1.28 s\n",
      "Wall time: 1.28 s\n"
     ]
    }
   ],
   "source": [
    "%%time\n",
    "for i in train_images.datas:\n",
    "    tmp = [j for j in i]\n",
    "    continue"
   ]
  },
  {
   "cell_type": "code",
   "execution_count": 85,
   "metadata": {},
   "outputs": [
    {
     "name": "stdout",
     "output_type": "stream",
     "text": [
      "CPU times: user 1.25 s, sys: 0 ns, total: 1.25 s\n",
      "Wall time: 1.25 s\n"
     ]
    }
   ],
   "source": [
    "%%time\n",
    "for _, i in enumerate(train_images.datas):\n",
    "    tmp = [j for j in i]\n",
    "    continue"
   ]
  },
  {
   "cell_type": "code",
   "execution_count": 206,
   "metadata": {},
   "outputs": [
    {
     "name": "stdout",
     "output_type": "stream",
     "text": [
      "CPU times: user 21.5 s, sys: 7.62 ms, total: 21.5 s\n",
      "Wall time: 21.5 s\n"
     ]
    }
   ],
   "source": [
    "%%time\n",
    "# class, pixels, bins\n",
    "\n",
    "Pixel_P = [[[10**-6 for _ in range(32)] for _ in range(28*28)] for _ in range(10)]\n",
    "Class_P = [0 for _ in range(10)]\n",
    "\n",
    "for idx, bs in enumerate(train_images.datas):\n",
    "    Class_P[train_labels.datas[idx][0]] += 1\n",
    "    for i in range(len(bs)):\n",
    "        Pixel_P[train_labels.datas[idx][0]][i][bs[i]>>3] += 1"
   ]
  },
  {
   "cell_type": "code",
   "execution_count": 261,
   "metadata": {},
   "outputs": [
    {
     "data": {
      "text/plain": [
       "[<matplotlib.lines.Line2D at 0x7f80faeceeb8>]"
      ]
     },
     "execution_count": 261,
     "metadata": {},
     "output_type": "execute_result"
    },
    {
     "data": {
      "image/png": "[encoded data removed]",
      "text/plain": [
       "<Figure size 432x288 with 1 Axes>"
      ]
     },
     "metadata": {},
     "output_type": "display_data"
    }
   ],
   "source": [
    "plt.plot(range(32), Pixel_P[0][300])\n",
    "plt.plot(range(32), Pixel_P[1][87])"
   ]
  },
  {
   "cell_type": "code",
   "execution_count": 98,
   "metadata": {},
   "outputs": [
    {
     "name": "stdout",
     "output_type": "stream",
     "text": [
      "[6493, 44, 17, 19, 16, 7, 8, 8, 8, 11, 7, 8, 13, 8, 10, 5, 10, 7, 2, 4, 5, 2, 6, 3, 6, 4, 5, 1, 4, 5, 4, 24]\n"
     ]
    }
   ],
   "source": [
    "print(Pixel_P[1][300])"
   ]
  },
  {
   "cell_type": "code",
   "execution_count": 108,
   "metadata": {},
   "outputs": [
    {
     "name": "stdout",
     "output_type": "stream",
     "text": [
      "6742\n"
     ]
    },
    {
     "data": {
      "text/plain": [
       "6774"
      ]
     },
     "execution_count": 108,
     "metadata": {},
     "output_type": "execute_result"
    }
   ],
   "source": [
    "print(Class_P[1])\n",
    "sum(Pixel_P[1][0])"
   ]
  },
  {
   "cell_type": "code",
   "execution_count": 271,
   "metadata": {},
   "outputs": [],
   "source": [
    "import numpy as np\n",
    "from math import log, sqrt, exp, pi, factorial"
   ]
  },
  {
   "cell_type": "code",
   "execution_count": 258,
   "metadata": {},
   "outputs": [
    {
     "name": "stdout",
     "output_type": "stream",
     "text": [
      "CPU times: user 47.3 s, sys: 28.1 ms, total: 47.4 s\n",
      "Wall time: 47.3 s\n"
     ]
    }
   ],
   "source": [
    "%%time\n",
    "\n",
    "error = 0\n",
    "Posterior = [[0 for _ in range(10)] for _ in range(len(test_images.datas))]\n",
    "for idx, bs in enumerate(test_images.datas):\n",
    "    for num in range(10):\n",
    "        for i in range(len(bs)):\n",
    "            Posterior[idx][num] += log(Pixel_P[num][i][bs[i]>>3])\n",
    "        Posterior[idx][num] -= (len(bs)-1)*log(Class_P[num])\n",
    "        #Posterior[idx][num] += log(Class_P[num])\n",
    "    \n",
    "    predict = np.argmax(Posterior[idx])\n",
    "    answer = test_labels.datas[idx][0]\n",
    "    \n",
    "    if predict != answer:\n",
    "        error += 1"
   ]
  },
  {
   "cell_type": "code",
   "execution_count": 129,
   "metadata": {},
   "outputs": [
    {
     "name": "stdout",
     "output_type": "stream",
     "text": [
      "predict : 3, answer : 3\n"
     ]
    }
   ],
   "source": [
    "print('predict : ' + str(np.argmax(Posterior[87])) + ', answer : ' + str(test_labels.datas[87][0]))"
   ]
  },
  {
   "cell_type": "code",
   "execution_count": 259,
   "metadata": {},
   "outputs": [
    {
     "name": "stdout",
     "output_type": "stream",
     "text": [
      "0.1492\n"
     ]
    }
   ],
   "source": [
    "print(error/len(test_images.datas))"
   ]
  },
  {
   "cell_type": "code",
   "execution_count": 205,
   "metadata": {},
   "outputs": [
    {
     "data": {
      "text/plain": [
       "[<matplotlib.lines.Line2D at 0x7f81007f7b00>]"
      ]
     },
     "execution_count": 205,
     "metadata": {},
     "output_type": "execute_result"
    },
    {
     "data": {
      "image/png": "[encoded data removed]",
      "text/plain": [
       "<Figure size 432x288 with 1 Axes>"
      ]
     },
     "metadata": {},
     "output_type": "display_data"
    }
   ],
   "source": [
    "plt.plot(range(10), Posterior[87])"
   ]
  },
  {
   "cell_type": "code",
   "execution_count": 132,
   "metadata": {},
   "outputs": [
    {
     "name": "stdout",
     "output_type": "stream",
     "text": [
      "CPU times: user 20.6 s, sys: 144 ms, total: 20.8 s\n",
      "Wall time: 20.8 s\n"
     ]
    }
   ],
   "source": [
    "%%time\n",
    "# class, pixels\n",
    "\n",
    "Pixel_datas = [[[] for _ in range(28*28)] for _ in range(10)]\n",
    "\n",
    "for idx, bs in enumerate(train_images.datas):\n",
    "    for i in range(len(bs)):\n",
    "        Pixel_datas[train_labels.datas[idx][0]][i].append(bs[i])"
   ]
  },
  {
   "cell_type": "code",
   "execution_count": 267,
   "metadata": {},
   "outputs": [],
   "source": [
    "def Gaussian(u, v):\n",
    "    if v == 0:\n",
    "        v = 10**-6\n",
    "    return lambda x : (exp(-1*(((x - u)**2) / (2*v) ) ) / sqrt(2*pi*v))\n",
    "\n",
    "def Normalize(a):\n",
    "    n = sum(a)\n",
    "    if n < 0:\n",
    "        n *= -1\n",
    "    return [x/n for x in a]"
   ]
  },
  {
   "cell_type": "code",
   "execution_count": 255,
   "metadata": {},
   "outputs": [
    {
     "name": "stdout",
     "output_type": "stream",
     "text": [
      "CPU times: user 8.35 s, sys: 15.8 ms, total: 8.37 s\n",
      "Wall time: 8.37 s\n"
     ]
    }
   ],
   "source": [
    "%%time\n",
    "\n",
    "Pixel_G = [[[0, 0] for _ in range(28*28)] for _ in range(10)]\n",
    "\n",
    "for i in range(10):\n",
    "    for j in range(28*28):\n",
    "        n = len(Pixel_datas[i][j])\n",
    "        u = sum(Pixel_datas[i][j]) / n\n",
    "        v = sum([(x - u)**2 for x in Pixel_datas[i][j]]) / n\n",
    "        Pixel_G[i][j][0] = u\n",
    "        Pixel_G[i][j][1] = v\n",
    "        Pixel_G[i][j].append(Gaussian(u, v))"
   ]
  },
  {
   "cell_type": "code",
   "execution_count": 173,
   "metadata": {},
   "outputs": [
    {
     "name": "stdout",
     "output_type": "stream",
     "text": [
      "1.0\n"
     ]
    }
   ],
   "source": [
    "print(exp(0))"
   ]
  },
  {
   "cell_type": "code",
   "execution_count": 260,
   "metadata": {},
   "outputs": [
    {
     "name": "stdout",
     "output_type": "stream",
     "text": [
      "[0.0014832393948383269, 0.014830193949280862, <function Gaussian.<locals>.<lambda> at 0x7f80fa77f1e0>]\n",
      "0.0\n"
     ]
    },
    {
     "data": {
      "image/png": "[encoded data removed]",
      "text/plain": [
       "<Figure size 432x288 with 1 Axes>"
      ]
     },
     "metadata": {},
     "output_type": "display_data"
    }
   ],
   "source": [
    "print(Pixel_G[1][87])\n",
    "x = range(256)\n",
    "plt.plot(x, [Pixel_G[1][87][2](i) for i in x])\n",
    "print(Pixel_G[1][87][2](230))"
   ]
  },
  {
   "cell_type": "code",
   "execution_count": 233,
   "metadata": {},
   "outputs": [
    {
     "data": {
      "text/plain": [
       "[<matplotlib.lines.Line2D at 0x7f80fa81d080>]"
      ]
     },
     "execution_count": 233,
     "metadata": {},
     "output_type": "execute_result"
    },
    {
     "data": {
      "image/png": "[encoded data removed]",
      "text/plain": [
       "<Figure size 432x288 with 1 Axes>"
      ]
     },
     "metadata": {},
     "output_type": "display_data"
    }
   ],
   "source": [
    "plt.plot(range(256), [Pixel_P[1][300][i>>3] for i in range(256)])"
   ]
  },
  {
   "cell_type": "code",
   "execution_count": 225,
   "metadata": {},
   "outputs": [
    {
     "name": "stdout",
     "output_type": "stream",
     "text": [
      "0.126156626101008\n",
      "[-5.  -4.9 -4.8 -4.7 -4.6 -4.5 -4.4 -4.3 -4.2 -4.1 -4.  -3.9 -3.8 -3.7\n",
      " -3.6 -3.5 -3.4 -3.3 -3.2 -3.1 -3.  -2.9 -2.8 -2.7 -2.6 -2.5 -2.4 -2.3\n",
      " -2.2 -2.1 -2.  -1.9 -1.8 -1.7 -1.6 -1.5 -1.4 -1.3 -1.2 -1.1 -1.  -0.9\n",
      " -0.8 -0.7 -0.6 -0.5 -0.4 -0.3 -0.2 -0.1  0.   0.1  0.2  0.3  0.4  0.5\n",
      "  0.6  0.7  0.8  0.9  1.   1.1  1.2  1.3  1.4  1.5  1.6  1.7  1.8  1.9\n",
      "  2.   2.1  2.2  2.3  2.4  2.5  2.6  2.7  2.8  2.9  3.   3.1  3.2  3.3\n",
      "  3.4  3.5  3.6  3.7  3.8  3.9  4.   4.1  4.2  4.3  4.4  4.5  4.6  4.7\n",
      "  4.8  4.9  5. ]\n"
     ]
    },
    {
     "data": {
      "image/png": "[encoded data removed]",
      "text/plain": [
       "<Figure size 432x288 with 1 Axes>"
      ]
     },
     "metadata": {},
     "output_type": "display_data"
    }
   ],
   "source": [
    "wow = Gaussian(0,1)\n",
    "wow2 = Gaussian(0,)\n",
    "x = np.linspace(-5,5,101) \n",
    "plt.plot(x, [wow(i) for i in x], 'r')\n",
    "plt.plot(x, [wow2(i) for i in x], 'b')\n",
    "\n",
    "print(wow2(0))\n",
    "print(x)"
   ]
  },
  {
   "cell_type": "code",
   "execution_count": 256,
   "metadata": {},
   "outputs": [
    {
     "name": "stdout",
     "output_type": "stream",
     "text": [
      "CPU times: user 2min 34s, sys: 3.7 ms, total: 2min 34s\n",
      "Wall time: 2min 34s\n"
     ]
    }
   ],
   "source": [
    "%%time\n",
    "\n",
    "error = 0\n",
    "Posterior_G = [[0 for _ in range(10)] for _ in range(len(test_images.datas))]\n",
    "for idx, bs in enumerate(test_images.datas):\n",
    "    for num in range(10):\n",
    "        for i in range(len(bs)):\n",
    "            if Pixel_G[num][i][2](bs[i]) == 0.0:\n",
    "                Posterior_G[idx][num] += log(10**-6)\n",
    "                continue;\n",
    "            Posterior_G[idx][num] += log(Pixel_G[num][i][2](bs[i]))\n",
    "        Posterior_G[idx][num] += log(Class_P[num])\n",
    "    \n",
    "    predict = np.argmax(Posterior_G[idx])\n",
    "    answer = test_labels.datas[idx][0]\n",
    "    \n",
    "    if predict != answer:\n",
    "        error += 1"
   ]
  },
  {
   "cell_type": "code",
   "execution_count": 257,
   "metadata": {},
   "outputs": [
    {
     "name": "stdout",
     "output_type": "stream",
     "text": [
      "0.4638\n"
     ]
    }
   ],
   "source": [
    "print(error/len(test_images.datas))"
   ]
  },
  {
   "cell_type": "code",
   "execution_count": 268,
   "metadata": {},
   "outputs": [
    {
     "data": {
      "text/plain": [
       "[<matplotlib.lines.Line2D at 0x7f80fa61eef0>]"
      ]
     },
     "execution_count": 268,
     "metadata": {},
     "output_type": "execute_result"
    },
    {
     "data": {
      "image/png": "[encoded data removed]",
      "text/plain": [
       "<Figure size 432x288 with 1 Axes>"
      ]
     },
     "metadata": {},
     "output_type": "display_data"
    }
   ],
   "source": [
    "plt.plot(range(10), Normalize(Posterior[87]), 'b')\n",
    "plt.plot(range(10), Normalize(Posterior_G[87]), 'r')"
   ]
  },
  {
   "cell_type": "code",
   "execution_count": 269,
   "metadata": {},
   "outputs": [
    {
     "data": {
      "image/png": "[encoded data removed]",
      "text/plain": [
       "<Figure size 432x288 with 1 Axes>"
      ]
     },
     "metadata": {},
     "output_type": "display_data"
    }
   ],
   "source": [
    "showBytesImage(test_images.datas[87])"
   ]
  },
  {
   "cell_type": "markdown",
   "metadata": {},
   "source": [
    "# online learning"
   ]
  },
  {
   "cell_type": "code",
   "execution_count": 287,
   "metadata": {},
   "outputs": [
    {
     "name": "stdout",
     "output_type": "stream",
     "text": [
      "['0101010111011011010101\\n', '0110101\\n', '010110101101\\n']\n"
     ]
    },
    {
     "data": {
      "text/plain": [
       "[(22, 13), (7, 4), (12, 7)]"
      ]
     },
     "execution_count": 287,
     "metadata": {},
     "output_type": "execute_result"
    }
   ],
   "source": [
    "online_datas = []\n",
    "\n",
    "with open('datas.txt', 'r') as f :\n",
    "    datas = f.readlines()\n",
    "    for item in datas:\n",
    "        item = item[:-1]\n",
    "        N = len(item)\n",
    "        m = 0\n",
    "        for i in item:\n",
    "            if i == '1':\n",
    "                m += 1\n",
    "        online_datas.append((N, m))\n",
    "\n",
    "print(datas)\n",
    "online_datas"
   ]
  },
  {
   "cell_type": "code",
   "execution_count": 292,
   "metadata": {},
   "outputs": [],
   "source": [
    "def Beta(a, b):\n",
    "    return lambda x : (x**(a-1)) * ((1-x)**(b-1)) * Gamma(a + b) / (Gamma(a) * Gamma(b))\n",
    "\n",
    "def Gamma(x):\n",
    "    return factorial(x - 1)\n",
    "\n",
    "def Likelihood(p, N, m):\n",
    "    return (p**m)*((1-p)**(N-m))"
   ]
  },
  {
   "cell_type": "code",
   "execution_count": 295,
   "metadata": {},
   "outputs": [
    {
     "data": {
      "text/plain": [
       "[<matplotlib.lines.Line2D at 0x7f80fa0fc208>]"
      ]
     },
     "execution_count": 295,
     "metadata": {},
     "output_type": "execute_result"
    },
    {
     "data": {
      "image/png": "[encoded data removed]",
      "text/plain": [
       "<Figure size 432x288 with 1 Axes>"
      ]
     },
     "metadata": {},
     "output_type": "display_data"
    }
   ],
   "source": [
    "x = np.linspace(0,1,100)\n",
    "b = Beta(100,3)\n",
    "#plt.plot(x, [b(i) for i in x])\n",
    "plt.plot(x, [Likelihood(i, 100, 50) for i in x])"
   ]
  },
  {
   "cell_type": "code",
   "execution_count": 299,
   "metadata": {},
   "outputs": [
    {
     "name": "stdout",
     "output_type": "stream",
     "text": [
      "MLE : 0.5909090909090909, Prior(a,b) : (0,0), Posterior(a,b) : (13,9)\n",
      "MLE : 0.5862068965517241, Prior(a,b) : (13,9), Posterior(a,b) : (17,12)\n",
      "MLE : 0.5853658536585366, Prior(a,b) : (17,12), Posterior(a,b) : (24,17)\n"
     ]
    }
   ],
   "source": [
    "# initial parameter\n",
    "\n",
    "beta_a = 0\n",
    "beta_b = 0\n",
    "\n",
    "for N,m in online_datas:\n",
    "    prior_a = beta_a\n",
    "    prior_b = beta_b\n",
    "    beta_a += m\n",
    "    beta_b += N-m\n",
    "    print(\"MLE : {}, Prior(a,b) : ({},{}), Posterior(a,b) : ({},{})\".format(beta_a/(beta_a + beta_b), prior_a, prior_b, beta_a, beta_b))"
   ]
  },
  {
   "cell_type": "code",
   "execution_count": 290,
   "metadata": {},
   "outputs": [
    {
     "data": {
      "text/plain": [
       "[<matplotlib.lines.Line2D at 0x7f80fa1ef2b0>]"
      ]
     },
     "execution_count": 290,
     "metadata": {},
     "output_type": "execute_result"
    },
    {
     "data": {
      "image/png": "[encoded data removed]",
      "text/plain": [
       "<Figure size 432x288 with 1 Axes>"
      ]
     },
     "metadata": {},
     "output_type": "display_data"
    }
   ],
   "source": [
    "x = np.linspace(0,1,100)\n",
    "b = Beta(beta_a, beta_b)\n",
    "plt.plot(x, [b(i) for i in x])"
   ]
  },
  {
   "cell_type": "code",
   "execution_count": 297,
   "metadata": {},
   "outputs": [
    {
     "data": {
      "text/plain": [
       "0.5853658536585366"
      ]
     },
     "execution_count": 297,
     "metadata": {},
     "output_type": "execute_result"
    }
   ],
   "source": [
    "24/41"
   ]
  },
  {
   "cell_type": "code",
   "execution_count": null,
   "metadata": {},
   "outputs": [],
   "source": []
  }
 ],
 "metadata": {
  "kernelspec": {
   "display_name": "Python 3",
   "language": "python",
   "name": "python3"
  },
  "language_info": {
   "codemirror_mode": {
    "name": "ipython",
    "version": 3
   },
   "file_extension": ".py",
   "mimetype": "text/x-python",
   "name": "python",
   "nbconvert_exporter": "python",
   "pygments_lexer": "ipython3",
   "version": "3.6.6"
  }
 },
 "nbformat": 4,
 "nbformat_minor": 2
}
