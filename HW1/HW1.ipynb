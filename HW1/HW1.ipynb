{
 "cells": [
  {
   "cell_type": "markdown",
   "metadata": {},
   "source": [
    "# HW1 Linear regression and Newton's method\n",
    "\n",
    "### input data\n",
    "\n",
    "- File name : file contained mulit pairs (x,y)\n",
    "- N : the number of polynomial of basis\n",
    "- Lambda : rLSE parameter\n",
    "\n",
    "### output\n",
    "\n",
    "- vector : contain polynomail parameters (length : N)\n",
    "- error : rLSE or LSE\n",
    "- polynomial equation"
   ]
  },
  {
   "cell_type": "code",
   "execution_count": 1,
   "metadata": {},
   "outputs": [],
   "source": [
    "import pandas as pd\n",
    "import numpy as np\n",
    "import matplotlib.pyplot as plt\n",
    "from IPython.display import Latex"
   ]
  },
  {
   "cell_type": "code",
   "execution_count": 2,
   "metadata": {},
   "outputs": [],
   "source": [
    "# MatrixOP at ./MatrixOP.py\n",
    "from MatrixOP import *"
   ]
  },
  {
   "cell_type": "code",
   "execution_count": 28,
   "metadata": {},
   "outputs": [],
   "source": [
    "# Polynomial at ./Polynomial.py\n",
    "from Polynomial import *"
   ]
  },
  {
   "cell_type": "code",
   "execution_count": 4,
   "metadata": {},
   "outputs": [],
   "source": [
    "def convert_data_Ab(datas, N):\n",
    "    # create matrix\n",
    "    A = [];\n",
    "    b = [];\n",
    "\n",
    "    for index, row in datas.iterrows():\n",
    "        b.append([row['y']])\n",
    "        A.append([basis(row['x'], (N - 1) - i) for i in range(N)])\n",
    "    \n",
    "    return (A,b)\n",
    "\n",
    "def linear_regression(datas, N = 2, Lambda = 1.0):\n",
    "    A,b = convert_data_Ab(datas, N)\n",
    "    \n",
    "    ATA = mul_matrix(tranpose_matrix(A), A)\n",
    "    ATA_Lambda = add_matrix(ATA, mul_matrix_scalar(Lambda, unit_matrix(N)))\n",
    "    x_vector = mul_matrix( inverse_matrix(ATA_Lambda), tranpose_matrix(A))\n",
    "    x_vector = mul_matrix(x_vector, b)\n",
    "    \n",
    "    return x_vector;"
   ]
  },
  {
   "cell_type": "code",
   "execution_count": 5,
   "metadata": {},
   "outputs": [],
   "source": [
    "# config\n",
    "\n",
    "input_file = \"data.csv\";\n",
    "N = 4;\n",
    "Lambda = 1.0;"
   ]
  },
  {
   "cell_type": "code",
   "execution_count": 6,
   "metadata": {},
   "outputs": [
    {
     "data": {
      "image/png": "[encoded data removed]",
      "text/plain": [
       "<Figure size 432x288 with 1 Axes>"
      ]
     },
     "metadata": {},
     "output_type": "display_data"
    },
    {
     "data": {
      "text/html": [
       "<div>\n",
       "<style scoped>\n",
       "    .dataframe tbody tr th:only-of-type {\n",
       "        vertical-align: middle;\n",
       "    }\n",
       "\n",
       "    .dataframe tbody tr th {\n",
       "        vertical-align: top;\n",
       "    }\n",
       "\n",
       "    .dataframe thead th {\n",
       "        text-align: right;\n",
       "    }\n",
       "</style>\n",
       "<table border=\"1\" class=\"dataframe\">\n",
       "  <thead>\n",
       "    <tr style=\"text-align: right;\">\n",
       "      <th></th>\n",
       "      <th>x</th>\n",
       "      <th>y</th>\n",
       "    </tr>\n",
       "  </thead>\n",
       "  <tbody>\n",
       "    <tr>\n",
       "      <th>0</th>\n",
       "      <td>1</td>\n",
       "      <td>12</td>\n",
       "    </tr>\n",
       "    <tr>\n",
       "      <th>1</th>\n",
       "      <td>122</td>\n",
       "      <td>34</td>\n",
       "    </tr>\n",
       "    <tr>\n",
       "      <th>2</th>\n",
       "      <td>-12</td>\n",
       "      <td>323</td>\n",
       "    </tr>\n",
       "  </tbody>\n",
       "</table>\n",
       "</div>"
      ],
      "text/plain": [
       "     x    y\n",
       "0    1   12\n",
       "1  122   34\n",
       "2  -12  323"
      ]
     },
     "execution_count": 6,
     "metadata": {},
     "output_type": "execute_result"
    }
   ],
   "source": [
    "# load input and show data points\n",
    "\n",
    "input_data = pd.read_csv(input_file, header=None, names=['x', 'y'])\n",
    "plt.plot(input_data['x'], input_data['y'], 'r.')\n",
    "plt.show()\n",
    "input_data"
   ]
  },
  {
   "cell_type": "code",
   "execution_count": 7,
   "metadata": {},
   "outputs": [],
   "source": [
    "# create matrix\n",
    "\n",
    "A = [];\n",
    "x_vector = [[0] for _ in range(N)];\n",
    "b = [];\n",
    "\n",
    "for index, row in input_data.iterrows():\n",
    "    b.append([row['y']])\n",
    "    A.append([basis(row['x'], (N - 1) - i) for i in range(N)])"
   ]
  },
  {
   "cell_type": "code",
   "execution_count": 8,
   "metadata": {
    "scrolled": true
   },
   "outputs": [
    {
     "data": {
      "text/html": [
       "<div>\n",
       "<style scoped>\n",
       "    .dataframe tbody tr th:only-of-type {\n",
       "        vertical-align: middle;\n",
       "    }\n",
       "\n",
       "    .dataframe tbody tr th {\n",
       "        vertical-align: top;\n",
       "    }\n",
       "\n",
       "    .dataframe thead th {\n",
       "        text-align: right;\n",
       "    }\n",
       "</style>\n",
       "<table border=\"1\" class=\"dataframe\">\n",
       "  <thead>\n",
       "    <tr style=\"text-align: right;\">\n",
       "      <th></th>\n",
       "      <th>0</th>\n",
       "      <th>1</th>\n",
       "      <th>2</th>\n",
       "      <th>3</th>\n",
       "    </tr>\n",
       "  </thead>\n",
       "  <tbody>\n",
       "    <tr>\n",
       "      <th>0</th>\n",
       "      <td>1</td>\n",
       "      <td>1</td>\n",
       "      <td>1</td>\n",
       "      <td>1</td>\n",
       "    </tr>\n",
       "    <tr>\n",
       "      <th>1</th>\n",
       "      <td>1815848</td>\n",
       "      <td>14884</td>\n",
       "      <td>122</td>\n",
       "      <td>1</td>\n",
       "    </tr>\n",
       "    <tr>\n",
       "      <th>2</th>\n",
       "      <td>-1728</td>\n",
       "      <td>144</td>\n",
       "      <td>-12</td>\n",
       "      <td>1</td>\n",
       "    </tr>\n",
       "  </tbody>\n",
       "</table>\n",
       "</div>"
      ],
      "text/plain": [
       "         0      1    2  3\n",
       "0        1      1    1  1\n",
       "1  1815848  14884  122  1\n",
       "2    -1728    144  -12  1"
      ]
     },
     "execution_count": 8,
     "metadata": {},
     "output_type": "execute_result"
    }
   ],
   "source": [
    "pd.DataFrame(A)"
   ]
  },
  {
   "cell_type": "code",
   "execution_count": 9,
   "metadata": {},
   "outputs": [
    {
     "data": {
      "text/html": [
       "<div>\n",
       "<style scoped>\n",
       "    .dataframe tbody tr th:only-of-type {\n",
       "        vertical-align: middle;\n",
       "    }\n",
       "\n",
       "    .dataframe tbody tr th {\n",
       "        vertical-align: top;\n",
       "    }\n",
       "\n",
       "    .dataframe thead th {\n",
       "        text-align: right;\n",
       "    }\n",
       "</style>\n",
       "<table border=\"1\" class=\"dataframe\">\n",
       "  <thead>\n",
       "    <tr style=\"text-align: right;\">\n",
       "      <th></th>\n",
       "      <th>0</th>\n",
       "    </tr>\n",
       "  </thead>\n",
       "  <tbody>\n",
       "    <tr>\n",
       "      <th>0</th>\n",
       "      <td>0</td>\n",
       "    </tr>\n",
       "    <tr>\n",
       "      <th>1</th>\n",
       "      <td>0</td>\n",
       "    </tr>\n",
       "    <tr>\n",
       "      <th>2</th>\n",
       "      <td>0</td>\n",
       "    </tr>\n",
       "    <tr>\n",
       "      <th>3</th>\n",
       "      <td>0</td>\n",
       "    </tr>\n",
       "  </tbody>\n",
       "</table>\n",
       "</div>"
      ],
      "text/plain": [
       "   0\n",
       "0  0\n",
       "1  0\n",
       "2  0\n",
       "3  0"
      ]
     },
     "execution_count": 9,
     "metadata": {},
     "output_type": "execute_result"
    }
   ],
   "source": [
    "pd.DataFrame(x_vector)"
   ]
  },
  {
   "cell_type": "code",
   "execution_count": 10,
   "metadata": {},
   "outputs": [
    {
     "data": {
      "text/html": [
       "<div>\n",
       "<style scoped>\n",
       "    .dataframe tbody tr th:only-of-type {\n",
       "        vertical-align: middle;\n",
       "    }\n",
       "\n",
       "    .dataframe tbody tr th {\n",
       "        vertical-align: top;\n",
       "    }\n",
       "\n",
       "    .dataframe thead th {\n",
       "        text-align: right;\n",
       "    }\n",
       "</style>\n",
       "<table border=\"1\" class=\"dataframe\">\n",
       "  <thead>\n",
       "    <tr style=\"text-align: right;\">\n",
       "      <th></th>\n",
       "      <th>0</th>\n",
       "    </tr>\n",
       "  </thead>\n",
       "  <tbody>\n",
       "    <tr>\n",
       "      <th>0</th>\n",
       "      <td>12</td>\n",
       "    </tr>\n",
       "    <tr>\n",
       "      <th>1</th>\n",
       "      <td>34</td>\n",
       "    </tr>\n",
       "    <tr>\n",
       "      <th>2</th>\n",
       "      <td>323</td>\n",
       "    </tr>\n",
       "  </tbody>\n",
       "</table>\n",
       "</div>"
      ],
      "text/plain": [
       "     0\n",
       "0   12\n",
       "1   34\n",
       "2  323"
      ]
     },
     "execution_count": 10,
     "metadata": {},
     "output_type": "execute_result"
    }
   ],
   "source": [
    "pd.DataFrame(b)"
   ]
  },
  {
   "cell_type": "code",
   "execution_count": 31,
   "metadata": {},
   "outputs": [],
   "source": [
    "ATA = mul_matrix(tranpose_matrix(A), A)\n",
    "ATA_Lambda = add_matrix(ATA, mul_matrix_scalar(Lambda, unit_matrix(N)))\n",
    "x_vector = mul_matrix( inverse_matrix(ATA_Lambda), tranpose_matrix(A))\n",
    "x_vector = mul_matrix(x_vector, b)"
   ]
  },
  {
   "cell_type": "code",
   "execution_count": 32,
   "metadata": {},
   "outputs": [],
   "source": [
    "x_vector = linear_regression(input_data, 3)"
   ]
  },
  {
   "cell_type": "code",
   "execution_count": 33,
   "metadata": {},
   "outputs": [
    {
     "data": {
      "text/html": [
       "<div>\n",
       "<style scoped>\n",
       "    .dataframe tbody tr th:only-of-type {\n",
       "        vertical-align: middle;\n",
       "    }\n",
       "\n",
       "    .dataframe tbody tr th {\n",
       "        vertical-align: top;\n",
       "    }\n",
       "\n",
       "    .dataframe thead th {\n",
       "        text-align: right;\n",
       "    }\n",
       "</style>\n",
       "<table border=\"1\" class=\"dataframe\">\n",
       "  <thead>\n",
       "    <tr style=\"text-align: right;\">\n",
       "      <th></th>\n",
       "      <th>0</th>\n",
       "    </tr>\n",
       "  </thead>\n",
       "  <tbody>\n",
       "    <tr>\n",
       "      <th>0</th>\n",
       "      <td>0.188303</td>\n",
       "    </tr>\n",
       "    <tr>\n",
       "      <th>1</th>\n",
       "      <td>-22.848022</td>\n",
       "    </tr>\n",
       "    <tr>\n",
       "      <th>2</th>\n",
       "      <td>18.779456</td>\n",
       "    </tr>\n",
       "  </tbody>\n",
       "</table>\n",
       "</div>"
      ],
      "text/plain": [
       "           0\n",
       "0   0.188303\n",
       "1 -22.848022\n",
       "2  18.779456"
      ]
     },
     "execution_count": 33,
     "metadata": {},
     "output_type": "execute_result"
    }
   ],
   "source": [
    "pd.DataFrame(x_vector)"
   ]
  },
  {
   "cell_type": "code",
   "execution_count": 34,
   "metadata": {},
   "outputs": [],
   "source": [
    "answer_line = polynomial_equation(x_vector)"
   ]
  },
  {
   "cell_type": "code",
   "execution_count": 35,
   "metadata": {},
   "outputs": [
    {
     "data": {
      "image/png": "[encoded data removed]",
      "text/plain": [
       "<Figure size 432x288 with 1 Axes>"
      ]
     },
     "metadata": {},
     "output_type": "display_data"
    }
   ],
   "source": [
    "x_range = [i/100 for i in range(-1000,1000)]\n",
    "y_range = [answer_line.f(x) for x in x_range]\n",
    "plt.plot(x_range, y_range, 'b--', label='regression')\n",
    "plt.plot(input_data['x'], input_data['y'], 'ro', label='data point')\n",
    "plt.legend()\n",
    "plt.show()"
   ]
  },
  {
   "cell_type": "markdown",
   "metadata": {},
   "source": [
    "# Gen data from sin function with noise"
   ]
  },
  {
   "cell_type": "code",
   "execution_count": 37,
   "metadata": {},
   "outputs": [],
   "source": [
    "import random\n",
    "import math\n",
    "x_range = [i/100 for i in range(0,700)]\n",
    "sin_data = []\n",
    "random_dis = [random.random() for i in range(10)]\n",
    "random_dis = [sum(random_dis[0:i+1])/sum(random_dis) for i in range(9)]\n",
    "\n",
    "for i in random_dis:\n",
    "    x = x_range[round(i*len(x_range))]\n",
    "    y = math.sin(x) * (0.9 + 0.2*random.random())\n",
    "    sin_data.append([x,y])"
   ]
  },
  {
   "cell_type": "code",
   "execution_count": 38,
   "metadata": {},
   "outputs": [
    {
     "data": {
      "text/html": [
       "<div>\n",
       "<style scoped>\n",
       "    .dataframe tbody tr th:only-of-type {\n",
       "        vertical-align: middle;\n",
       "    }\n",
       "\n",
       "    .dataframe tbody tr th {\n",
       "        vertical-align: top;\n",
       "    }\n",
       "\n",
       "    .dataframe thead th {\n",
       "        text-align: right;\n",
       "    }\n",
       "</style>\n",
       "<table border=\"1\" class=\"dataframe\">\n",
       "  <thead>\n",
       "    <tr style=\"text-align: right;\">\n",
       "      <th></th>\n",
       "      <th>x</th>\n",
       "      <th>y</th>\n",
       "    </tr>\n",
       "  </thead>\n",
       "  <tbody>\n",
       "    <tr>\n",
       "      <th>0</th>\n",
       "      <td>0.93</td>\n",
       "      <td>0.771175</td>\n",
       "    </tr>\n",
       "    <tr>\n",
       "      <th>1</th>\n",
       "      <td>1.24</td>\n",
       "      <td>0.961645</td>\n",
       "    </tr>\n",
       "    <tr>\n",
       "      <th>2</th>\n",
       "      <td>2.02</td>\n",
       "      <td>0.957316</td>\n",
       "    </tr>\n",
       "    <tr>\n",
       "      <th>3</th>\n",
       "      <td>2.50</td>\n",
       "      <td>0.607980</td>\n",
       "    </tr>\n",
       "    <tr>\n",
       "      <th>4</th>\n",
       "      <td>3.16</td>\n",
       "      <td>-0.018968</td>\n",
       "    </tr>\n",
       "    <tr>\n",
       "      <th>5</th>\n",
       "      <td>4.04</td>\n",
       "      <td>-0.823714</td>\n",
       "    </tr>\n",
       "    <tr>\n",
       "      <th>6</th>\n",
       "      <td>4.15</td>\n",
       "      <td>-0.919568</td>\n",
       "    </tr>\n",
       "    <tr>\n",
       "      <th>7</th>\n",
       "      <td>4.50</td>\n",
       "      <td>-0.913314</td>\n",
       "    </tr>\n",
       "    <tr>\n",
       "      <th>8</th>\n",
       "      <td>5.42</td>\n",
       "      <td>-0.834870</td>\n",
       "    </tr>\n",
       "  </tbody>\n",
       "</table>\n",
       "</div>"
      ],
      "text/plain": [
       "      x         y\n",
       "0  0.93  0.771175\n",
       "1  1.24  0.961645\n",
       "2  2.02  0.957316\n",
       "3  2.50  0.607980\n",
       "4  3.16 -0.018968\n",
       "5  4.04 -0.823714\n",
       "6  4.15 -0.919568\n",
       "7  4.50 -0.913314\n",
       "8  5.42 -0.834870"
      ]
     },
     "execution_count": 38,
     "metadata": {},
     "output_type": "execute_result"
    }
   ],
   "source": [
    "input_data_sin = pd.DataFrame(sin_data)\n",
    "input_data_sin.columns = ['x', 'y']\n",
    "input_data_sin"
   ]
  },
  {
   "cell_type": "code",
   "execution_count": 39,
   "metadata": {},
   "outputs": [
    {
     "data": {
      "image/png": "[encoded data removed]",
      "text/plain": [
       "<Figure size 432x288 with 1 Axes>"
      ]
     },
     "metadata": {},
     "output_type": "display_data"
    },
    {
     "data": {
      "text/html": [
       "<div>\n",
       "<style scoped>\n",
       "    .dataframe tbody tr th:only-of-type {\n",
       "        vertical-align: middle;\n",
       "    }\n",
       "\n",
       "    .dataframe tbody tr th {\n",
       "        vertical-align: top;\n",
       "    }\n",
       "\n",
       "    .dataframe thead th {\n",
       "        text-align: right;\n",
       "    }\n",
       "</style>\n",
       "<table border=\"1\" class=\"dataframe\">\n",
       "  <thead>\n",
       "    <tr style=\"text-align: right;\">\n",
       "      <th></th>\n",
       "      <th>x</th>\n",
       "      <th>y</th>\n",
       "    </tr>\n",
       "  </thead>\n",
       "  <tbody>\n",
       "    <tr>\n",
       "      <th>0</th>\n",
       "      <td>1</td>\n",
       "      <td>12</td>\n",
       "    </tr>\n",
       "    <tr>\n",
       "      <th>1</th>\n",
       "      <td>122</td>\n",
       "      <td>34</td>\n",
       "    </tr>\n",
       "    <tr>\n",
       "      <th>2</th>\n",
       "      <td>-12</td>\n",
       "      <td>323</td>\n",
       "    </tr>\n",
       "  </tbody>\n",
       "</table>\n",
       "</div>"
      ],
      "text/plain": [
       "     x    y\n",
       "0    1   12\n",
       "1  122   34\n",
       "2  -12  323"
      ]
     },
     "execution_count": 39,
     "metadata": {},
     "output_type": "execute_result"
    }
   ],
   "source": [
    "#input_data = pd.read_csv(input_file, header=None, names=['x', 'y'])\n",
    "plt.plot(input_data_sin['x'], input_data_sin['y'], 'r.')\n",
    "plt.plot(x_range, [math.sin(x) for x in x_range], 'b')\n",
    "plt.show()\n",
    "input_data"
   ]
  },
  {
   "cell_type": "markdown",
   "metadata": {},
   "source": [
    "# Linear regression"
   ]
  },
  {
   "cell_type": "code",
   "execution_count": 40,
   "metadata": {},
   "outputs": [
    {
     "name": "stdout",
     "output_type": "stream",
     "text": [
      "[[0.12455935899980933], [-1.187169485491739], [2.7907474836419093], [-0.8970307695194585]]\n"
     ]
    },
    {
     "data": {
      "image/png": "[encoded data removed]",
      "text/plain": [
       "<Figure size 432x288 with 1 Axes>"
      ]
     },
     "metadata": {},
     "output_type": "display_data"
    }
   ],
   "source": [
    "x_vector = linear_regression(input_data_sin, 4, 0)\n",
    "print(x_vector)\n",
    "answer_line = polynomial_equation(x_vector)\n",
    "y_range = [answer_line.f(x) for x in x_range]\n",
    "plt.plot(x_range, [math.sin(x) for x in x_range], 'y', label='origin data source')\n",
    "plt.plot(x_range, y_range, 'b--', label='regression')\n",
    "plt.plot(input_data_sin['x'], input_data_sin['y'], 'ro', label='data point')\n",
    "plt.legend()\n",
    "plt.show()"
   ]
  },
  {
   "cell_type": "code",
   "execution_count": 41,
   "metadata": {
    "scrolled": true
   },
   "outputs": [
    {
     "data": {
      "text/latex": [
       "$$y = +0.12x^3-1.19x^2+2.79x^1-0.90$$"
      ],
      "text/plain": [
       "<IPython.core.display.Latex object>"
      ]
     },
     "execution_count": 41,
     "metadata": {},
     "output_type": "execute_result"
    }
   ],
   "source": [
    "Latex(str(answer_line))"
   ]
  },
  {
   "cell_type": "code",
   "execution_count": 42,
   "metadata": {},
   "outputs": [
    {
     "data": {
      "text/plain": [
       "0.02050344082739898"
      ]
     },
     "execution_count": 42,
     "metadata": {},
     "output_type": "execute_result"
    }
   ],
   "source": [
    "answer_line.rLSE(input_data_sin['x'], input_data_sin['y'], 0)"
   ]
  },
  {
   "cell_type": "markdown",
   "metadata": {},
   "source": [
    "## Newton's method in optimization\n",
    "\n",
    "use n=2 Taylor series and newton's method for optimization\n",
    "\n",
    "$$ \\\\\n",
    "x_1 = x_{0} - \\frac{f^{'}(x_0)}{f^{''}(x_0)} $$\n",
    "\n",
    "can present this format when high dimension\n",
    "\n",
    "$$ \\\\\n",
    "\\vec{x_1} = \\vec{x_0} - Hf(\\vec{x_0})^{-1} \\nabla f(\\vec{x_0}) \\\\\n",
    "Hf(x_0)^{-1} = \n",
    "\\left [ \\begin{array}{cc} \n",
    "\\frac{\\partial^2f}{\\partial {x_0}^2} & \\frac{\\partial^2f}{\\partial {x_0}{x_1}} & \\cdots & \\frac{\\partial^2f}{\\partial {x_0}{x_n}} \\\\\n",
    "\\frac{\\partial^2f}{\\partial {x_1}{x_0}} & \\frac{\\partial^2f}{\\partial {x_1}^2} & \\cdots & \\frac{\\partial^2f}{\\partial {x_1}{x_n}} \\\\\n",
    "\\vdots & \\vdots & \\ddots & \\vdots \\\\\n",
    "\\frac{\\partial^2f}{\\partial {x_n}{x_0}} & \\frac{\\partial^2f}{\\partial {x_n}{x_1}} & \\cdots & \\frac{\\partial^2f}{\\partial {x_n}^2} \n",
    "\\end{array} \\right ]$$\n",
    "\n",
    "### LSE\n",
    "\n",
    "$$ \\\\\n",
    "LSE = f(x) = ||A\\vec{x}-\\vec{b}||^2 = x^TA^TA\\vec{x} - 2x^TA^T\\vec{b} + \\vec{b}^T\\vec{b} \\\\\n",
    "\\nabla f(\\vec{x}) = f^{'}(x) = 2A^TA\\vec{x} - 2A^T\\vec{b}\\\\\n",
    "Hf(\\vec{x}) = f^{''}(x) = 2A^TA \\\\\n",
    "\\\\\n",
    "\\vec{x_1} = \\vec{x_0} - (2A^TA)^{-1}(2A^TA\\vec{x_0} - 2A^T\\vec{b}) \\\\\n",
    "$$"
   ]
  },
  {
   "cell_type": "code",
   "execution_count": 43,
   "metadata": {},
   "outputs": [],
   "source": [
    "def inter_newton(x0, A, b):\n",
    "    AT = tranpose_matrix(A)\n",
    "    hession = mul_matrix(mul_matrix_scalar(2, AT), A)\n",
    "    inverse_hession = inverse_matrix(hession)\n",
    "    nabla = sub_matrix(mul_matrix(hession, x0), mul_matrix(mul_matrix_scalar(2,AT), b))\n",
    "    x_gradient = mul_matrix(inverse_hession, nabla)\n",
    "    x1 = sub_matrix(x0, x_gradient)\n",
    "    return x1\n",
    "\n",
    "def newton(datas, N = 2, delta = 0.001, x_init = None, over_iter = 2):\n",
    "    A,b = convert_data_Ab(datas, N)\n",
    "    \n",
    "    if (x_init != None):\n",
    "        x_old = [[x_init[i][0]] for i in range(N)]\n",
    "    else:\n",
    "        x_old = [[0] for _ in range(N)]\n",
    "    \n",
    "    while True:\n",
    "        x_new = inter_newton(x_old, A, b)\n",
    "        \n",
    "        x_delta = sub_matrix(x_new, x_old)\n",
    "        x_delta = mul_matrix(tranpose_matrix(x_delta), x_delta)\n",
    "        \n",
    "        if x_delta[0][0] < delta:\n",
    "            if over_iter <= 0:\n",
    "                break\n",
    "            else:\n",
    "                over_iter = over_iter - 1\n",
    "        \n",
    "        x_old = x_new\n",
    "    \n",
    "    return x_new"
   ]
  },
  {
   "cell_type": "code",
   "execution_count": 44,
   "metadata": {},
   "outputs": [
    {
     "name": "stdout",
     "output_type": "stream",
     "text": [
      "[[0.12455935899987478], [-1.187169485492409], [2.790747483643854], [-0.8970307695208991]]\n"
     ]
    },
    {
     "data": {
      "image/png": "[encoded data removed]",
      "text/plain": [
       "<Figure size 432x288 with 1 Axes>"
      ]
     },
     "metadata": {},
     "output_type": "display_data"
    }
   ],
   "source": [
    "x_newton = newton(input_data_sin, 4)\n",
    "print(x_newton)\n",
    "answer_line_newton = polynomial_equation(x_newton)\n",
    "y_range = [answer_line_newton.f(x) for x in x_range]\n",
    "plt.plot(x_range, [math.sin(x) for x in x_range], 'y', label='origin data source')\n",
    "plt.plot(x_range, y_range, 'b--', label='regression')\n",
    "plt.plot(input_data_sin['x'], input_data_sin['y'], 'ro', label='data point')\n",
    "plt.legend()\n",
    "plt.show()"
   ]
  },
  {
   "cell_type": "code",
   "execution_count": 45,
   "metadata": {},
   "outputs": [
    {
     "data": {
      "text/latex": [
       "$$y = +0.12x^3-1.19x^2+2.79x^1-0.90$$"
      ],
      "text/plain": [
       "<IPython.core.display.Latex object>"
      ]
     },
     "execution_count": 45,
     "metadata": {},
     "output_type": "execute_result"
    }
   ],
   "source": [
    "Latex(str(answer_line_newton))"
   ]
  },
  {
   "cell_type": "code",
   "execution_count": 46,
   "metadata": {},
   "outputs": [
    {
     "data": {
      "text/plain": [
       "0.02050344082739835"
      ]
     },
     "execution_count": 46,
     "metadata": {},
     "output_type": "execute_result"
    }
   ],
   "source": [
    "answer_line_newton.rLSE(input_data_sin['x'], input_data_sin['y'], 0)"
   ]
  },
  {
   "cell_type": "code",
   "execution_count": 47,
   "metadata": {},
   "outputs": [
    {
     "data": {
      "text/latex": [
       "$$y = +0.12x^3-1.19x^2+2.79x^1-0.90$$"
      ],
      "text/plain": [
       "<IPython.core.display.Latex object>"
      ]
     },
     "execution_count": 47,
     "metadata": {},
     "output_type": "execute_result"
    }
   ],
   "source": [
    "Latex(str(answer_line))"
   ]
  },
  {
   "cell_type": "code",
   "execution_count": 48,
   "metadata": {},
   "outputs": [
    {
     "data": {
      "text/plain": [
       "-6.314393452555578e-16"
      ]
     },
     "execution_count": 48,
     "metadata": {},
     "output_type": "execute_result"
    }
   ],
   "source": [
    "answer_line_newton.rLSE(input_data_sin['x'], input_data_sin['y'], 0) - answer_line.rLSE(input_data_sin['x'], input_data_sin['y'], 0)"
   ]
  },
  {
   "cell_type": "code",
   "execution_count": null,
   "metadata": {},
   "outputs": [],
   "source": []
  }
 ],
 "metadata": {
  "kernelspec": {
   "display_name": "Python 3",
   "language": "python",
   "name": "python3"
  },
  "language_info": {
   "codemirror_mode": {
    "name": "ipython",
    "version": 3
   },
   "file_extension": ".py",
   "mimetype": "text/x-python",
   "name": "python",
   "nbconvert_exporter": "python",
   "pygments_lexer": "ipython3",
   "version": "3.6.6"
  }
 },
 "nbformat": 4,
 "nbformat_minor": 2
}
