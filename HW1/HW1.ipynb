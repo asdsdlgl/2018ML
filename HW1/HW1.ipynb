{
 "cells": [
  {
   "cell_type": "markdown",
   "metadata": {},
   "source": [
    "# HW1 Linear regression and Newton's method\n",
    "\n",
    "### input data\n",
    "\n",
    "- File name : file contained mulit pairs (x,y)\n",
    "- N : the number of polynomial of basis\n",
    "- Lambda : rLSE parameter\n",
    "\n",
    "### output\n",
    "\n",
    "- vector : contain polynomail parameters (length : N)"
   ]
  },
  {
   "cell_type": "code",
   "execution_count": 1,
   "metadata": {},
   "outputs": [],
   "source": [
    "import pandas as pd\n",
    "import numpy as np\n",
    "import matplotlib.pyplot as plt"
   ]
  },
  {
   "cell_type": "code",
   "execution_count": 2,
   "metadata": {},
   "outputs": [],
   "source": [
    "def tranpose_matrix(m):\n",
    "    row = len(m);\n",
    "    col = len(m[0]);\n",
    "    t = [];\n",
    "    for i in range(col):\n",
    "        t.append([m[j][i] for j in range(row)])\n",
    "        \n",
    "    return t;\n",
    "\n",
    "def mul_matrix(a, b):\n",
    "    row = len(a);\n",
    "    mid = len(a[0]);\n",
    "    if (mid != len(b)):\n",
    "        return None;\n",
    "    col = len(b[0]);\n",
    "    r = [];\n",
    "    for i in range(row):\n",
    "        r.append([sum([a[i][k] * b[k][j] for k in range(mid)]) for j in range(col)])\n",
    "    \n",
    "    return r;\n",
    "\n",
    "def add_matrix(a, b):\n",
    "    if len(a) != len(b) or len(a[0]) != len(b[0]):\n",
    "        raise Exception(\"row col not the same\")\n",
    "    c = []\n",
    "    for i in range(len(a)):\n",
    "        c.append(list(map(lambda x,y:x+y,a[i],b[i])))\n",
    "    \n",
    "    return c;\n",
    "\n",
    "def mul_matrix_scalar(s, m):\n",
    "    if type(m) != list:\n",
    "        raise Exception(\"type error : \" + str(type(m)))\n",
    "\n",
    "    r = [];\n",
    "    for i in m:\n",
    "        r.append([j*s for j in i])\n",
    "    \n",
    "    return r;\n",
    "        \n",
    "def unit_matrix(n):\n",
    "    unit = [];\n",
    "    for i in range(n):\n",
    "        unit.append([1 if i == j else 0 for j in range(n)])\n",
    "    return unit\n",
    "\n",
    "def solve_X_by_LU(L, U, y):\n",
    "    x = [0 for _ in range(len(y))];\n",
    "    Ux = [];\n",
    "    for i in range(len(y)):\n",
    "        tmp = y[i]\n",
    "        for j in range(i):\n",
    "            tmp = tmp - Ux[j]*L[i][j]\n",
    "        Ux.append(tmp)\n",
    "    for i in reversed(range(len(Ux))):\n",
    "        tmp = Ux[i]\n",
    "        for j in range(len(Ux) - i - 1):\n",
    "            j = j + i + 1\n",
    "            tmp = tmp - x[j]*U[i][j] \n",
    "        x[i] = tmp / U[i][i]\n",
    "        \n",
    "    return x;\n",
    "    \n",
    "def inverse_matrix(m):\n",
    "    row = len(m)\n",
    "    col = len(m[0])\n",
    "    if (row != col):\n",
    "        return None;\n",
    "    L = unit_matrix(row);\n",
    "    U = [list(m[i]) for i in range(row)];\n",
    "    for i in range(row):\n",
    "        for j in range(col):\n",
    "            if j >= i:\n",
    "                continue;\n",
    "            L[i][j] = U[i][j]/U[j][j];\n",
    "            U[i] = list(map(lambda x,y:x - (L[i][j] * y) , U[i], U[j]))\n",
    "    \n",
    "    b = unit_matrix(row)\n",
    "    inverse_m = [];\n",
    "    for i in b:\n",
    "        inverse_m.append(solve_X_by_LU(L, U, i))\n",
    "    inverse_m = tranpose_matrix(inverse_m)\n",
    "    return inverse_m;"
   ]
  },
  {
   "cell_type": "code",
   "execution_count": 3,
   "metadata": {},
   "outputs": [],
   "source": [
    "def polynomial_basis(x, n):\n",
    "    return x**n;\n",
    "\n",
    "def polynomial_equation(x_vector):\n",
    "    return lambda x:sum([basis(x, i)*x_vector[-1-i][0] for i in range(len(x_vector))]);"
   ]
  },
  {
   "cell_type": "code",
   "execution_count": 12,
   "metadata": {},
   "outputs": [],
   "source": [
    "def linear_regression(datas, N = 2, Lambda = 1.0):\n",
    "    # create matrix\n",
    "    A = [];\n",
    "    b = [];\n",
    "\n",
    "    for index, row in datas.iterrows():\n",
    "        b.append([row['y']])\n",
    "        A.append([basis(row['x'], (N - 1) - i) for i in range(N)])\n",
    "    \n",
    "    ATA = mul_matrix(tranpose_matrix(A), A)\n",
    "    ATA_Lambda = add_matrix(ATA, mul_matrix_scalar(Lambda, unit_matrix(N)))\n",
    "    x_vector = mul_matrix( inverse_matrix(ATA_Lambda), tranpose_matrix(A))\n",
    "    x_vector = mul_matrix(x_vector, b)\n",
    "    \n",
    "    return x_vector;"
   ]
  },
  {
   "cell_type": "code",
   "execution_count": 5,
   "metadata": {},
   "outputs": [],
   "source": [
    "# config\n",
    "\n",
    "input_file = \"data.csv\";\n",
    "N = 4;\n",
    "Lambda = 1.0;\n",
    "\n",
    "basis = polynomial_basis;"
   ]
  },
  {
   "cell_type": "code",
   "execution_count": 6,
   "metadata": {},
   "outputs": [
    {
     "data": {
      "image/png": "[encoded data removed]",
      "text/plain": [
       "<Figure size 432x288 with 1 Axes>"
      ]
     },
     "metadata": {},
     "output_type": "display_data"
    },
    {
     "data": {
      "text/html": [
       "<div>\n",
       "<style scoped>\n",
       "    .dataframe tbody tr th:only-of-type {\n",
       "        vertical-align: middle;\n",
       "    }\n",
       "\n",
       "    .dataframe tbody tr th {\n",
       "        vertical-align: top;\n",
       "    }\n",
       "\n",
       "    .dataframe thead th {\n",
       "        text-align: right;\n",
       "    }\n",
       "</style>\n",
       "<table border=\"1\" class=\"dataframe\">\n",
       "  <thead>\n",
       "    <tr style=\"text-align: right;\">\n",
       "      <th></th>\n",
       "      <th>x</th>\n",
       "      <th>y</th>\n",
       "    </tr>\n",
       "  </thead>\n",
       "  <tbody>\n",
       "    <tr>\n",
       "      <th>0</th>\n",
       "      <td>1</td>\n",
       "      <td>12</td>\n",
       "    </tr>\n",
       "    <tr>\n",
       "      <th>1</th>\n",
       "      <td>122</td>\n",
       "      <td>34</td>\n",
       "    </tr>\n",
       "    <tr>\n",
       "      <th>2</th>\n",
       "      <td>-12</td>\n",
       "      <td>323</td>\n",
       "    </tr>\n",
       "  </tbody>\n",
       "</table>\n",
       "</div>"
      ],
      "text/plain": [
       "     x    y\n",
       "0    1   12\n",
       "1  122   34\n",
       "2  -12  323"
      ]
     },
     "execution_count": 6,
     "metadata": {},
     "output_type": "execute_result"
    }
   ],
   "source": [
    "# load input and show data points\n",
    "\n",
    "input_data = pd.read_csv(input_file, header=None, names=['x', 'y'])\n",
    "plt.plot(input_data['x'], input_data['y'], 'r.')\n",
    "plt.show()\n",
    "input_data"
   ]
  },
  {
   "cell_type": "code",
   "execution_count": 138,
   "metadata": {},
   "outputs": [],
   "source": [
    "# create matrix\n",
    "\n",
    "A = [];\n",
    "x_vector = [[0] for _ in range(N)];\n",
    "b = [];\n",
    "\n",
    "for index, row in input_data.iterrows():\n",
    "    b.append([row['y']])\n",
    "    A.append([basis(row['x'], (N - 1) - i) for i in range(N)])"
   ]
  },
  {
   "cell_type": "code",
   "execution_count": 139,
   "metadata": {
    "scrolled": true
   },
   "outputs": [
    {
     "data": {
      "text/html": [
       "<div>\n",
       "<style scoped>\n",
       "    .dataframe tbody tr th:only-of-type {\n",
       "        vertical-align: middle;\n",
       "    }\n",
       "\n",
       "    .dataframe tbody tr th {\n",
       "        vertical-align: top;\n",
       "    }\n",
       "\n",
       "    .dataframe thead th {\n",
       "        text-align: right;\n",
       "    }\n",
       "</style>\n",
       "<table border=\"1\" class=\"dataframe\">\n",
       "  <thead>\n",
       "    <tr style=\"text-align: right;\">\n",
       "      <th></th>\n",
       "      <th>0</th>\n",
       "      <th>1</th>\n",
       "      <th>2</th>\n",
       "    </tr>\n",
       "  </thead>\n",
       "  <tbody>\n",
       "    <tr>\n",
       "      <th>0</th>\n",
       "      <td>1</td>\n",
       "      <td>1</td>\n",
       "      <td>1</td>\n",
       "    </tr>\n",
       "    <tr>\n",
       "      <th>1</th>\n",
       "      <td>14884</td>\n",
       "      <td>122</td>\n",
       "      <td>1</td>\n",
       "    </tr>\n",
       "    <tr>\n",
       "      <th>2</th>\n",
       "      <td>144</td>\n",
       "      <td>-12</td>\n",
       "      <td>1</td>\n",
       "    </tr>\n",
       "  </tbody>\n",
       "</table>\n",
       "</div>"
      ],
      "text/plain": [
       "       0    1  2\n",
       "0      1    1  1\n",
       "1  14884  122  1\n",
       "2    144  -12  1"
      ]
     },
     "execution_count": 139,
     "metadata": {},
     "output_type": "execute_result"
    }
   ],
   "source": [
    "pd.DataFrame(A)"
   ]
  },
  {
   "cell_type": "code",
   "execution_count": 140,
   "metadata": {},
   "outputs": [
    {
     "data": {
      "text/html": [
       "<div>\n",
       "<style scoped>\n",
       "    .dataframe tbody tr th:only-of-type {\n",
       "        vertical-align: middle;\n",
       "    }\n",
       "\n",
       "    .dataframe tbody tr th {\n",
       "        vertical-align: top;\n",
       "    }\n",
       "\n",
       "    .dataframe thead th {\n",
       "        text-align: right;\n",
       "    }\n",
       "</style>\n",
       "<table border=\"1\" class=\"dataframe\">\n",
       "  <thead>\n",
       "    <tr style=\"text-align: right;\">\n",
       "      <th></th>\n",
       "      <th>0</th>\n",
       "    </tr>\n",
       "  </thead>\n",
       "  <tbody>\n",
       "    <tr>\n",
       "      <th>0</th>\n",
       "      <td>0</td>\n",
       "    </tr>\n",
       "    <tr>\n",
       "      <th>1</th>\n",
       "      <td>0</td>\n",
       "    </tr>\n",
       "    <tr>\n",
       "      <th>2</th>\n",
       "      <td>0</td>\n",
       "    </tr>\n",
       "  </tbody>\n",
       "</table>\n",
       "</div>"
      ],
      "text/plain": [
       "   0\n",
       "0  0\n",
       "1  0\n",
       "2  0"
      ]
     },
     "execution_count": 140,
     "metadata": {},
     "output_type": "execute_result"
    }
   ],
   "source": [
    "pd.DataFrame(x_vector)"
   ]
  },
  {
   "cell_type": "code",
   "execution_count": 141,
   "metadata": {},
   "outputs": [
    {
     "data": {
      "text/html": [
       "<div>\n",
       "<style scoped>\n",
       "    .dataframe tbody tr th:only-of-type {\n",
       "        vertical-align: middle;\n",
       "    }\n",
       "\n",
       "    .dataframe tbody tr th {\n",
       "        vertical-align: top;\n",
       "    }\n",
       "\n",
       "    .dataframe thead th {\n",
       "        text-align: right;\n",
       "    }\n",
       "</style>\n",
       "<table border=\"1\" class=\"dataframe\">\n",
       "  <thead>\n",
       "    <tr style=\"text-align: right;\">\n",
       "      <th></th>\n",
       "      <th>0</th>\n",
       "    </tr>\n",
       "  </thead>\n",
       "  <tbody>\n",
       "    <tr>\n",
       "      <th>0</th>\n",
       "      <td>12</td>\n",
       "    </tr>\n",
       "    <tr>\n",
       "      <th>1</th>\n",
       "      <td>34</td>\n",
       "    </tr>\n",
       "    <tr>\n",
       "      <th>2</th>\n",
       "      <td>323</td>\n",
       "    </tr>\n",
       "  </tbody>\n",
       "</table>\n",
       "</div>"
      ],
      "text/plain": [
       "     0\n",
       "0   12\n",
       "1   34\n",
       "2  323"
      ]
     },
     "execution_count": 141,
     "metadata": {},
     "output_type": "execute_result"
    }
   ],
   "source": [
    "pd.DataFrame(b)"
   ]
  },
  {
   "cell_type": "code",
   "execution_count": 143,
   "metadata": {},
   "outputs": [],
   "source": [
    "ATA = mul_matrix(tranpose_matrix(A), A)\n",
    "ATA_Lambda = add_matrix(ATA, mul_matrix_scalar(Lambda, unit_matrix(N)))\n",
    "x_vector = mul_matrix( inverse_matrix(ATA_Lambda), tranpose_matrix(A))\n",
    "x_vector = mul_matrix(x_vector, b)"
   ]
  },
  {
   "cell_type": "code",
   "execution_count": 26,
   "metadata": {},
   "outputs": [],
   "source": [
    "x_vector = linear_regression(input_data, 3)"
   ]
  },
  {
   "cell_type": "code",
   "execution_count": 27,
   "metadata": {},
   "outputs": [
    {
     "data": {
      "text/html": [
       "<div>\n",
       "<style scoped>\n",
       "    .dataframe tbody tr th:only-of-type {\n",
       "        vertical-align: middle;\n",
       "    }\n",
       "\n",
       "    .dataframe tbody tr th {\n",
       "        vertical-align: top;\n",
       "    }\n",
       "\n",
       "    .dataframe thead th {\n",
       "        text-align: right;\n",
       "    }\n",
       "</style>\n",
       "<table border=\"1\" class=\"dataframe\">\n",
       "  <thead>\n",
       "    <tr style=\"text-align: right;\">\n",
       "      <th></th>\n",
       "      <th>0</th>\n",
       "    </tr>\n",
       "  </thead>\n",
       "  <tbody>\n",
       "    <tr>\n",
       "      <th>0</th>\n",
       "      <td>0.188303</td>\n",
       "    </tr>\n",
       "    <tr>\n",
       "      <th>1</th>\n",
       "      <td>-22.848022</td>\n",
       "    </tr>\n",
       "    <tr>\n",
       "      <th>2</th>\n",
       "      <td>18.779456</td>\n",
       "    </tr>\n",
       "  </tbody>\n",
       "</table>\n",
       "</div>"
      ],
      "text/plain": [
       "           0\n",
       "0   0.188303\n",
       "1 -22.848022\n",
       "2  18.779456"
      ]
     },
     "execution_count": 27,
     "metadata": {},
     "output_type": "execute_result"
    }
   ],
   "source": [
    "pd.DataFrame(x_vector)"
   ]
  },
  {
   "cell_type": "code",
   "execution_count": 28,
   "metadata": {},
   "outputs": [],
   "source": [
    "answer_line = polynomial_equation(x_vector)"
   ]
  },
  {
   "cell_type": "code",
   "execution_count": 54,
   "metadata": {},
   "outputs": [
    {
     "data": {
      "image/png": "[encoded data removed]",
      "text/plain": [
       "<Figure size 432x288 with 1 Axes>"
      ]
     },
     "metadata": {},
     "output_type": "display_data"
    }
   ],
   "source": [
    "x_range = [i/100 for i in range(-1000,1000)]\n",
    "y_range = [answer_line(x) for x in x_range]\n",
    "plt.plot(x_range, y_range, 'b--', label='regression')\n",
    "plt.plot(input_data['x'], input_data['y'], 'ro', label='data point')\n",
    "plt.legend()\n",
    "plt.show()"
   ]
  },
  {
   "cell_type": "code",
   "execution_count": 68,
   "metadata": {},
   "outputs": [],
   "source": [
    "x_range = [i/100 for i in range(0,700)]"
   ]
  },
  {
   "cell_type": "code",
   "execution_count": 87,
   "metadata": {},
   "outputs": [],
   "source": [
    "import random\n",
    "import math\n",
    "sin_data = []\n",
    "random_dis = [random.random() for i in range(10)]\n",
    "random_dis = [sum(random_dis[0:i+1])/sum(random_dis) for i in range(9)]\n",
    "\n",
    "for i in random_dis:\n",
    "    x = x_range[round(i*len(x_range))]\n",
    "    y = math.sin(x) * (0.9 + 0.2*random.random())\n",
    "    sin_data.append([x,y])"
   ]
  },
  {
   "cell_type": "code",
   "execution_count": 88,
   "metadata": {},
   "outputs": [
    {
     "data": {
      "text/html": [
       "<div>\n",
       "<style scoped>\n",
       "    .dataframe tbody tr th:only-of-type {\n",
       "        vertical-align: middle;\n",
       "    }\n",
       "\n",
       "    .dataframe tbody tr th {\n",
       "        vertical-align: top;\n",
       "    }\n",
       "\n",
       "    .dataframe thead th {\n",
       "        text-align: right;\n",
       "    }\n",
       "</style>\n",
       "<table border=\"1\" class=\"dataframe\">\n",
       "  <thead>\n",
       "    <tr style=\"text-align: right;\">\n",
       "      <th></th>\n",
       "      <th>x</th>\n",
       "      <th>y</th>\n",
       "    </tr>\n",
       "  </thead>\n",
       "  <tbody>\n",
       "    <tr>\n",
       "      <th>0</th>\n",
       "      <td>0.07</td>\n",
       "      <td>0.067721</td>\n",
       "    </tr>\n",
       "    <tr>\n",
       "      <th>1</th>\n",
       "      <td>0.64</td>\n",
       "      <td>0.569210</td>\n",
       "    </tr>\n",
       "    <tr>\n",
       "      <th>2</th>\n",
       "      <td>1.47</td>\n",
       "      <td>0.910100</td>\n",
       "    </tr>\n",
       "    <tr>\n",
       "      <th>3</th>\n",
       "      <td>2.10</td>\n",
       "      <td>0.830122</td>\n",
       "    </tr>\n",
       "    <tr>\n",
       "      <th>4</th>\n",
       "      <td>2.36</td>\n",
       "      <td>0.682778</td>\n",
       "    </tr>\n",
       "    <tr>\n",
       "      <th>5</th>\n",
       "      <td>2.89</td>\n",
       "      <td>0.236033</td>\n",
       "    </tr>\n",
       "    <tr>\n",
       "      <th>6</th>\n",
       "      <td>4.09</td>\n",
       "      <td>-0.778760</td>\n",
       "    </tr>\n",
       "    <tr>\n",
       "      <th>7</th>\n",
       "      <td>4.21</td>\n",
       "      <td>-0.827332</td>\n",
       "    </tr>\n",
       "    <tr>\n",
       "      <th>8</th>\n",
       "      <td>5.59</td>\n",
       "      <td>-0.641403</td>\n",
       "    </tr>\n",
       "  </tbody>\n",
       "</table>\n",
       "</div>"
      ],
      "text/plain": [
       "      x         y\n",
       "0  0.07  0.067721\n",
       "1  0.64  0.569210\n",
       "2  1.47  0.910100\n",
       "3  2.10  0.830122\n",
       "4  2.36  0.682778\n",
       "5  2.89  0.236033\n",
       "6  4.09 -0.778760\n",
       "7  4.21 -0.827332\n",
       "8  5.59 -0.641403"
      ]
     },
     "execution_count": 88,
     "metadata": {},
     "output_type": "execute_result"
    }
   ],
   "source": [
    "input_data_sin = pd.DataFrame(sin_data)\n",
    "input_data_sin.columns = ['x', 'y']\n",
    "input_data_sin"
   ]
  },
  {
   "cell_type": "code",
   "execution_count": 89,
   "metadata": {},
   "outputs": [
    {
     "data": {
      "image/png": "[encoded data removed]",
      "text/plain": [
       "<Figure size 432x288 with 1 Axes>"
      ]
     },
     "metadata": {},
     "output_type": "display_data"
    },
    {
     "data": {
      "text/html": [
       "<div>\n",
       "<style scoped>\n",
       "    .dataframe tbody tr th:only-of-type {\n",
       "        vertical-align: middle;\n",
       "    }\n",
       "\n",
       "    .dataframe tbody tr th {\n",
       "        vertical-align: top;\n",
       "    }\n",
       "\n",
       "    .dataframe thead th {\n",
       "        text-align: right;\n",
       "    }\n",
       "</style>\n",
       "<table border=\"1\" class=\"dataframe\">\n",
       "  <thead>\n",
       "    <tr style=\"text-align: right;\">\n",
       "      <th></th>\n",
       "      <th>x</th>\n",
       "      <th>y</th>\n",
       "    </tr>\n",
       "  </thead>\n",
       "  <tbody>\n",
       "    <tr>\n",
       "      <th>0</th>\n",
       "      <td>1</td>\n",
       "      <td>12</td>\n",
       "    </tr>\n",
       "    <tr>\n",
       "      <th>1</th>\n",
       "      <td>122</td>\n",
       "      <td>34</td>\n",
       "    </tr>\n",
       "    <tr>\n",
       "      <th>2</th>\n",
       "      <td>-12</td>\n",
       "      <td>323</td>\n",
       "    </tr>\n",
       "  </tbody>\n",
       "</table>\n",
       "</div>"
      ],
      "text/plain": [
       "     x    y\n",
       "0    1   12\n",
       "1  122   34\n",
       "2  -12  323"
      ]
     },
     "execution_count": 89,
     "metadata": {},
     "output_type": "execute_result"
    }
   ],
   "source": [
    "#input_data = pd.read_csv(input_file, header=None, names=['x', 'y'])\n",
    "plt.plot(input_data_sin['x'], input_data_sin['y'], 'r.')\n",
    "plt.plot(x_range, [math.sin(x) for x in x_range], 'b')\n",
    "plt.show()\n",
    "input_data"
   ]
  },
  {
   "cell_type": "code",
   "execution_count": 98,
   "metadata": {},
   "outputs": [
    {
     "name": "stdout",
     "output_type": "stream",
     "text": [
      "[[-0.004578802927915054], [0.07552951704506544], [-0.35572961803047565], [0.269807641023006], [0.7655473886840987], [0.02876341554306913]]\n"
     ]
    },
    {
     "data": {
      "image/png": "[encoded data removed]",
      "text/plain": [
       "<Figure size 432x288 with 1 Axes>"
      ]
     },
     "metadata": {},
     "output_type": "display_data"
    }
   ],
   "source": [
    "x_vector = linear_regression(input_data_sin, 6, 0.01)\n",
    "print(x_vector)\n",
    "answer_line = polynomial_equation(x_vector)\n",
    "y_range = [answer_line(x) for x in x_range]\n",
    "plt.plot(x_range, [math.sin(x) for x in x_range], 'y', label='origin data source')\n",
    "plt.plot(x_range, y_range, 'b--', label='regression')\n",
    "plt.plot(input_data_sin['x'], input_data_sin['y'], 'ro', label='data point')\n",
    "plt.legend()\n",
    "plt.show()"
   ]
  },
  {
   "cell_type": "code",
   "execution_count": null,
   "metadata": {},
   "outputs": [],
   "source": []
  }
 ],
 "metadata": {
  "kernelspec": {
   "display_name": "Python 3",
   "language": "python",
   "name": "python3"
  },
  "language_info": {
   "codemirror_mode": {
    "name": "ipython",
    "version": 3
   },
   "file_extension": ".py",
   "mimetype": "text/x-python",
   "name": "python",
   "nbconvert_exporter": "python",
   "pygments_lexer": "ipython3",
   "version": "3.6.5"
  }
 },
 "nbformat": 4,
 "nbformat_minor": 2
}
