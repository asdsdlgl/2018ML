{
 "cells": [
  {
   "cell_type": "markdown",
   "metadata": {},
   "source": [
    "# HW5\n",
    "\n",
    "### practice Support Vector Machine\n",
    "\n",
    "- training\n",
    "    - `X_train.csv`\n",
    "        - image\n",
    "        - 5000 * 784(28 * 28)\n",
    "    - `T_train.csv`\n",
    "        - label\n",
    "        - 5000 * 1\n",
    "- testing\n",
    "    - `X_test.csv`\n",
    "        - image\n",
    "        - 2500 * 784(28 * 28)\n",
    "    - `T_test.csv`\n",
    "        - label\n",
    "        - 2500 * 1"
   ]
  },
  {
   "cell_type": "code",
   "execution_count": 179,
   "metadata": {},
   "outputs": [],
   "source": [
    "import numpy as np\n",
    "from matplotlib import pyplot as plt\n",
    "import libsvm.python.svm as svm\n",
    "import libsvm.python.svmutil as svmutil\n",
    "import scipy\n",
    "import ctypes\n",
    "import pandas as pd"
   ]
  },
  {
   "cell_type": "code",
   "execution_count": null,
   "metadata": {},
   "outputs": [],
   "source": [
    "from time import time\n",
    "\n",
    "start_tic_time = 0\n",
    "def tic():\n",
    "    start_tic_time = time()\n",
    "    return start_tic_time\n",
    "\n",
    "def toc():\n",
    "    elapsed_time = time() - start_tic_time\n",
    "    return elapsed_time"
   ]
  },
  {
   "cell_type": "code",
   "execution_count": 2,
   "metadata": {},
   "outputs": [],
   "source": [
    "X_train = np.genfromtxt('X_train.csv', delimiter=',')\n",
    "T_train = np.genfromtxt('T_train.csv', delimiter=',')\n",
    "X_test = np.genfromtxt('X_test.csv', delimiter=',')\n",
    "T_test = np.genfromtxt('T_test.csv', delimiter=',')"
   ]
  },
  {
   "cell_type": "markdown",
   "metadata": {},
   "source": [
    "#### prepare data fit libsvm format\n",
    "\n",
    "- in csv\n",
    "\n",
    "```\n",
    "label index:value index:value ...\n",
    "label index:value index:value ...\n",
    "```\n",
    "\n",
    "- in python struct\n",
    "\n",
    "```python\n",
    "label = [1,2]\n",
    "data = [{1:2,3:1},{3:2,10:1}]\n",
    "```"
   ]
  },
  {
   "cell_type": "code",
   "execution_count": 356,
   "metadata": {},
   "outputs": [],
   "source": [
    "def sparse_matrix(x, iskernel=False):\n",
    "    row = x.shape[0]\n",
    "    col = x.shape[1]\n",
    "    idx_offset = 1\n",
    "    if (iskernel):\n",
    "        x = np.append(np.linspace(1,row,row), x).reshape(col+1,row).T\n",
    "        idx_offset = 0\n",
    "    x = [{idx+idx_offset:x[i][idx] for _,idx in np.ndenumerate(np.argwhere(x[i]!=0))} for i in range(x.shape[0])]\n",
    "    return x"
   ]
  },
  {
   "cell_type": "code",
   "execution_count": 287,
   "metadata": {},
   "outputs": [
    {
     "name": "stdout",
     "output_type": "stream",
     "text": [
      "CPU times: user 2.05 s, sys: 24 ms, total: 2.07 s\n",
      "Wall time: 2.07 s\n"
     ]
    }
   ],
   "source": [
    "%%time\n",
    "x_train = sparse_matrix(X_train)\n",
    "y_train = list(T_train)\n",
    "#x_train = [{idx+1:X_train[i][idx] for _,idx in np.ndenumerate(np.argwhere(X_train[i]!=0))} for i in range(X_train.shape[0])]\n",
    "\n",
    "x_test = sparse_matrix(X_test)\n",
    "y_test = list(T_test)\n",
    "#x_test = [{idx+1:X_test[i][idx] for _,idx in np.ndenumerate(np.argwhere(X_test[i]!=0))} for i in range(X_test.shape[0])]"
   ]
  },
  {
   "cell_type": "code",
   "execution_count": null,
   "metadata": {},
   "outputs": [],
   "source": []
  },
  {
   "cell_type": "code",
   "execution_count": null,
   "metadata": {},
   "outputs": [],
   "source": []
  },
  {
   "cell_type": "markdown",
   "metadata": {},
   "source": [
    "### different kernel functions\n",
    "\n",
    "- linear\n",
    "\n",
    "$ K(u,v) = u^Tv$\n",
    "\n",
    "- polynomial\n",
    "\n",
    "$ K(u,v,c,d) = (u^Tv + c)^d$\n",
    "\n",
    "- RBF\n",
    "\n",
    "$ K(u,v,\\gamma) = exp({-\\gamma |u - v|^2}) $\n",
    "\n",
    "#### libsvm option\n",
    "\n",
    "```\n",
    "options:\n",
    "-s svm_type : set type of SVM (default 0)\n",
    "\t0 -- C-SVC\n",
    "\t1 -- nu-SVC\n",
    "\t2 -- one-class SVM\n",
    "\t3 -- epsilon-SVR\n",
    "\t4 -- nu-SVR\n",
    "-t kernel_type : set type of kernel function (default 2)\n",
    "\t0 -- linear: u'*v\n",
    "\t1 -- polynomial: (gamma*u'*v + coef0)^degree\n",
    "\t2 -- radial basis function: exp(-gamma*|u-v|^2)\n",
    "\t3 -- sigmoid: tanh(gamma*u'*v + coef0)\n",
    "-d degree : set degree in kernel function (default 3)\n",
    "-g gamma : set gamma in kernel function (default 1/num_features)\n",
    "-r coef0 : set coef0 in kernel function (default 0)\n",
    "-c cost : set the parameter C of C-SVC, epsilon-SVR, and nu-SVR (default 1)\n",
    "-n nu : set the parameter nu of nu-SVC, one-class SVM, and nu-SVR (default 0.5)\n",
    "-p epsilon : set the epsilon in loss function of epsilon-SVR (default 0.1)\n",
    "-m cachesize : set cache memory size in MB (default 100)\n",
    "-e epsilon : set tolerance of termination criterion (default 0.001)\n",
    "-h shrinking: whether to use the shrinking heuristics, 0 or 1 (default 1)\n",
    "-b probability_estimates: whether to train a SVC or SVR model for probability estimates, 0 or 1 (default 0)\n",
    "-wi weight: set the parameter C of class i to weight*C, for C-SVC (default 1)\n",
    "```\n",
    "\n",
    "[LIBSVM学习（六）代码结构及c-SVC过程](https://blog.csdn.net/u014772862/article/details/51835192)"
   ]
  },
  {
   "cell_type": "code",
   "execution_count": 72,
   "metadata": {},
   "outputs": [],
   "source": [
    "m = {}\n",
    "p_label = {}\n",
    "p_acc = {}\n",
    "p_val = {}"
   ]
  },
  {
   "cell_type": "code",
   "execution_count": 86,
   "metadata": {},
   "outputs": [],
   "source": [
    "parastrs = {\n",
    "    'linear' : '-t 0',\n",
    "    'polynomial d=3 c=0' : '-t 1 -d 3 -r 0',\n",
    "    'polynomial d=3 c=1' : '-t 1 -d 3 -r 1',\n",
    "    'polynomial d=10 c=0' : '-t 1 -d 10 -r 0',\n",
    "    'polynomial d=10 c=1' : '-t 1 -d 10 -r 1',\n",
    "    'RBF g=0.0013' : '-t 2 -g 0.0013',\n",
    "    'RBF g=0.0033' : '-t 2 -g 0.0033',\n",
    "    'RBF g=0.5' : '-t 2 -g 0.5',\n",
    "    'RBF g=1' : '-t 2 -g 1',\n",
    "}"
   ]
  },
  {
   "cell_type": "code",
   "execution_count": 87,
   "metadata": {},
   "outputs": [
    {
     "name": "stdout",
     "output_type": "stream",
     "text": [
      "Accuracy = 95.08% (2377/2500) (classification)\n",
      "kernel type : linear , acc : (95.08, 0.1404, 0.931149802516624)\n",
      "\n",
      "Accuracy = 34.68% (867/2500) (classification)\n",
      "kernel type : polynomial d=3 c=0 , acc : (34.68, 2.6212, 0.14887572191533946)\n",
      "\n",
      "Accuracy = 95.76% (2394/2500) (classification)\n",
      "kernel type : polynomial d=3 c=1 , acc : (95.76, 0.1356, 0.9336123460070571)\n",
      "\n",
      "Accuracy = 20.72% (518/2500) (classification)\n",
      "kernel type : polynomial d=10 c=0 , acc : (20.72, 2.9884, 0.007062945744989033)\n",
      "\n",
      "Accuracy = 97.32% (2432/2500) (classification)\n",
      "kernel type : polynomial d=10 c=1 , acc : (97.32, 0.0924, 0.954375041275707)\n",
      "\n",
      "Accuracy = 95.32% (2383/2500) (classification)\n",
      "kernel type : RBF g=0.0013 , acc : (95.32000000000001, 0.1492, 0.9271864783823697)\n",
      "\n",
      "Accuracy = 96.36% (2409/2500) (classification)\n",
      "kernel type : RBF g=0.0033 , acc : (96.36, 0.1188, 0.9415603861168684)\n",
      "\n",
      "Accuracy = 43% (1075/2500) (classification)\n",
      "kernel type : RBF g=0.5 , acc : (43.0, 1.5768, 0.219471432111856)\n",
      "\n",
      "Accuracy = 30.04% (751/2500) (classification)\n",
      "kernel type : RBF g=1 , acc : (30.04, 1.8708, 0.06844558218993847)\n",
      "\n",
      "CPU times: user 51.5 s, sys: 148 ms, total: 51.6 s\n",
      "Wall time: 51.7 s\n"
     ]
    }
   ],
   "source": [
    "%%time\n",
    "\n",
    "for kernel_type, opts in parastrs.items():\n",
    "    if not (kernel_type in m):\n",
    "        m[kernel_type] = svmutil.svm_train(y_train, x_train, opts)\n",
    "        p_label[kernel_type], p_acc[kernel_type], p_val[kernel_type]= svmutil.svm_predict(y_test, x_test, m[kernel_type])\n",
    "    else:\n",
    "        print('Accuracy = {:.2f}% ({:d}/{:d}) (classification)'.format(p_acc[kernel_type][0], int((len(y_test)*p_acc[kernel_type][0])/100), int(len(y_test))))\n",
    "        #print('')\n",
    "    print('kernel type : {} , acc : {}\\n'.format(kernel_type, p_acc[kernel_type]))"
   ]
  },
  {
   "cell_type": "code",
   "execution_count": null,
   "metadata": {},
   "outputs": [],
   "source": []
  },
  {
   "cell_type": "code",
   "execution_count": 205,
   "metadata": {},
   "outputs": [],
   "source": [
    "#help(svmutil.svm_train)"
   ]
  },
  {
   "cell_type": "code",
   "execution_count": 288,
   "metadata": {},
   "outputs": [],
   "source": [
    "#help(svmutil.svm_problem)\n",
    "prob = svmutil.svm_problem(y_train, x_train)"
   ]
  },
  {
   "cell_type": "code",
   "execution_count": null,
   "metadata": {},
   "outputs": [],
   "source": []
  },
  {
   "cell_type": "markdown",
   "metadata": {},
   "source": [
    "### use C-SVC\n",
    "\n",
    "use grid search and cross-validation\n",
    "\n",
    "```\n",
    "-v n: n-fold cross validation mode\n",
    "```"
   ]
  },
  {
   "cell_type": "code",
   "execution_count": 292,
   "metadata": {},
   "outputs": [],
   "source": [
    "def GridSearchForSVM(kernel, parameter_matrix, problem, n_ford=10):\n",
    "    opts = list(parameter_matrix.keys())\n",
    "    opts_max = np.array([len(parameter_matrix[opts[i]]) for i in range(len(opts))])\n",
    "    current_opt = np.array([0 for i in range(len(opts))])\n",
    "    results = [];\n",
    "    \n",
    "    optstr_init = '-t {:d} -v {:d} '.format(int(kernel),int(n_ford))\n",
    "    \n",
    "    overflow = False\n",
    "    while(True):\n",
    "        while (np.count_nonzero(current_opt >= opts_max)):\n",
    "            reset_indicator = np.argwhere(current_opt >= opts_max)\n",
    "            current_opt[reset_indicator[-1]] -= opts_max[reset_indicator[-1]] \n",
    "            if (reset_indicator[-1]-1 < 0):\n",
    "                overflow = True\n",
    "                break;\n",
    "            current_opt[reset_indicator[-1]-1] += 1\n",
    "        \n",
    "        if (overflow):\n",
    "            break\n",
    "        \n",
    "        # gen option string\n",
    "        optstr = optstr_init\n",
    "        result = []\n",
    "        for idx,para in enumerate(current_opt):\n",
    "            optkey = opts[idx]\n",
    "            optstr += '-' + str(optkey) + ' ' + str(parameter_matrix[optkey][para]) + ' '\n",
    "            result.append(parameter_matrix[optkey][para])\n",
    "        \n",
    "        # get cross-validation result\n",
    "        result.append(optstr)\n",
    "        result.append(svmutil.svm_train(problem, optstr))\n",
    "        \n",
    "        results.append(result)\n",
    "        # try next options\n",
    "        current_opt[-1] += 1\n",
    "    \n",
    "    opts += ['opt str', 'result']\n",
    "    return results, opts"
   ]
  },
  {
   "cell_type": "code",
   "execution_count": null,
   "metadata": {
    "scrolled": true
   },
   "outputs": [],
   "source": []
  },
  {
   "cell_type": "code",
   "execution_count": null,
   "metadata": {},
   "outputs": [],
   "source": []
  },
  {
   "cell_type": "code",
   "execution_count": 344,
   "metadata": {},
   "outputs": [
    {
     "name": "stdout",
     "output_type": "stream",
     "text": [
      "Cross Validation Accuracy = 79.32%\n",
      "Cross Validation Accuracy = 97.06%\n",
      "Cross Validation Accuracy = 96.24%\n",
      "Cross Validation Accuracy = 96.32%\n",
      "Cross Validation Accuracy = 96.28%\n",
      "CPU times: user 7min 11s, sys: 87.7 ms, total: 7min 11s\n",
      "Wall time: 7min 11s\n"
     ]
    }
   ],
   "source": [
    "%%time\n",
    "linear_results, linear_options = GridSearchForSVM(0, {'c' : [10**-5,10**-2,1,10**2,10**5]}, prob)"
   ]
  },
  {
   "cell_type": "code",
   "execution_count": 345,
   "metadata": {},
   "outputs": [
    {
     "data": {
      "text/html": [
       "<div>\n",
       "<style scoped>\n",
       "    .dataframe tbody tr th:only-of-type {\n",
       "        vertical-align: middle;\n",
       "    }\n",
       "\n",
       "    .dataframe tbody tr th {\n",
       "        vertical-align: top;\n",
       "    }\n",
       "\n",
       "    .dataframe thead th {\n",
       "        text-align: right;\n",
       "    }\n",
       "</style>\n",
       "<table border=\"1\" class=\"dataframe\">\n",
       "  <thead>\n",
       "    <tr style=\"text-align: right;\">\n",
       "      <th></th>\n",
       "      <th>c</th>\n",
       "      <th>opt str</th>\n",
       "      <th>result</th>\n",
       "    </tr>\n",
       "  </thead>\n",
       "  <tbody>\n",
       "    <tr>\n",
       "      <th>1</th>\n",
       "      <td>0.01000</td>\n",
       "      <td>-t 0 -v 10 -c 0.01</td>\n",
       "      <td>97.06</td>\n",
       "    </tr>\n",
       "    <tr>\n",
       "      <th>3</th>\n",
       "      <td>100.00000</td>\n",
       "      <td>-t 0 -v 10 -c 100</td>\n",
       "      <td>96.32</td>\n",
       "    </tr>\n",
       "    <tr>\n",
       "      <th>4</th>\n",
       "      <td>100000.00000</td>\n",
       "      <td>-t 0 -v 10 -c 100000</td>\n",
       "      <td>96.28</td>\n",
       "    </tr>\n",
       "    <tr>\n",
       "      <th>2</th>\n",
       "      <td>1.00000</td>\n",
       "      <td>-t 0 -v 10 -c 1</td>\n",
       "      <td>96.24</td>\n",
       "    </tr>\n",
       "    <tr>\n",
       "      <th>0</th>\n",
       "      <td>0.00001</td>\n",
       "      <td>-t 0 -v 10 -c 1e-05</td>\n",
       "      <td>79.32</td>\n",
       "    </tr>\n",
       "  </tbody>\n",
       "</table>\n",
       "</div>"
      ],
      "text/plain": [
       "              c                opt str  result\n",
       "1       0.01000    -t 0 -v 10 -c 0.01    97.06\n",
       "3     100.00000     -t 0 -v 10 -c 100    96.32\n",
       "4  100000.00000  -t 0 -v 10 -c 100000    96.28\n",
       "2       1.00000       -t 0 -v 10 -c 1    96.24\n",
       "0       0.00001   -t 0 -v 10 -c 1e-05    79.32"
      ]
     },
     "metadata": {},
     "output_type": "display_data"
    }
   ],
   "source": [
    "linear_table = pd.DataFrame(linear_results, columns=linear_options)\n",
    "\n",
    "linear_table.to_csv('linear_results.csv')\n",
    "\n",
    "display(linear_table.sort_values(by=['result'], ascending=False))"
   ]
  },
  {
   "cell_type": "code",
   "execution_count": null,
   "metadata": {},
   "outputs": [],
   "source": []
  },
  {
   "cell_type": "code",
   "execution_count": 346,
   "metadata": {},
   "outputs": [],
   "source": [
    "#pd.read_csv('linear_results.csv', index_col=0)"
   ]
  },
  {
   "cell_type": "code",
   "execution_count": 347,
   "metadata": {
    "scrolled": true
   },
   "outputs": [
    {
     "name": "stdout",
     "output_type": "stream",
     "text": [
      "Cross Validation Accuracy = 45.48%\n",
      "Cross Validation Accuracy = 28.24%\n",
      "Cross Validation Accuracy = 23.48%\n",
      "Cross Validation Accuracy = 20.5%\n",
      "Cross Validation Accuracy = 78.22%\n",
      "Cross Validation Accuracy = 81.12%\n",
      "Cross Validation Accuracy = 85.8%\n",
      "Cross Validation Accuracy = 92.4%\n",
      "Cross Validation Accuracy = 87.04%\n",
      "Cross Validation Accuracy = 33.84%\n",
      "Cross Validation Accuracy = 23.42%\n",
      "Cross Validation Accuracy = 20.5%\n",
      "Cross Validation Accuracy = 96.34%\n",
      "Cross Validation Accuracy = 96.78%\n",
      "Cross Validation Accuracy = 97.1%\n",
      "Cross Validation Accuracy = 97.7%\n",
      "Cross Validation Accuracy = 97.76%\n",
      "Cross Validation Accuracy = 93.34%\n",
      "Cross Validation Accuracy = 68.16%\n",
      "Cross Validation Accuracy = 20.48%\n",
      "Cross Validation Accuracy = 97.04%\n",
      "Cross Validation Accuracy = 97.36%\n",
      "Cross Validation Accuracy = 97.3%\n",
      "Cross Validation Accuracy = 97.84%\n",
      "CPU times: user 1h 16min 9s, sys: 1.49 s, total: 1h 16min 11s\n",
      "Wall time: 1h 16min 14s\n"
     ]
    }
   ],
   "source": [
    "%%time\n",
    "poly_results, poly_options = GridSearchForSVM(1, {'c' : [10**-2,1,10**2],'r' : [0,1],'d' : [2,3,4,10]}, prob)"
   ]
  },
  {
   "cell_type": "code",
   "execution_count": 231,
   "metadata": {
    "scrolled": true
   },
   "outputs": [
    {
     "data": {
      "text/html": [
       "<div>\n",
       "<style scoped>\n",
       "    .dataframe tbody tr th:only-of-type {\n",
       "        vertical-align: middle;\n",
       "    }\n",
       "\n",
       "    .dataframe tbody tr th {\n",
       "        vertical-align: top;\n",
       "    }\n",
       "\n",
       "    .dataframe thead th {\n",
       "        text-align: right;\n",
       "    }\n",
       "</style>\n",
       "<table border=\"1\" class=\"dataframe\">\n",
       "  <thead>\n",
       "    <tr style=\"text-align: right;\">\n",
       "      <th></th>\n",
       "      <th>c</th>\n",
       "      <th>r</th>\n",
       "      <th>d</th>\n",
       "      <th>opt str</th>\n",
       "      <th>result</th>\n",
       "    </tr>\n",
       "  </thead>\n",
       "  <tbody>\n",
       "    <tr>\n",
       "      <th>23</th>\n",
       "      <td>100.00</td>\n",
       "      <td>1</td>\n",
       "      <td>10</td>\n",
       "      <td>-t 1 -v 10 -c 100 -r 1 -d 10</td>\n",
       "      <td>97.82</td>\n",
       "    </tr>\n",
       "    <tr>\n",
       "      <th>16</th>\n",
       "      <td>100.00</td>\n",
       "      <td>0</td>\n",
       "      <td>2</td>\n",
       "      <td>-t 1 -v 10 -c 100 -r 0 -d 2</td>\n",
       "      <td>97.76</td>\n",
       "    </tr>\n",
       "    <tr>\n",
       "      <th>15</th>\n",
       "      <td>1.00</td>\n",
       "      <td>1</td>\n",
       "      <td>10</td>\n",
       "      <td>-t 1 -v 10 -c 1 -r 1 -d 10</td>\n",
       "      <td>97.76</td>\n",
       "    </tr>\n",
       "    <tr>\n",
       "      <th>22</th>\n",
       "      <td>100.00</td>\n",
       "      <td>1</td>\n",
       "      <td>4</td>\n",
       "      <td>-t 1 -v 10 -c 100 -r 1 -d 4</td>\n",
       "      <td>97.52</td>\n",
       "    </tr>\n",
       "    <tr>\n",
       "      <th>21</th>\n",
       "      <td>100.00</td>\n",
       "      <td>1</td>\n",
       "      <td>3</td>\n",
       "      <td>-t 1 -v 10 -c 100 -r 1 -d 3</td>\n",
       "      <td>97.28</td>\n",
       "    </tr>\n",
       "    <tr>\n",
       "      <th>20</th>\n",
       "      <td>100.00</td>\n",
       "      <td>1</td>\n",
       "      <td>2</td>\n",
       "      <td>-t 1 -v 10 -c 100 -r 1 -d 2</td>\n",
       "      <td>97.04</td>\n",
       "    </tr>\n",
       "    <tr>\n",
       "      <th>14</th>\n",
       "      <td>1.00</td>\n",
       "      <td>1</td>\n",
       "      <td>4</td>\n",
       "      <td>-t 1 -v 10 -c 1 -r 1 -d 4</td>\n",
       "      <td>96.98</td>\n",
       "    </tr>\n",
       "    <tr>\n",
       "      <th>13</th>\n",
       "      <td>1.00</td>\n",
       "      <td>1</td>\n",
       "      <td>3</td>\n",
       "      <td>-t 1 -v 10 -c 1 -r 1 -d 3</td>\n",
       "      <td>96.84</td>\n",
       "    </tr>\n",
       "    <tr>\n",
       "      <th>12</th>\n",
       "      <td>1.00</td>\n",
       "      <td>1</td>\n",
       "      <td>2</td>\n",
       "      <td>-t 1 -v 10 -c 1 -r 1 -d 2</td>\n",
       "      <td>96.42</td>\n",
       "    </tr>\n",
       "    <tr>\n",
       "      <th>17</th>\n",
       "      <td>100.00</td>\n",
       "      <td>0</td>\n",
       "      <td>3</td>\n",
       "      <td>-t 1 -v 10 -c 100 -r 0 -d 3</td>\n",
       "      <td>93.36</td>\n",
       "    </tr>\n",
       "    <tr>\n",
       "      <th>7</th>\n",
       "      <td>0.01</td>\n",
       "      <td>1</td>\n",
       "      <td>10</td>\n",
       "      <td>-t 1 -v 10 -c 0.01 -r 1 -d 10</td>\n",
       "      <td>92.46</td>\n",
       "    </tr>\n",
       "    <tr>\n",
       "      <th>8</th>\n",
       "      <td>1.00</td>\n",
       "      <td>0</td>\n",
       "      <td>2</td>\n",
       "      <td>-t 1 -v 10 -c 1 -r 0 -d 2</td>\n",
       "      <td>87.06</td>\n",
       "    </tr>\n",
       "    <tr>\n",
       "      <th>6</th>\n",
       "      <td>0.01</td>\n",
       "      <td>1</td>\n",
       "      <td>4</td>\n",
       "      <td>-t 1 -v 10 -c 0.01 -r 1 -d 4</td>\n",
       "      <td>85.80</td>\n",
       "    </tr>\n",
       "    <tr>\n",
       "      <th>5</th>\n",
       "      <td>0.01</td>\n",
       "      <td>1</td>\n",
       "      <td>3</td>\n",
       "      <td>-t 1 -v 10 -c 0.01 -r 1 -d 3</td>\n",
       "      <td>81.14</td>\n",
       "    </tr>\n",
       "    <tr>\n",
       "      <th>4</th>\n",
       "      <td>0.01</td>\n",
       "      <td>1</td>\n",
       "      <td>2</td>\n",
       "      <td>-t 1 -v 10 -c 0.01 -r 1 -d 2</td>\n",
       "      <td>78.26</td>\n",
       "    </tr>\n",
       "    <tr>\n",
       "      <th>18</th>\n",
       "      <td>100.00</td>\n",
       "      <td>0</td>\n",
       "      <td>4</td>\n",
       "      <td>-t 1 -v 10 -c 100 -r 0 -d 4</td>\n",
       "      <td>68.02</td>\n",
       "    </tr>\n",
       "    <tr>\n",
       "      <th>0</th>\n",
       "      <td>0.01</td>\n",
       "      <td>0</td>\n",
       "      <td>2</td>\n",
       "      <td>-t 1 -v 10 -c 0.01 -r 0 -d 2</td>\n",
       "      <td>45.20</td>\n",
       "    </tr>\n",
       "    <tr>\n",
       "      <th>9</th>\n",
       "      <td>1.00</td>\n",
       "      <td>0</td>\n",
       "      <td>3</td>\n",
       "      <td>-t 1 -v 10 -c 1 -r 0 -d 3</td>\n",
       "      <td>33.64</td>\n",
       "    </tr>\n",
       "    <tr>\n",
       "      <th>1</th>\n",
       "      <td>0.01</td>\n",
       "      <td>0</td>\n",
       "      <td>3</td>\n",
       "      <td>-t 1 -v 10 -c 0.01 -r 0 -d 3</td>\n",
       "      <td>28.12</td>\n",
       "    </tr>\n",
       "    <tr>\n",
       "      <th>10</th>\n",
       "      <td>1.00</td>\n",
       "      <td>0</td>\n",
       "      <td>4</td>\n",
       "      <td>-t 1 -v 10 -c 1 -r 0 -d 4</td>\n",
       "      <td>23.52</td>\n",
       "    </tr>\n",
       "    <tr>\n",
       "      <th>2</th>\n",
       "      <td>0.01</td>\n",
       "      <td>0</td>\n",
       "      <td>4</td>\n",
       "      <td>-t 1 -v 10 -c 0.01 -r 0 -d 4</td>\n",
       "      <td>23.44</td>\n",
       "    </tr>\n",
       "    <tr>\n",
       "      <th>19</th>\n",
       "      <td>100.00</td>\n",
       "      <td>0</td>\n",
       "      <td>10</td>\n",
       "      <td>-t 1 -v 10 -c 100 -r 0 -d 10</td>\n",
       "      <td>20.52</td>\n",
       "    </tr>\n",
       "    <tr>\n",
       "      <th>3</th>\n",
       "      <td>0.01</td>\n",
       "      <td>0</td>\n",
       "      <td>10</td>\n",
       "      <td>-t 1 -v 10 -c 0.01 -r 0 -d 10</td>\n",
       "      <td>20.52</td>\n",
       "    </tr>\n",
       "    <tr>\n",
       "      <th>11</th>\n",
       "      <td>1.00</td>\n",
       "      <td>0</td>\n",
       "      <td>10</td>\n",
       "      <td>-t 1 -v 10 -c 1 -r 0 -d 10</td>\n",
       "      <td>20.48</td>\n",
       "    </tr>\n",
       "  </tbody>\n",
       "</table>\n",
       "</div>"
      ],
      "text/plain": [
       "         c  r   d                         opt str  result\n",
       "23  100.00  1  10   -t 1 -v 10 -c 100 -r 1 -d 10    97.82\n",
       "16  100.00  0   2    -t 1 -v 10 -c 100 -r 0 -d 2    97.76\n",
       "15    1.00  1  10     -t 1 -v 10 -c 1 -r 1 -d 10    97.76\n",
       "22  100.00  1   4    -t 1 -v 10 -c 100 -r 1 -d 4    97.52\n",
       "21  100.00  1   3    -t 1 -v 10 -c 100 -r 1 -d 3    97.28\n",
       "20  100.00  1   2    -t 1 -v 10 -c 100 -r 1 -d 2    97.04\n",
       "14    1.00  1   4      -t 1 -v 10 -c 1 -r 1 -d 4    96.98\n",
       "13    1.00  1   3      -t 1 -v 10 -c 1 -r 1 -d 3    96.84\n",
       "12    1.00  1   2      -t 1 -v 10 -c 1 -r 1 -d 2    96.42\n",
       "17  100.00  0   3    -t 1 -v 10 -c 100 -r 0 -d 3    93.36\n",
       "7     0.01  1  10  -t 1 -v 10 -c 0.01 -r 1 -d 10    92.46\n",
       "8     1.00  0   2      -t 1 -v 10 -c 1 -r 0 -d 2    87.06\n",
       "6     0.01  1   4   -t 1 -v 10 -c 0.01 -r 1 -d 4    85.80\n",
       "5     0.01  1   3   -t 1 -v 10 -c 0.01 -r 1 -d 3    81.14\n",
       "4     0.01  1   2   -t 1 -v 10 -c 0.01 -r 1 -d 2    78.26\n",
       "18  100.00  0   4    -t 1 -v 10 -c 100 -r 0 -d 4    68.02\n",
       "0     0.01  0   2   -t 1 -v 10 -c 0.01 -r 0 -d 2    45.20\n",
       "9     1.00  0   3      -t 1 -v 10 -c 1 -r 0 -d 3    33.64\n",
       "1     0.01  0   3   -t 1 -v 10 -c 0.01 -r 0 -d 3    28.12\n",
       "10    1.00  0   4      -t 1 -v 10 -c 1 -r 0 -d 4    23.52\n",
       "2     0.01  0   4   -t 1 -v 10 -c 0.01 -r 0 -d 4    23.44\n",
       "19  100.00  0  10   -t 1 -v 10 -c 100 -r 0 -d 10    20.52\n",
       "3     0.01  0  10  -t 1 -v 10 -c 0.01 -r 0 -d 10    20.52\n",
       "11    1.00  0  10     -t 1 -v 10 -c 1 -r 0 -d 10    20.48"
      ]
     },
     "metadata": {},
     "output_type": "display_data"
    }
   ],
   "source": [
    "poly_table = pd.DataFrame(poly_results, columns=poly_options)\n",
    "\n",
    "poly_table.to_csv('poly_results.csv')\n",
    "\n",
    "display(poly_table.sort_values(by=['result'], ascending=False))"
   ]
  },
  {
   "cell_type": "code",
   "execution_count": 348,
   "metadata": {},
   "outputs": [
    {
     "name": "stdout",
     "output_type": "stream",
     "text": [
      "Cross Validation Accuracy = 92.82%\n",
      "Cross Validation Accuracy = 86.98%\n",
      "Cross Validation Accuracy = 81.26%\n",
      "Cross Validation Accuracy = 97.92%\n",
      "Cross Validation Accuracy = 97.3%\n",
      "Cross Validation Accuracy = 96.28%\n",
      "Cross Validation Accuracy = 98.24%\n",
      "Cross Validation Accuracy = 97.84%\n",
      "Cross Validation Accuracy = 97.5%\n",
      "CPU times: user 19min 49s, sys: 536 ms, total: 19min 49s\n",
      "Wall time: 19min 50s\n"
     ]
    }
   ],
   "source": [
    "%%time\n",
    "rbf_results, rbf_options = GridSearchForSVM(2, {'c' : [10**-2,1,10**2],'g' : [1/100,1/300,1/784]}, prob)"
   ]
  },
  {
   "cell_type": "code",
   "execution_count": 232,
   "metadata": {
    "scrolled": false
   },
   "outputs": [
    {
     "data": {
      "text/html": [
       "<div>\n",
       "<style scoped>\n",
       "    .dataframe tbody tr th:only-of-type {\n",
       "        vertical-align: middle;\n",
       "    }\n",
       "\n",
       "    .dataframe tbody tr th {\n",
       "        vertical-align: top;\n",
       "    }\n",
       "\n",
       "    .dataframe thead th {\n",
       "        text-align: right;\n",
       "    }\n",
       "</style>\n",
       "<table border=\"1\" class=\"dataframe\">\n",
       "  <thead>\n",
       "    <tr style=\"text-align: right;\">\n",
       "      <th></th>\n",
       "      <th>c</th>\n",
       "      <th>g</th>\n",
       "      <th>opt str</th>\n",
       "      <th>result</th>\n",
       "    </tr>\n",
       "  </thead>\n",
       "  <tbody>\n",
       "    <tr>\n",
       "      <th>6</th>\n",
       "      <td>100.00</td>\n",
       "      <td>0.010000</td>\n",
       "      <td>-t 2 -v 10 -c 100 -g 0.01</td>\n",
       "      <td>98.38</td>\n",
       "    </tr>\n",
       "    <tr>\n",
       "      <th>7</th>\n",
       "      <td>100.00</td>\n",
       "      <td>0.003333</td>\n",
       "      <td>-t 2 -v 10 -c 100 -g 0.0033333333333333335</td>\n",
       "      <td>97.86</td>\n",
       "    </tr>\n",
       "    <tr>\n",
       "      <th>3</th>\n",
       "      <td>1.00</td>\n",
       "      <td>0.010000</td>\n",
       "      <td>-t 2 -v 10 -c 1 -g 0.01</td>\n",
       "      <td>97.80</td>\n",
       "    </tr>\n",
       "    <tr>\n",
       "      <th>8</th>\n",
       "      <td>100.00</td>\n",
       "      <td>0.001276</td>\n",
       "      <td>-t 2 -v 10 -c 100 -g 0.0012755102040816326</td>\n",
       "      <td>97.56</td>\n",
       "    </tr>\n",
       "    <tr>\n",
       "      <th>4</th>\n",
       "      <td>1.00</td>\n",
       "      <td>0.003333</td>\n",
       "      <td>-t 2 -v 10 -c 1 -g 0.0033333333333333335</td>\n",
       "      <td>97.30</td>\n",
       "    </tr>\n",
       "    <tr>\n",
       "      <th>5</th>\n",
       "      <td>1.00</td>\n",
       "      <td>0.001276</td>\n",
       "      <td>-t 2 -v 10 -c 1 -g 0.0012755102040816326</td>\n",
       "      <td>96.42</td>\n",
       "    </tr>\n",
       "    <tr>\n",
       "      <th>0</th>\n",
       "      <td>0.01</td>\n",
       "      <td>0.010000</td>\n",
       "      <td>-t 2 -v 10 -c 0.01 -g 0.01</td>\n",
       "      <td>92.74</td>\n",
       "    </tr>\n",
       "    <tr>\n",
       "      <th>1</th>\n",
       "      <td>0.01</td>\n",
       "      <td>0.003333</td>\n",
       "      <td>-t 2 -v 10 -c 0.01 -g 0.0033333333333333335</td>\n",
       "      <td>87.12</td>\n",
       "    </tr>\n",
       "    <tr>\n",
       "      <th>2</th>\n",
       "      <td>0.01</td>\n",
       "      <td>0.001276</td>\n",
       "      <td>-t 2 -v 10 -c 0.01 -g 0.0012755102040816326</td>\n",
       "      <td>81.14</td>\n",
       "    </tr>\n",
       "  </tbody>\n",
       "</table>\n",
       "</div>"
      ],
      "text/plain": [
       "        c         g                                       opt str  result\n",
       "6  100.00  0.010000                    -t 2 -v 10 -c 100 -g 0.01    98.38\n",
       "7  100.00  0.003333   -t 2 -v 10 -c 100 -g 0.0033333333333333335    97.86\n",
       "3    1.00  0.010000                      -t 2 -v 10 -c 1 -g 0.01    97.80\n",
       "8  100.00  0.001276   -t 2 -v 10 -c 100 -g 0.0012755102040816326    97.56\n",
       "4    1.00  0.003333     -t 2 -v 10 -c 1 -g 0.0033333333333333335    97.30\n",
       "5    1.00  0.001276     -t 2 -v 10 -c 1 -g 0.0012755102040816326    96.42\n",
       "0    0.01  0.010000                   -t 2 -v 10 -c 0.01 -g 0.01    92.74\n",
       "1    0.01  0.003333  -t 2 -v 10 -c 0.01 -g 0.0033333333333333335    87.12\n",
       "2    0.01  0.001276  -t 2 -v 10 -c 0.01 -g 0.0012755102040816326    81.14"
      ]
     },
     "metadata": {},
     "output_type": "display_data"
    }
   ],
   "source": [
    "rbf_table = pd.DataFrame(rbf_results, columns=rbf_options)\n",
    "\n",
    "rbf_table.to_csv('rbf_results.csv')\n",
    "\n",
    "display(rbf_table.sort_values(by=['result'], ascending=False))"
   ]
  },
  {
   "cell_type": "markdown",
   "metadata": {},
   "source": [
    "### linear + RBF kernel\n",
    "\n",
    "use precomputed data\n",
    "\n",
    "```\n",
    "New training instance for xi:\n",
    "\n",
    "<label> 0:i 1:K(xi,x1) ... L:K(xi,xL)\n",
    "```\n",
    "\n",
    "- problem option\n",
    "```\n",
    "iskernel = True\n",
    "```\n",
    "- train option\n",
    "```\n",
    "    -t 4 precomputed kernel\n",
    "```"
   ]
  },
  {
   "cell_type": "code",
   "execution_count": 349,
   "metadata": {},
   "outputs": [],
   "source": [
    "def dot_square(x):\n",
    "    return np.dot(x, x)\n",
    "\n",
    "def linear_RBF_kernel(u, v, gamma=0.01):\n",
    "    design_x = np.matmul(u, v.T)\n",
    "    rbf_design_x = [[dot_square(u_i-v_i)*(-gamma) for v_i in v] for u_i in u]\n",
    "    rbf_design_x = np.exp(rbf_design_x)\n",
    "    design_x = design_x + rbf_design_x\n",
    "    return design_x"
   ]
  },
  {
   "cell_type": "code",
   "execution_count": 350,
   "metadata": {},
   "outputs": [
    {
     "name": "stdout",
     "output_type": "stream",
     "text": [
      "CPU times: user 2min 20s, sys: 1.64 s, total: 2min 21s\n",
      "Wall time: 2min 16s\n"
     ]
    }
   ],
   "source": [
    "%%time\n",
    "x_train_precomputed = linear_RBF_kernel(X_train, X_train)"
   ]
  },
  {
   "cell_type": "code",
   "execution_count": 351,
   "metadata": {},
   "outputs": [
    {
     "name": "stdout",
     "output_type": "stream",
     "text": [
      "CPU times: user 39.7 s, sys: 536 ms, total: 40.2 s\n",
      "Wall time: 40.3 s\n"
     ]
    }
   ],
   "source": [
    "%%time\n",
    "x_train_precomputed = sparse_matrix(x_train_precomputed, iskernel=True)"
   ]
  },
  {
   "cell_type": "code",
   "execution_count": 303,
   "metadata": {},
   "outputs": [],
   "source": [
    "prob_precomputed = svmutil.svm_problem(y_train, x_train_precomputed, isKernel=True)"
   ]
  },
  {
   "cell_type": "code",
   "execution_count": 358,
   "metadata": {},
   "outputs": [
    {
     "name": "stdout",
     "output_type": "stream",
     "text": [
      "CPU times: user 1min 34s, sys: 1.42 s, total: 1min 35s\n",
      "Wall time: 1min 30s\n"
     ]
    }
   ],
   "source": [
    "%%time\n",
    "x_test_precomputed = linear_RBF_kernel(X_test, X_train)\n",
    "x_test_precomputed = sparse_matrix(x_test_precomputed, iskernel=True)"
   ]
  },
  {
   "cell_type": "code",
   "execution_count": 341,
   "metadata": {
    "scrolled": true
   },
   "outputs": [
    {
     "name": "stdout",
     "output_type": "stream",
     "text": [
      "Cross Validation Accuracy = 79.38%\n",
      "Cross Validation Accuracy = 79.38%\n",
      "Cross Validation Accuracy = 94.72%\n",
      "Cross Validation Accuracy = 97.06%\n",
      "Cross Validation Accuracy = 96.88%\n",
      "Cross Validation Accuracy = 96.48%\n",
      "Cross Validation Accuracy = 96.46%\n",
      "Cross Validation Accuracy = 96.38%\n",
      "Cross Validation Accuracy = 96.08%\n",
      "Cross Validation Accuracy = 96.56%\n",
      "CPU times: user 39 s, sys: 67.9 ms, total: 39.1 s\n",
      "Wall time: 39.1 s\n"
     ]
    }
   ],
   "source": [
    "%%time\n",
    "linear_rbf_results, linear_rbf_options = GridSearchForSVM(4, {'c' : np.logspace(-6,6,10)}, prob_precomputed)"
   ]
  },
  {
   "cell_type": "code",
   "execution_count": 342,
   "metadata": {},
   "outputs": [
    {
     "data": {
      "text/html": [
       "<div>\n",
       "<style scoped>\n",
       "    .dataframe tbody tr th:only-of-type {\n",
       "        vertical-align: middle;\n",
       "    }\n",
       "\n",
       "    .dataframe tbody tr th {\n",
       "        vertical-align: top;\n",
       "    }\n",
       "\n",
       "    .dataframe thead th {\n",
       "        text-align: right;\n",
       "    }\n",
       "</style>\n",
       "<table border=\"1\" class=\"dataframe\">\n",
       "  <thead>\n",
       "    <tr style=\"text-align: right;\">\n",
       "      <th></th>\n",
       "      <th>c</th>\n",
       "      <th>opt str</th>\n",
       "      <th>result</th>\n",
       "    </tr>\n",
       "  </thead>\n",
       "  <tbody>\n",
       "    <tr>\n",
       "      <th>3</th>\n",
       "      <td>0.010000</td>\n",
       "      <td>-t 4 -v 10 -c 0.01</td>\n",
       "      <td>97.06</td>\n",
       "    </tr>\n",
       "    <tr>\n",
       "      <th>4</th>\n",
       "      <td>0.215443</td>\n",
       "      <td>-t 4 -v 10 -c 0.21544346900318823</td>\n",
       "      <td>96.88</td>\n",
       "    </tr>\n",
       "    <tr>\n",
       "      <th>9</th>\n",
       "      <td>1000000.000000</td>\n",
       "      <td>-t 4 -v 10 -c 1000000.0</td>\n",
       "      <td>96.56</td>\n",
       "    </tr>\n",
       "    <tr>\n",
       "      <th>5</th>\n",
       "      <td>4.641589</td>\n",
       "      <td>-t 4 -v 10 -c 4.641588833612772</td>\n",
       "      <td>96.48</td>\n",
       "    </tr>\n",
       "    <tr>\n",
       "      <th>6</th>\n",
       "      <td>100.000000</td>\n",
       "      <td>-t 4 -v 10 -c 100.0</td>\n",
       "      <td>96.46</td>\n",
       "    </tr>\n",
       "    <tr>\n",
       "      <th>7</th>\n",
       "      <td>2154.434690</td>\n",
       "      <td>-t 4 -v 10 -c 2154.434690031878</td>\n",
       "      <td>96.38</td>\n",
       "    </tr>\n",
       "    <tr>\n",
       "      <th>8</th>\n",
       "      <td>46415.888336</td>\n",
       "      <td>-t 4 -v 10 -c 46415.888336127726</td>\n",
       "      <td>96.08</td>\n",
       "    </tr>\n",
       "    <tr>\n",
       "      <th>2</th>\n",
       "      <td>0.000464</td>\n",
       "      <td>-t 4 -v 10 -c 0.00046415888336127773</td>\n",
       "      <td>94.72</td>\n",
       "    </tr>\n",
       "    <tr>\n",
       "      <th>0</th>\n",
       "      <td>0.000001</td>\n",
       "      <td>-t 4 -v 10 -c 1e-06</td>\n",
       "      <td>79.38</td>\n",
       "    </tr>\n",
       "    <tr>\n",
       "      <th>1</th>\n",
       "      <td>0.000022</td>\n",
       "      <td>-t 4 -v 10 -c 2.1544346900318823e-05</td>\n",
       "      <td>79.38</td>\n",
       "    </tr>\n",
       "  </tbody>\n",
       "</table>\n",
       "</div>"
      ],
      "text/plain": [
       "                c                                opt str  result\n",
       "3        0.010000                    -t 4 -v 10 -c 0.01    97.06\n",
       "4        0.215443     -t 4 -v 10 -c 0.21544346900318823    96.88\n",
       "9  1000000.000000               -t 4 -v 10 -c 1000000.0    96.56\n",
       "5        4.641589       -t 4 -v 10 -c 4.641588833612772    96.48\n",
       "6      100.000000                   -t 4 -v 10 -c 100.0    96.46\n",
       "7     2154.434690       -t 4 -v 10 -c 2154.434690031878    96.38\n",
       "8    46415.888336      -t 4 -v 10 -c 46415.888336127726    96.08\n",
       "2        0.000464  -t 4 -v 10 -c 0.00046415888336127773    94.72\n",
       "0        0.000001                   -t 4 -v 10 -c 1e-06    79.38\n",
       "1        0.000022  -t 4 -v 10 -c 2.1544346900318823e-05    79.38"
      ]
     },
     "metadata": {},
     "output_type": "display_data"
    }
   ],
   "source": [
    "linear_rbf_table = pd.DataFrame(linear_rbf_results, columns=linear_rbf_options)\n",
    "\n",
    "linear_rbf_table.to_csv('linear_rbf_results.csv')\n",
    "\n",
    "display(linear_rbf_table.sort_values(by=['result'], ascending=False))"
   ]
  },
  {
   "cell_type": "code",
   "execution_count": 343,
   "metadata": {},
   "outputs": [
    {
     "data": {
      "text/plain": [
       "[<matplotlib.lines.Line2D at 0x7f363b656630>]"
      ]
     },
     "execution_count": 343,
     "metadata": {},
     "output_type": "execute_result"
    },
    {
     "data": {
      "image/png": "[encoded data removed]",
      "text/plain": [
       "<Figure size 432x288 with 1 Axes>"
      ]
     },
     "metadata": {},
     "output_type": "display_data"
    }
   ],
   "source": [
    "plt.plot(linear_rbf_table['c'], linear_rbf_table['result'])"
   ]
  },
  {
   "cell_type": "code",
   "execution_count": null,
   "metadata": {},
   "outputs": [],
   "source": []
  },
  {
   "cell_type": "code",
   "execution_count": null,
   "metadata": {},
   "outputs": [],
   "source": [
    "m = {}\n",
    "p_label = {}\n",
    "p_acc = {}\n",
    "p_val = {}"
   ]
  },
  {
   "cell_type": "code",
   "execution_count": null,
   "metadata": {},
   "outputs": [],
   "source": [
    "parastrs = {\n",
    "    'linear' : '-t 0 -c 0.01',\n",
    "    'polynomial' : '-t 1  -c 100 -r 1 -d 10',\n",
    "    'RBF' : '-t 2  -c 100 -g 0.01',\n",
    "}\n",
    "parastrs_precomputed = {\n",
    "    'linear+RBF' : '-t 4 -c 0.01',\n",
    "}"
   ]
  },
  {
   "cell_type": "code",
   "execution_count": null,
   "metadata": {},
   "outputs": [],
   "source": [
    "%%time\n",
    "\n",
    "for kernel_type, opts in parastrs.items():\n",
    "    if not (kernel_type in m):\n",
    "        m[kernel_type] = svmutil.svm_train(y_train, x_train, opts)\n",
    "        p_label[kernel_type], p_acc[kernel_type], p_val[kernel_type]= svmutil.svm_predict(y_test, x_test, m[kernel_type])\n",
    "    else:\n",
    "        print('Accuracy = {:.2f}% ({:d}/{:d}) (classification)'.format(p_acc[kernel_type][0], int((len(y_test)*p_acc[kernel_type][0])/100), int(len(y_test))))\n",
    "        #print('')\n",
    "    print('kernel type : {} , acc : {}\\n'.format(kernel_type, p_acc[kernel_type]))\n",
    "    \n",
    "for kernel_type, opts in parastrs_precomputed.items():\n",
    "    if not (kernel_type in m):\n",
    "        m[kernel_type] = svmutil.svm_train(y_train, x_train_precomputed, opts)\n",
    "        p_label[kernel_type], p_acc[kernel_type], p_val[kernel_type]= svmutil.svm_predict(y_test, x_test_precomputed, m[kernel_type])\n",
    "    else:\n",
    "        print('Accuracy = {:.2f}% ({:d}/{:d}) (classification)'.format(p_acc[kernel_type][0], int((len(y_test)*p_acc[kernel_type][0])/100), int(len(y_test))))\n",
    "        #print('')\n",
    "    print('kernel type : {} , acc : {}\\n'.format(kernel_type, p_acc[kernel_type]))"
   ]
  },
  {
   "cell_type": "markdown",
   "metadata": {},
   "source": [
    "### report\n",
    "\n",
    "compare 4 diff kernel model\n",
    "\n",
    "- accuracy\n",
    "- number of support vector\n",
    "- train time\n",
    "- test time"
   ]
  },
  {
   "cell_type": "code",
   "execution_count": null,
   "metadata": {},
   "outputs": [],
   "source": []
  }
 ],
 "metadata": {
  "kernelspec": {
   "display_name": "Python 3",
   "language": "python",
   "name": "python3"
  },
  "language_info": {
   "codemirror_mode": {
    "name": "ipython",
    "version": 3
   },
   "file_extension": ".py",
   "mimetype": "text/x-python",
   "name": "python",
   "nbconvert_exporter": "python",
   "pygments_lexer": "ipython3",
   "version": "3.6.6"
  }
 },
 "nbformat": 4,
 "nbformat_minor": 2
}
